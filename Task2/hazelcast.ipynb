{
 "cells": [
  {
   "cell_type": "code",
   "execution_count": 47,
   "metadata": {
    "collapsed": true
   },
   "outputs": [],
   "source": [
    "import hazelcast\n",
    "from threading import Thread, Lock"
   ]
  },
  {
   "cell_type": "code",
   "execution_count": 40,
   "outputs": [],
   "source": [
    "client = hazelcast.HazelcastClient(\n",
    "    cluster_name=\"hello-world\",\n",
    ")\n",
    "\n",
    "my_map = client.get_map(\"my-distributed-map\")"
   ],
   "metadata": {
    "collapsed": false
   }
  },
  {
   "cell_type": "markdown",
   "source": [
    "Non-blocking counter"
   ],
   "metadata": {
    "collapsed": false
   }
  },
  {
   "cell_type": "code",
   "execution_count": 119,
   "outputs": [
    {
     "data": {
      "text/plain": "<hazelcast.future.Future at 0x7fab5a9a9720>"
     },
     "execution_count": 119,
     "metadata": {},
     "output_type": "execute_result"
    }
   ],
   "source": [
    "my_map.put(key=\"counter\", value=0)"
   ],
   "metadata": {
    "collapsed": false
   }
  },
  {
   "cell_type": "code",
   "execution_count": 121,
   "outputs": [],
   "source": [
    "def increment_counter(increment_value=10000):\n",
    "    for _ in range(increment_value):\n",
    "        counter_value = my_map.get(\"counter\").result()\n",
    "        my_map.put(key=\"counter\", value=counter_value + 1)"
   ],
   "metadata": {
    "collapsed": false
   }
  },
  {
   "cell_type": "code",
   "execution_count": 122,
   "outputs": [
    {
     "name": "stdout",
     "output_type": "stream",
     "text": [
      "CPU times: user 10.4 s, sys: 768 ms, total: 11.2 s\n",
      "Wall time: 10.9 s\n"
     ]
    }
   ],
   "source": [
    "%%time\n",
    "threads = []\n",
    "for i in range(10):\n",
    "    thread = Thread(target=increment_counter)\n",
    "    threads.append(thread)\n",
    "    thread.start()\n",
    "\n",
    "for thr in threads:\n",
    "    thr.join()"
   ],
   "metadata": {
    "collapsed": false
   }
  },
  {
   "cell_type": "code",
   "execution_count": 123,
   "outputs": [
    {
     "name": "stdout",
     "output_type": "stream",
     "text": [
      "Finished! Result = 10001\n"
     ]
    }
   ],
   "source": [
    "print(f\"Finished! Result = {my_map.get('counter').result()}\")"
   ],
   "metadata": {
    "collapsed": false
   }
  },
  {
   "cell_type": "markdown",
   "source": [
    "Pessimistic-locking counter"
   ],
   "metadata": {
    "collapsed": false
   }
  },
  {
   "cell_type": "code",
   "execution_count": 53,
   "outputs": [
    {
     "data": {
      "text/plain": "<hazelcast.future.Future at 0x7fab8e88efe0>"
     },
     "execution_count": 53,
     "metadata": {},
     "output_type": "execute_result"
    }
   ],
   "source": [
    "my_map.put(key=\"counter\", value=0)"
   ],
   "metadata": {
    "collapsed": false
   }
  },
  {
   "cell_type": "code",
   "execution_count": 54,
   "outputs": [],
   "source": [
    "counter_lock = Lock()"
   ],
   "metadata": {
    "collapsed": false
   }
  },
  {
   "cell_type": "code",
   "execution_count": 55,
   "outputs": [],
   "source": [
    "def increment_counter_locking(increment_value=10000):\n",
    "    for _ in range(increment_value):\n",
    "        with counter_lock:\n",
    "            counter_value = my_map.get(\"counter\").result()\n",
    "            my_map.put(key=\"counter\", value=counter_value + 1)"
   ],
   "metadata": {
    "collapsed": false
   }
  },
  {
   "cell_type": "code",
   "execution_count": 56,
   "outputs": [
    {
     "name": "stdout",
     "output_type": "stream",
     "text": [
      "CPU times: user 1min 2s, sys: 10.5 s, total: 1min 12s\n",
      "Wall time: 6min 6s\n"
     ]
    }
   ],
   "source": [
    "%%time\n",
    "threads = []\n",
    "for i in range(10):\n",
    "    thread = Thread(target=increment_counter_locking)\n",
    "    threads.append(thread)\n",
    "    thread.start()\n",
    "\n",
    "for thr in threads:\n",
    "    thr.join()"
   ],
   "metadata": {
    "collapsed": false
   }
  },
  {
   "cell_type": "code",
   "execution_count": 57,
   "outputs": [
    {
     "name": "stdout",
     "output_type": "stream",
     "text": [
      "Finished! Result = 100000\n"
     ]
    }
   ],
   "source": [
    "print(f\"Finished! Result = {my_map.get('counter').result()}\")"
   ],
   "metadata": {
    "collapsed": false
   }
  },
  {
   "cell_type": "markdown",
   "source": [
    "Optimistic-locking counter"
   ],
   "metadata": {
    "collapsed": false
   }
  },
  {
   "cell_type": "code",
   "execution_count": 67,
   "outputs": [
    {
     "data": {
      "text/plain": "<hazelcast.future.Future at 0x7fab8cf866b0>"
     },
     "execution_count": 67,
     "metadata": {},
     "output_type": "execute_result"
    }
   ],
   "source": [
    "my_map.put(key=\"counter\", value=0)"
   ],
   "metadata": {
    "collapsed": false
   }
  },
  {
   "cell_type": "code",
   "execution_count": 68,
   "outputs": [],
   "source": [
    "def increment_counter_replacing(increment_value=10000):\n",
    "    for _ in range(increment_value):\n",
    "        with counter_lock:\n",
    "            old_counter_value = my_map.get(\"counter\").result()\n",
    "            new_counter_value = old_counter_value + 1\n",
    "            my_map.replace_if_same(\"counter\",\n",
    "                                   old_counter_value, new_counter_value)"
   ],
   "metadata": {
    "collapsed": false
   }
  },
  {
   "cell_type": "code",
   "execution_count": 69,
   "outputs": [
    {
     "name": "stdout",
     "output_type": "stream",
     "text": [
      "CPU times: user 1min 3s, sys: 10.4 s, total: 1min 14s\n",
      "Wall time: 6min 16s\n"
     ]
    }
   ],
   "source": [
    "%%time\n",
    "threads = []\n",
    "for i in range(10):\n",
    "    thread = Thread(target=increment_counter_replacing)\n",
    "    threads.append(thread)\n",
    "    thread.start()\n",
    "\n",
    "for thr in threads:\n",
    "    thr.join()"
   ],
   "metadata": {
    "collapsed": false
   }
  },
  {
   "cell_type": "code",
   "execution_count": 70,
   "outputs": [
    {
     "name": "stdout",
     "output_type": "stream",
     "text": [
      "Finished! Result = 100000\n"
     ]
    }
   ],
   "source": [
    "print(f\"Finished! Result = {my_map.get('counter').result()}\")"
   ],
   "metadata": {
    "collapsed": false
   }
  },
  {
   "cell_type": "markdown",
   "source": [
    "IAtomicLong with CP Sysbsystem counter"
   ],
   "metadata": {
    "collapsed": false
   }
  },
  {
   "cell_type": "code",
   "execution_count": 115,
   "outputs": [
    {
     "data": {
      "text/plain": "<hazelcast.future.Future at 0x7fab7e15bb50>"
     },
     "execution_count": 115,
     "metadata": {},
     "output_type": "execute_result"
    }
   ],
   "source": [
    "my_atomic_long = client.cp_subsystem.get_atomic_long(\"my-counter\")\n",
    "my_atomic_long.set(0)"
   ],
   "metadata": {
    "collapsed": false
   }
  },
  {
   "cell_type": "code",
   "execution_count": 116,
   "outputs": [],
   "source": [
    "def increment_counter_atomic_long(increment_value=10000):\n",
    "    for _ in range(increment_value):\n",
    "        my_atomic_long.get_and_increment()"
   ],
   "metadata": {
    "collapsed": false
   }
  },
  {
   "cell_type": "code",
   "execution_count": 117,
   "outputs": [
    {
     "name": "stdout",
     "output_type": "stream",
     "text": [
      "CPU times: user 1.87 s, sys: 60.8 ms, total: 1.93 s\n",
      "Wall time: 1.9 s\n"
     ]
    }
   ],
   "source": [
    "%%time\n",
    "threads = []\n",
    "for i in range(10):\n",
    "    thread = Thread(target=increment_counter_atomic_long)\n",
    "    threads.append(thread)\n",
    "    thread.start()\n",
    "\n",
    "for thr in threads:\n",
    "    thr.join()"
   ],
   "metadata": {
    "collapsed": false
   }
  },
  {
   "cell_type": "code",
   "execution_count": 118,
   "outputs": [
    {
     "name": "stdout",
     "output_type": "stream",
     "text": [
      "Finished! Result = 100000\n"
     ]
    }
   ],
   "source": [
    "print(f\"Finished! Result = {my_atomic_long.get().result()}\")"
   ],
   "metadata": {
    "collapsed": false
   }
  }
 ],
 "metadata": {
  "kernelspec": {
   "display_name": "Python 3",
   "language": "python",
   "name": "python3"
  },
  "language_info": {
   "codemirror_mode": {
    "name": "ipython",
    "version": 2
   },
   "file_extension": ".py",
   "mimetype": "text/x-python",
   "name": "python",
   "nbconvert_exporter": "python",
   "pygments_lexer": "ipython2",
   "version": "2.7.6"
  }
 },
 "nbformat": 4,
 "nbformat_minor": 0
}
