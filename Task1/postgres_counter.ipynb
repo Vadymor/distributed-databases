{
 "cells": [
  {
   "cell_type": "code",
   "execution_count": 81,
   "metadata": {
    "collapsed": true
   },
   "outputs": [],
   "source": [
    "import psycopg2\n",
    "from threading import Thread"
   ]
  },
  {
   "cell_type": "markdown",
   "source": [
    " Створення таблиці та ініціалізація початковго counter"
   ],
   "metadata": {
    "collapsed": false
   }
  },
  {
   "cell_type": "code",
   "execution_count": 82,
   "outputs": [],
   "source": [
    "connect = psycopg2.connect(host='localhost',\n",
    "                           user='postgres',\n",
    "                           password='postgres',\n",
    "                           dbname='postgres')\n",
    "cursor = connect.cursor()\n",
    "cursor.execute(\"\"\"\n",
    "CREATE TABLE IF NOT EXISTS task1.user_counter(\n",
    "    user_id int not null primary key ,\n",
    "    counter int,\n",
    "    version int\n",
    ");\n",
    "\"\"\")\n",
    "cursor.execute(\"\"\"\n",
    "INSERT INTO task1.user_counter (user_id, counter, version)\n",
    "VALUES (%s, %s, %s) ON CONFLICT DO NOTHING \"\"\", (1, 1, 0))\n",
    "connect.commit()\n",
    "\n",
    "cursor.close()\n",
    "connect.close()"
   ],
   "metadata": {
    "collapsed": false
   }
  },
  {
   "cell_type": "markdown",
   "source": [
    "Допоміжний метод для обнулення counter після кожного завдання"
   ],
   "metadata": {
    "collapsed": false
   }
  },
  {
   "cell_type": "code",
   "execution_count": 83,
   "outputs": [],
   "source": [
    "def reset_counter():\n",
    "    connect = psycopg2.connect(host='localhost',\n",
    "                               user='postgres',\n",
    "                               password='postgres',\n",
    "                               dbname='postgres')\n",
    "    cursor = connect.cursor()\n",
    "\n",
    "    cursor.execute(f\"\"\"\n",
    "    update task1.user_counter set counter = 0 where user_id = 1;\"\"\")\n",
    "    connect.commit()\n",
    "\n",
    "    cursor.close()\n",
    "    connect.close()"
   ],
   "metadata": {
    "collapsed": false
   }
  },
  {
   "cell_type": "markdown",
   "source": [
    "1. Lost-update"
   ],
   "metadata": {
    "collapsed": false
   }
  },
  {
   "cell_type": "code",
   "execution_count": 84,
   "outputs": [],
   "source": [
    "def increment_counter_lost(increment_value=10000):\n",
    "    connect = psycopg2.connect(host='localhost',\n",
    "                           user='postgres',\n",
    "                           password='postgres',\n",
    "                           dbname='postgres')\n",
    "    cursor = connect.cursor()\n",
    "\n",
    "    for _ in range(increment_value):\n",
    "        cursor.execute(\n",
    "            \"\"\"SELECT counter FROM task1.user_counter WHERE user_id = 1\"\"\")\n",
    "\n",
    "        fetched = cursor.fetchone()\n",
    "\n",
    "        if fetched:\n",
    "            counter = fetched[0] + 1\n",
    "\n",
    "            cursor.execute(f\"\"\"\n",
    "            update task1.user_counter\n",
    "            set counter = {counter} where user_id = 1\"\"\")\n",
    "            connect.commit()\n",
    "\n",
    "    cursor.close()\n",
    "    connect.close()"
   ],
   "metadata": {
    "collapsed": false
   }
  },
  {
   "cell_type": "code",
   "execution_count": 85,
   "outputs": [],
   "source": [
    "reset_counter()"
   ],
   "metadata": {
    "collapsed": false
   }
  },
  {
   "cell_type": "code",
   "execution_count": 86,
   "outputs": [
    {
     "name": "stdout",
     "output_type": "stream",
     "text": [
      "CPU times: user 3.52 s, sys: 3.48 s, total: 7 s\n",
      "Wall time: 53.7 s\n"
     ]
    }
   ],
   "source": [
    "%%time\n",
    "threads = []\n",
    "for i in range(10):\n",
    "    thread = Thread(target=increment_counter_lost)\n",
    "    threads.append(thread)\n",
    "    thread.start()\n",
    "\n",
    "for thr in threads:\n",
    "    thr.join()"
   ],
   "metadata": {
    "collapsed": false
   }
  },
  {
   "cell_type": "markdown",
   "source": [
    "2. In-place update"
   ],
   "metadata": {
    "collapsed": false
   }
  },
  {
   "cell_type": "code",
   "execution_count": 87,
   "outputs": [],
   "source": [
    "def increment_counter_in_place(increment_value=10000):\n",
    "    connect = psycopg2.connect(host='localhost',\n",
    "                               user='postgres',\n",
    "                               password='postgres',\n",
    "                               dbname='postgres')\n",
    "    cursor = connect.cursor()\n",
    "\n",
    "    for _ in range(increment_value):\n",
    "        cursor.execute(f\"\"\"\n",
    "        update task1.user_counter\n",
    "        set counter = counter + 1 where user_id = 1\"\"\")\n",
    "        connect.commit()\n",
    "\n",
    "    cursor.close()\n",
    "    connect.close()"
   ],
   "metadata": {
    "collapsed": false
   }
  },
  {
   "cell_type": "code",
   "execution_count": 88,
   "outputs": [],
   "source": [
    "reset_counter()"
   ],
   "metadata": {
    "collapsed": false
   }
  },
  {
   "cell_type": "code",
   "execution_count": 89,
   "outputs": [
    {
     "name": "stdout",
     "output_type": "stream",
     "text": [
      "CPU times: user 3.3 s, sys: 3.67 s, total: 6.97 s\n",
      "Wall time: 55.8 s\n"
     ]
    }
   ],
   "source": [
    "%%time\n",
    "threads = []\n",
    "for i in range(10):\n",
    "    thread = Thread(target=increment_counter_in_place)\n",
    "    threads.append(thread)\n",
    "    thread.start()\n",
    "\n",
    "for thr in threads:\n",
    "    thr.join()"
   ],
   "metadata": {
    "collapsed": false
   }
  },
  {
   "cell_type": "markdown",
   "source": [
    "3. Row-level locking"
   ],
   "metadata": {
    "collapsed": false
   }
  },
  {
   "cell_type": "code",
   "execution_count": 90,
   "outputs": [],
   "source": [
    "def increment_counter_row_locking(increment_value=10000):\n",
    "    connect = psycopg2.connect(host='localhost',\n",
    "                               user='postgres',\n",
    "                               password='postgres',\n",
    "                               dbname='postgres')\n",
    "    cursor = connect.cursor()\n",
    "\n",
    "    for _ in range(increment_value):\n",
    "        cursor.execute(\"\"\"\n",
    "        SELECT counter FROM task1.user_counter WHERE user_id = 1 FOR UPDATE\"\"\")\n",
    "\n",
    "        fetched = cursor.fetchone()\n",
    "\n",
    "        if fetched:\n",
    "            counter = fetched[0] + 1\n",
    "\n",
    "            cursor.execute(f\"\"\"\n",
    "            update task1.user_counter\n",
    "            set counter = {counter} where user_id = 1\"\"\")\n",
    "            connect.commit()\n",
    "\n",
    "    cursor.close()\n",
    "    connect.close()"
   ],
   "metadata": {
    "collapsed": false
   }
  },
  {
   "cell_type": "code",
   "execution_count": 91,
   "outputs": [],
   "source": [
    "reset_counter()"
   ],
   "metadata": {
    "collapsed": false
   }
  },
  {
   "cell_type": "code",
   "execution_count": 92,
   "outputs": [
    {
     "name": "stdout",
     "output_type": "stream",
     "text": [
      "CPU times: user 7.77 s, sys: 7.7 s, total: 15.5 s\n",
      "Wall time: 1min 19s\n"
     ]
    }
   ],
   "source": [
    "%%time\n",
    "threads = []\n",
    "for i in range(10):\n",
    "    thread = Thread(target=increment_counter_row_locking)\n",
    "    threads.append(thread)\n",
    "    thread.start()\n",
    "\n",
    "for thr in threads:\n",
    "    thr.join()"
   ],
   "metadata": {
    "collapsed": false
   }
  },
  {
   "cell_type": "markdown",
   "source": [
    "4. Optimistic concurrency control"
   ],
   "metadata": {
    "collapsed": false
   }
  },
  {
   "cell_type": "code",
   "execution_count": 93,
   "outputs": [],
   "source": [
    "def increment_counter_optimistic_concurrency(increment_value=10000):\n",
    "    connect = psycopg2.connect(host='localhost',\n",
    "                               user='postgres',\n",
    "                               password='postgres',\n",
    "                               dbname='postgres')\n",
    "    cursor = connect.cursor()\n",
    "\n",
    "    for _ in range(increment_value):\n",
    "        while True:\n",
    "            cursor.execute(\"\"\"\n",
    "            SELECT counter, version FROM task1.user_counter\n",
    "            WHERE user_id = 1 FOR UPDATE\"\"\")\n",
    "\n",
    "            fetched = cursor.fetchone()\n",
    "\n",
    "            if fetched:\n",
    "                counter = fetched[0] + 1\n",
    "                version = fetched[1]\n",
    "\n",
    "                cursor.execute(f\"\"\"\n",
    "                update task1.user_counter\n",
    "                set counter = {counter}, version={version + 1}\n",
    "                where user_id = 1 and version={version}\"\"\")\n",
    "                connect.commit()\n",
    "\n",
    "                count = cursor.rowcount\n",
    "                if count > 0:\n",
    "                    break\n",
    "\n",
    "    cursor.close()\n",
    "    connect.close()"
   ],
   "metadata": {
    "collapsed": false
   }
  },
  {
   "cell_type": "code",
   "execution_count": 96,
   "outputs": [],
   "source": [
    "reset_counter()"
   ],
   "metadata": {
    "collapsed": false
   }
  },
  {
   "cell_type": "code",
   "execution_count": 97,
   "outputs": [
    {
     "name": "stdout",
     "output_type": "stream",
     "text": [
      "CPU times: user 8.31 s, sys: 7.6 s, total: 15.9 s\n",
      "Wall time: 1min 21s\n"
     ]
    }
   ],
   "source": [
    "%%time\n",
    "threads = []\n",
    "for i in range(10):\n",
    "    thread = Thread(target=increment_counter_optimistic_concurrency)\n",
    "    threads.append(thread)\n",
    "    thread.start()\n",
    "\n",
    "for thr in threads:\n",
    "    thr.join()"
   ],
   "metadata": {
    "collapsed": false
   }
  }
 ],
 "metadata": {
  "kernelspec": {
   "display_name": "Python 3",
   "language": "python",
   "name": "python3"
  },
  "language_info": {
   "codemirror_mode": {
    "name": "ipython",
    "version": 2
   },
   "file_extension": ".py",
   "mimetype": "text/x-python",
   "name": "python",
   "nbconvert_exporter": "python",
   "pygments_lexer": "ipython2",
   "version": "2.7.6"
  }
 },
 "nbformat": 4,
 "nbformat_minor": 0
}
