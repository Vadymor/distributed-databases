{
 "cells": [
  {
   "cell_type": "code",
   "execution_count": 2,
   "metadata": {
    "collapsed": true,
    "ExecuteTime": {
     "end_time": "2023-05-06T11:49:10.893875Z",
     "start_time": "2023-05-06T11:49:10.891923Z"
    }
   },
   "outputs": [],
   "source": [
    "from cassandra.cluster import Cluster\n",
    "from cassandra import ConsistencyLevel\n",
    "from cassandra.query import SimpleStatement\n",
    "import os"
   ]
  },
  {
   "cell_type": "markdown",
   "source": [
    "2) Перевірити правильність конфігурації за допомогою\n",
    "nodetool status"
   ],
   "metadata": {
    "collapsed": false
   }
  },
  {
   "cell_type": "code",
   "execution_count": 5,
   "outputs": [
    {
     "name": "stdout",
     "output_type": "stream",
     "text": [
      "Datacenter: datacenter1\n",
      "=======================\n",
      "Status=Up/Down\n",
      "|/ State=Normal/Leaving/Joining/Moving\n",
      "--  Address     Load       Tokens  Owns (effective)  Host ID                               Rack \n",
      "UN  172.17.0.4  75.37 KiB  16      35.7%             7ffca09c-b06c-470d-bb7f-20c2383cd388  rack1\n",
      "UN  172.17.0.3  75.37 KiB  16      31.6%             ac10746a-1d06-4484-adeb-6aca272b421d  rack1\n",
      "UN  172.17.0.2  99.18 KiB  16      32.7%             2c97dff5-9efe-4670-9689-b69310409def  rack1\n",
      "\n"
     ]
    },
    {
     "data": {
      "text/plain": "0"
     },
     "execution_count": 5,
     "metadata": {},
     "output_type": "execute_result"
    }
   ],
   "source": [
    "os.system('docker exec cassandra-1 nodetool status')"
   ],
   "metadata": {
    "collapsed": false,
    "ExecuteTime": {
     "end_time": "2023-05-06T10:30:58.159424Z",
     "start_time": "2023-05-06T10:30:57.025139Z"
    }
   }
  },
  {
   "cell_type": "code",
   "execution_count": 141,
   "outputs": [],
   "source": [
    "cluster = Cluster(['localhost'], port=9042)\n",
    "session = cluster.connect()"
   ],
   "metadata": {
    "collapsed": false,
    "ExecuteTime": {
     "end_time": "2023-05-06T15:59:43.783798Z",
     "start_time": "2023-05-06T15:59:43.651271Z"
    }
   }
  },
  {
   "cell_type": "markdown",
   "source": [
    "3) Викоритовуючи  cqlsh, створити три Keyspace з replication factor 1, 2, 3"
   ],
   "metadata": {
    "collapsed": false
   }
  },
  {
   "cell_type": "code",
   "execution_count": 142,
   "outputs": [],
   "source": [
    "session.execute(\"\"\"\n",
    "CREATE KEYSPACE repl_1\n",
    "WITH replication = {\n",
    "    'class': 'SimpleStrategy',\n",
    "    'replication_factor': 1\n",
    "    };\"\"\").one()\n",
    "session.execute(\"\"\"\n",
    "CREATE KEYSPACE repl_2\n",
    "WITH replication = {\n",
    "    'class': 'SimpleStrategy',\n",
    "    'replication_factor': 2\n",
    "    };\"\"\").one()\n",
    "session.execute(\"\"\"\n",
    "CREATE KEYSPACE repl_3\n",
    "WITH replication = {\n",
    "    'class': 'SimpleStrategy',\n",
    "    'replication_factor': 3\n",
    "    };\"\"\").one()"
   ],
   "metadata": {
    "collapsed": false,
    "ExecuteTime": {
     "end_time": "2023-05-06T15:59:46.793659Z",
     "start_time": "2023-05-06T15:59:46.534812Z"
    }
   }
  },
  {
   "cell_type": "markdown",
   "source": [
    "4) В кожному з кейспейсів створити таблиці"
   ],
   "metadata": {
    "collapsed": false
   }
  },
  {
   "cell_type": "code",
   "execution_count": 143,
   "outputs": [],
   "source": [
    "session.execute(\"USE repl_1\").one()\n",
    "session.execute(\"\"\"\n",
    "CREATE TABLE IF NOT EXISTS item1 (\n",
    "    category text,\n",
    "    price int,\n",
    "    model text,\n",
    "    PRIMARY KEY (category, price)\n",
    ")\n",
    "WITH CLUSTERING ORDER BY (price ASC);\"\"\").one()"
   ],
   "metadata": {
    "collapsed": false,
    "ExecuteTime": {
     "end_time": "2023-05-06T15:59:50.360813Z",
     "start_time": "2023-05-06T15:59:50.173172Z"
    }
   }
  },
  {
   "cell_type": "code",
   "execution_count": 144,
   "outputs": [],
   "source": [
    "session.execute(\"USE repl_2\").one()\n",
    "session.execute(\"\"\"\n",
    "CREATE TABLE IF NOT EXISTS item2 (\n",
    "    category text,\n",
    "    price int,\n",
    "    producer text,\n",
    "    PRIMARY KEY (category, price)\n",
    ")\n",
    "WITH CLUSTERING ORDER BY (price ASC);\"\"\").one()"
   ],
   "metadata": {
    "collapsed": false,
    "ExecuteTime": {
     "end_time": "2023-05-06T15:59:51.262913Z",
     "start_time": "2023-05-06T15:59:51.190384Z"
    }
   }
  },
  {
   "cell_type": "code",
   "execution_count": 145,
   "outputs": [],
   "source": [
    "session.execute(\"USE repl_3\").one()\n",
    "session.execute(\"\"\"\n",
    "CREATE TABLE IF NOT EXISTS item3 (\n",
    "    category text,\n",
    "    price int,\n",
    "    material text,\n",
    "    PRIMARY KEY (category, price)\n",
    ")\n",
    "WITH CLUSTERING ORDER BY (price ASC);\"\"\").one()"
   ],
   "metadata": {
    "collapsed": false,
    "ExecuteTime": {
     "end_time": "2023-05-06T15:59:52.191543Z",
     "start_time": "2023-05-06T15:59:52.110555Z"
    }
   }
  },
  {
   "cell_type": "markdown",
   "source": [
    "5) Спробуйте писати і читати на / та з різних нод."
   ],
   "metadata": {
    "collapsed": false
   }
  },
  {
   "cell_type": "markdown",
   "source": [
    "Створюємо конекти до інших нод кластеру"
   ],
   "metadata": {
    "collapsed": false
   }
  },
  {
   "cell_type": "code",
   "execution_count": 100,
   "outputs": [],
   "source": [
    "cluster2 = Cluster(['localhost'], port=9043)\n",
    "session2 = cluster2.connect()"
   ],
   "metadata": {
    "collapsed": false,
    "ExecuteTime": {
     "end_time": "2023-05-06T14:41:40.639201Z",
     "start_time": "2023-05-06T14:41:35.536536Z"
    }
   }
  },
  {
   "cell_type": "code",
   "execution_count": 104,
   "outputs": [],
   "source": [
    "cluster3 = Cluster(['localhost'], port=9044)\n",
    "session3 = cluster3.connect()"
   ],
   "metadata": {
    "collapsed": false,
    "ExecuteTime": {
     "end_time": "2023-05-06T14:43:00.532003Z",
     "start_time": "2023-05-06T14:42:55.348521Z"
    }
   }
  },
  {
   "cell_type": "markdown",
   "source": [
    "Запис і вичитування даних з першої ноди"
   ],
   "metadata": {
    "collapsed": false
   }
  },
  {
   "cell_type": "code",
   "execution_count": 13,
   "outputs": [
    {
     "data": {
      "text/plain": "<cassandra.cluster.ResultSet at 0x11609cf70>"
     },
     "execution_count": 13,
     "metadata": {},
     "output_type": "execute_result"
    }
   ],
   "source": [
    "session.execute(\"USE repl_1\").one()\n",
    "session.execute(\"\"\"\n",
    "INSERT INTO item1 (\n",
    "    category, price, model\n",
    ") VALUES (\n",
    "    'Phone',\n",
    "    570,\n",
    "    'iPhone 14'\n",
    "    );\"\"\")"
   ],
   "metadata": {
    "collapsed": false,
    "ExecuteTime": {
     "end_time": "2023-05-06T10:56:48.545993Z",
     "start_time": "2023-05-06T10:56:48.512828Z"
    }
   }
  },
  {
   "cell_type": "code",
   "execution_count": 15,
   "outputs": [
    {
     "name": "stdout",
     "output_type": "stream",
     "text": [
      "Phone 570 iPhone 14 \n",
      "\n"
     ]
    }
   ],
   "source": [
    "result = session.execute(\"\"\"\n",
    "SELECT *\n",
    "FROM item1\n",
    "WHERE category = 'Phone'\n",
    "ORDER BY price;\"\"\")\n",
    "if result:\n",
    "    for row in result:\n",
    "        print(*row, '\\n')"
   ],
   "metadata": {
    "collapsed": false,
    "ExecuteTime": {
     "end_time": "2023-05-06T10:58:34.360873Z",
     "start_time": "2023-05-06T10:58:34.340392Z"
    }
   }
  },
  {
   "cell_type": "markdown",
   "source": [
    "Запис і вичитування даних з другої ноди"
   ],
   "metadata": {
    "collapsed": false
   }
  },
  {
   "cell_type": "code",
   "execution_count": 16,
   "outputs": [
    {
     "data": {
      "text/plain": "<cassandra.cluster.ResultSet at 0x1163d8cd0>"
     },
     "execution_count": 16,
     "metadata": {},
     "output_type": "execute_result"
    }
   ],
   "source": [
    "session2.execute(\"USE repl_1\").one()\n",
    "session2.execute(\"\"\"\n",
    "INSERT INTO item1 (\n",
    "    category, price, model\n",
    ") VALUES (\n",
    "    'Phone',\n",
    "    630,\n",
    "    'iPhone 12'\n",
    "    );\"\"\")"
   ],
   "metadata": {
    "collapsed": false,
    "ExecuteTime": {
     "end_time": "2023-05-06T10:59:56.087294Z",
     "start_time": "2023-05-06T10:59:56.028729Z"
    }
   }
  },
  {
   "cell_type": "code",
   "execution_count": 17,
   "outputs": [
    {
     "name": "stdout",
     "output_type": "stream",
     "text": [
      "Phone 570 iPhone 14 \n",
      "\n",
      "Phone 630 iPhone 12 \n",
      "\n"
     ]
    }
   ],
   "source": [
    "result = session2.execute(\"\"\"\n",
    "SELECT *\n",
    "FROM item1\n",
    "WHERE category = 'Phone'\n",
    "ORDER BY price;\"\"\")\n",
    "if result:\n",
    "    for row in result:\n",
    "        print(*row, '\\n')"
   ],
   "metadata": {
    "collapsed": false,
    "ExecuteTime": {
     "end_time": "2023-05-06T11:00:08.619111Z",
     "start_time": "2023-05-06T11:00:08.596956Z"
    }
   }
  },
  {
   "cell_type": "markdown",
   "source": [
    "Запис і вичитування даних з третої ноди"
   ],
   "metadata": {
    "collapsed": false
   }
  },
  {
   "cell_type": "code",
   "execution_count": 18,
   "outputs": [
    {
     "data": {
      "text/plain": "<cassandra.cluster.ResultSet at 0x116449d20>"
     },
     "execution_count": 18,
     "metadata": {},
     "output_type": "execute_result"
    }
   ],
   "source": [
    "session3.execute(\"USE repl_1\").one()\n",
    "session3.execute(\"\"\"\n",
    "INSERT INTO item1 (\n",
    "    category, price, model\n",
    ") VALUES (\n",
    "    'Phone',\n",
    "    470,\n",
    "    'iPhone 13'\n",
    "    );\"\"\")"
   ],
   "metadata": {
    "collapsed": false,
    "ExecuteTime": {
     "end_time": "2023-05-06T11:01:21.794135Z",
     "start_time": "2023-05-06T11:01:21.758018Z"
    }
   }
  },
  {
   "cell_type": "code",
   "execution_count": 19,
   "outputs": [
    {
     "name": "stdout",
     "output_type": "stream",
     "text": [
      "Phone 470 iPhone 13 \n",
      "\n",
      "Phone 570 iPhone 14 \n",
      "\n",
      "Phone 630 iPhone 12 \n",
      "\n"
     ]
    }
   ],
   "source": [
    "result = session3.execute(\"\"\"\n",
    "SELECT *\n",
    "FROM item1\n",
    "WHERE category = 'Phone'\n",
    "ORDER BY price;\"\"\")\n",
    "if result:\n",
    "    for row in result:\n",
    "        print(*row, '\\n')"
   ],
   "metadata": {
    "collapsed": false,
    "ExecuteTime": {
     "end_time": "2023-05-06T11:01:24.334161Z",
     "start_time": "2023-05-06T11:01:24.310482Z"
    }
   }
  },
  {
   "cell_type": "markdown",
   "source": [
    "6) Вставте дані в створені таблиці і подивіться на їх розподіл по вузлах кластера (для кожного з кейспесов - nodetool status)"
   ],
   "metadata": {
    "collapsed": false
   }
  },
  {
   "cell_type": "code",
   "execution_count": 20,
   "outputs": [
    {
     "data": {
      "text/plain": "<cassandra.cluster.ResultSet at 0x11609d4e0>"
     },
     "execution_count": 20,
     "metadata": {},
     "output_type": "execute_result"
    }
   ],
   "source": [
    "session.execute(\"USE repl_1\").one()\n",
    "session.execute(\"\"\"\n",
    "INSERT INTO item1 (\n",
    "    category, price, model\n",
    ") VALUES (\n",
    "    'Watch',\n",
    "    240,\n",
    "    'Series SE'\n",
    "    );\"\"\")\n",
    "session.execute(\"\"\"\n",
    "INSERT INTO item1 (\n",
    "    category, price, model\n",
    ") VALUES (\n",
    "    'Watch',\n",
    "    400,\n",
    "    'Series 8'\n",
    "    );\"\"\")"
   ],
   "metadata": {
    "collapsed": false,
    "ExecuteTime": {
     "end_time": "2023-05-06T11:11:04.423251Z",
     "start_time": "2023-05-06T11:11:04.390141Z"
    }
   }
  },
  {
   "cell_type": "code",
   "execution_count": 22,
   "outputs": [
    {
     "name": "stdout",
     "output_type": "stream",
     "text": [
      "Datacenter: datacenter1\n",
      "=======================\n",
      "Status=Up/Down\n",
      "|/ State=Normal/Leaving/Joining/Moving\n",
      "--  Address     Load        Tokens  Owns (effective)  Host ID                               Rack \n",
      "UN  172.17.0.4  144.26 KiB  16      35.7%             7ffca09c-b06c-470d-bb7f-20c2383cd388  rack1\n",
      "UN  172.17.0.3  144.31 KiB  16      31.6%             ac10746a-1d06-4484-adeb-6aca272b421d  rack1\n",
      "UN  172.17.0.2  169.4 KiB   16      32.7%             2c97dff5-9efe-4670-9689-b69310409def  rack1\n",
      "\n"
     ]
    },
    {
     "data": {
      "text/plain": "0"
     },
     "execution_count": 22,
     "metadata": {},
     "output_type": "execute_result"
    }
   ],
   "source": [
    "os.system('docker exec cassandra-1 nodetool status repl_1')"
   ],
   "metadata": {
    "collapsed": false,
    "ExecuteTime": {
     "end_time": "2023-05-06T11:12:51.058527Z",
     "start_time": "2023-05-06T11:12:50.100783Z"
    }
   }
  },
  {
   "cell_type": "code",
   "execution_count": 21,
   "outputs": [
    {
     "data": {
      "text/plain": "<cassandra.cluster.ResultSet at 0x116436f20>"
     },
     "execution_count": 21,
     "metadata": {},
     "output_type": "execute_result"
    }
   ],
   "source": [
    "session.execute(\"USE repl_2\").one()\n",
    "session.execute(\"\"\"\n",
    "INSERT INTO item2 (\n",
    "    category, price, producer\n",
    ") VALUES (\n",
    "    'Phone',\n",
    "    1039,\n",
    "    'Samsung'\n",
    "    );\"\"\")\n",
    "session.execute(\"\"\"\n",
    "INSERT INTO item2 (\n",
    "    category, price, producer\n",
    ") VALUES (\n",
    "    'Phone',\n",
    "    940,\n",
    "    'Samsung'\n",
    "    );\"\"\")"
   ],
   "metadata": {
    "collapsed": false,
    "ExecuteTime": {
     "end_time": "2023-05-06T11:12:20.298672Z",
     "start_time": "2023-05-06T11:12:20.270032Z"
    }
   }
  },
  {
   "cell_type": "code",
   "execution_count": 23,
   "outputs": [
    {
     "name": "stdout",
     "output_type": "stream",
     "text": [
      "Datacenter: datacenter1\n",
      "=======================\n",
      "Status=Up/Down\n",
      "|/ State=Normal/Leaving/Joining/Moving\n",
      "--  Address     Load        Tokens  Owns (effective)  Host ID                               Rack \n",
      "UN  172.17.0.4  144.26 KiB  16      76.0%             7ffca09c-b06c-470d-bb7f-20c2383cd388  rack1\n",
      "UN  172.17.0.3  144.31 KiB  16      59.3%             ac10746a-1d06-4484-adeb-6aca272b421d  rack1\n",
      "UN  172.17.0.2  169.4 KiB   16      64.7%             2c97dff5-9efe-4670-9689-b69310409def  rack1\n",
      "\n"
     ]
    },
    {
     "data": {
      "text/plain": "0"
     },
     "execution_count": 23,
     "metadata": {},
     "output_type": "execute_result"
    }
   ],
   "source": [
    "os.system('docker exec cassandra-1 nodetool status repl_2')"
   ],
   "metadata": {
    "collapsed": false,
    "ExecuteTime": {
     "end_time": "2023-05-06T11:13:27.804535Z",
     "start_time": "2023-05-06T11:13:26.932998Z"
    }
   }
  },
  {
   "cell_type": "code",
   "execution_count": 24,
   "outputs": [
    {
     "data": {
      "text/plain": "<cassandra.cluster.ResultSet at 0x116047280>"
     },
     "execution_count": 24,
     "metadata": {},
     "output_type": "execute_result"
    }
   ],
   "source": [
    "session.execute(\"USE repl_3\").one()\n",
    "session.execute(\"\"\"\n",
    "INSERT INTO item3 (\n",
    "    category, price, material\n",
    ") VALUES (\n",
    "    'Headphones',\n",
    "    120,\n",
    "    'Plastic'\n",
    "    );\"\"\")\n",
    "session.execute(\"\"\"\n",
    "INSERT INTO item3 (\n",
    "    category, price, material\n",
    ") VALUES (\n",
    "    'Headphones',\n",
    "    318,\n",
    "    'Aluminium'\n",
    "    );\"\"\")"
   ],
   "metadata": {
    "collapsed": false,
    "ExecuteTime": {
     "end_time": "2023-05-06T11:14:50.158394Z",
     "start_time": "2023-05-06T11:14:50.122992Z"
    }
   }
  },
  {
   "cell_type": "code",
   "execution_count": 25,
   "outputs": [
    {
     "name": "stdout",
     "output_type": "stream",
     "text": [
      "Datacenter: datacenter1\n",
      "=======================\n",
      "Status=Up/Down\n",
      "|/ State=Normal/Leaving/Joining/Moving\n",
      "--  Address     Load        Tokens  Owns (effective)  Host ID                               Rack \n",
      "UN  172.17.0.4  144.26 KiB  16      100.0%            7ffca09c-b06c-470d-bb7f-20c2383cd388  rack1\n",
      "UN  172.17.0.3  144.31 KiB  16      100.0%            ac10746a-1d06-4484-adeb-6aca272b421d  rack1\n",
      "UN  172.17.0.2  169.4 KiB   16      100.0%            2c97dff5-9efe-4670-9689-b69310409def  rack1\n",
      "\n"
     ]
    },
    {
     "data": {
      "text/plain": "0"
     },
     "execution_count": 25,
     "metadata": {},
     "output_type": "execute_result"
    }
   ],
   "source": [
    "os.system('docker exec cassandra-1 nodetool status repl_3')"
   ],
   "metadata": {
    "collapsed": false,
    "ExecuteTime": {
     "end_time": "2023-05-06T11:15:00.132658Z",
     "start_time": "2023-05-06T11:14:59.261643Z"
    }
   }
  },
  {
   "cell_type": "markdown",
   "source": [
    "7) Для якогось запису з кожного з кейспейсу виведіть ноди на яких зберігаються дані"
   ],
   "metadata": {
    "collapsed": false
   }
  },
  {
   "cell_type": "code",
   "execution_count": 28,
   "outputs": [
    {
     "name": "stdout",
     "output_type": "stream",
     "text": [
      "172.17.0.2\n"
     ]
    },
    {
     "data": {
      "text/plain": "0"
     },
     "execution_count": 28,
     "metadata": {},
     "output_type": "execute_result"
    }
   ],
   "source": [
    "os.system('docker exec cassandra-1 nodetool getendpoints repl_1 item1 Watch')"
   ],
   "metadata": {
    "collapsed": false,
    "ExecuteTime": {
     "end_time": "2023-05-06T11:21:17.195890Z",
     "start_time": "2023-05-06T11:21:16.479487Z"
    }
   }
  },
  {
   "cell_type": "code",
   "execution_count": 29,
   "outputs": [
    {
     "name": "stdout",
     "output_type": "stream",
     "text": [
      "172.17.0.3\n",
      "172.17.0.2\n"
     ]
    },
    {
     "data": {
      "text/plain": "0"
     },
     "execution_count": 29,
     "metadata": {},
     "output_type": "execute_result"
    }
   ],
   "source": [
    "os.system('docker exec cassandra-1 nodetool getendpoints repl_2 item2 Phone')"
   ],
   "metadata": {
    "collapsed": false,
    "ExecuteTime": {
     "end_time": "2023-05-06T11:21:41.952201Z",
     "start_time": "2023-05-06T11:21:41.153681Z"
    }
   }
  },
  {
   "cell_type": "code",
   "execution_count": 31,
   "outputs": [
    {
     "name": "stdout",
     "output_type": "stream",
     "text": [
      "172.17.0.3\n",
      "172.17.0.4\n",
      "172.17.0.2\n"
     ]
    },
    {
     "data": {
      "text/plain": "0"
     },
     "execution_count": 31,
     "metadata": {},
     "output_type": "execute_result"
    }
   ],
   "source": [
    "os.system('docker exec cassandra-1 nodetool getendpoints repl_3 item3 Headphones')"
   ],
   "metadata": {
    "collapsed": false,
    "ExecuteTime": {
     "end_time": "2023-05-06T11:22:07.156379Z",
     "start_time": "2023-05-06T11:22:06.429885Z"
    }
   }
  },
  {
   "cell_type": "markdown",
   "source": [
    "8) Відключиіть одну з нод. Для кожного з кейспейсів визначить з якими рівнями consistency можемо читати та писати, і які з них забезпечують strong consistency"
   ],
   "metadata": {
    "collapsed": false
   }
  },
  {
   "cell_type": "code",
   "execution_count": 94,
   "outputs": [
    {
     "name": "stdout",
     "output_type": "stream",
     "text": [
      "For keyspace repl_1 on READ consistency is unavailable: THREE\n",
      "\n",
      "For keyspace repl_1 on READ consistency is unavailable: TWO\n",
      "\n",
      "For keyspace repl_2 on READ consistency is unavailable: THREE\n",
      "\n",
      "For keyspace repl_3 on READ consistency is unavailable: THREE\n",
      "\n",
      "For keyspace repl_3 on READ consistency is unavailable: ALL\n",
      "\n"
     ]
    }
   ],
   "source": [
    "for keyspace in (\"1\", \"2\", \"3\"):\n",
    "    for cons in (ConsistencyLevel.LOCAL_SERIAL, ConsistencyLevel.SERIAL, ConsistencyLevel.LOCAL_ONE, ConsistencyLevel.THREE,\n",
    "                 ConsistencyLevel.TWO, ConsistencyLevel.ONE, ConsistencyLevel.LOCAL_QUORUM, ConsistencyLevel.QUORUM,\n",
    "                 ConsistencyLevel.EACH_QUORUM, ConsistencyLevel.ALL):\n",
    "        session.execute(f\"USE repl_{keyspace}\")\n",
    "        query = SimpleStatement(\n",
    "            f\"\"\"\n",
    "            SELECT *\n",
    "            FROM item{keyspace}\n",
    "            WHERE category = 'Phone'\n",
    "            ORDER BY price;\"\"\",\n",
    "            consistency_level=cons)\n",
    "        try:\n",
    "            session.execute(query)\n",
    "        except Exception as e:\n",
    "            print(f\"For keyspace repl_{keyspace} on READ consistency is unavailable: {str(e).split('consistency')[1].split(' ')[2][:-1]}\\n\")\n"
   ],
   "metadata": {
    "collapsed": false,
    "ExecuteTime": {
     "end_time": "2023-05-06T12:14:54.411570Z",
     "start_time": "2023-05-06T12:14:54.287347Z"
    }
   }
  },
  {
   "cell_type": "code",
   "execution_count": 95,
   "outputs": [
    {
     "name": "stdout",
     "output_type": "stream",
     "text": [
      "For keyspace repl_1 on WRITE consistency is unavailable: LOCAL_ONE\n",
      "\n",
      "For keyspace repl_1 on WRITE consistency is unavailable: THREE\n",
      "\n",
      "For keyspace repl_1 on WRITE consistency is unavailable: TWO\n",
      "\n",
      "For keyspace repl_1 on WRITE consistency is unavailable: ONE\n",
      "\n",
      "For keyspace repl_1 on WRITE consistency is unavailable: LOCAL_QUORUM\n",
      "\n",
      "For keyspace repl_1 on WRITE consistency is unavailable: QUORUM\n",
      "\n",
      "For keyspace repl_1 on WRITE consistency is unavailable: EACH_QUORUM\n",
      "\n",
      "For keyspace repl_1 on WRITE consistency is unavailable: ALL\n",
      "\n",
      "For keyspace repl_2 on WRITE consistency is unavailable: THREE\n",
      "\n",
      "For keyspace repl_2 on WRITE consistency is unavailable: TWO\n",
      "\n",
      "For keyspace repl_2 on WRITE consistency is unavailable: LOCAL_QUORUM\n",
      "\n",
      "For keyspace repl_2 on WRITE consistency is unavailable: QUORUM\n",
      "\n",
      "For keyspace repl_2 on WRITE consistency is unavailable: EACH_QUORUM\n",
      "\n",
      "For keyspace repl_2 on WRITE consistency is unavailable: ALL\n",
      "\n",
      "For keyspace repl_3 on WRITE consistency is unavailable: THREE\n",
      "\n",
      "For keyspace repl_3 on WRITE consistency is unavailable: ALL\n",
      "\n"
     ]
    }
   ],
   "source": [
    "for keyspace in (\"1\", \"2\", \"3\"):\n",
    "    for cons in (ConsistencyLevel.ANY, ConsistencyLevel.LOCAL_ONE, ConsistencyLevel.THREE, ConsistencyLevel.TWO,\n",
    "                 ConsistencyLevel.ONE, ConsistencyLevel.LOCAL_QUORUM, ConsistencyLevel.QUORUM, ConsistencyLevel.EACH_QUORUM,\n",
    "                 ConsistencyLevel.ALL):\n",
    "        session.execute(f\"USE repl_{keyspace}\")\n",
    "        query = SimpleStatement(\n",
    "            f\"\"\"\n",
    "            INSERT INTO item{keyspace} (\n",
    "                category, price\n",
    "            ) VALUES (\n",
    "                'Category{keyspace}',\n",
    "                {keyspace}351\n",
    "                );\"\"\",\n",
    "            consistency_level=cons)\n",
    "        try:\n",
    "            session.execute(query)\n",
    "        except Exception as e:\n",
    "            print(f\"For keyspace repl_{keyspace} on WRITE consistency is unavailable: {str(e).split('consistency')[1].split(' ')[2][:-1]}\\n\")"
   ],
   "metadata": {
    "collapsed": false,
    "ExecuteTime": {
     "end_time": "2023-05-06T12:15:07.618938Z",
     "start_time": "2023-05-06T12:15:07.538721Z"
    }
   }
  },
  {
   "cell_type": "markdown",
   "source": [
    "9) Зробить так щоб три ноди працювали, але не бачили одна одну по мережі (відключити зв'язок між ними)"
   ],
   "metadata": {
    "collapsed": false
   }
  },
  {
   "cell_type": "markdown",
   "source": [
    "docker network disconnect bridge cassandra-1\n",
    "docker network disconnect bridge cassandra-2\n",
    "docker network disconnect bridge cassandra-3"
   ],
   "metadata": {
    "collapsed": false
   }
  },
  {
   "cell_type": "markdown",
   "source": [
    "10) Для кейспейсу з replication factor 3 задайте рівень consistency рівним 1. Виконайте запис одного й того самого значення, з однаковим primary key, але різними іншими значенням на кожну з нод (тобто створіть конфлікт)\n"
   ],
   "metadata": {
    "collapsed": false
   }
  },
  {
   "cell_type": "code",
   "execution_count": 117,
   "outputs": [
    {
     "data": {
      "text/plain": "<cassandra.cluster.ResultSet at 0x122df4f40>"
     },
     "execution_count": 117,
     "metadata": {},
     "output_type": "execute_result"
    }
   ],
   "source": [
    "cluster = Cluster(['localhost'], port=9042)\n",
    "session = cluster.connect()\n",
    "\n",
    "session.execute(f\"USE repl_3\")\n",
    "query = SimpleStatement(\n",
    "    f\"\"\"\n",
    "    INSERT INTO item3 (\n",
    "        category, price, material\n",
    "    ) VALUES (\n",
    "        'ConflictCategory2',\n",
    "        123,\n",
    "        'material1'\n",
    "        );\"\"\",\n",
    "    consistency_level=ConsistencyLevel.ONE)\n",
    "session.execute(query)"
   ],
   "metadata": {
    "collapsed": false,
    "ExecuteTime": {
     "end_time": "2023-05-06T14:54:34.107568Z",
     "start_time": "2023-05-06T14:54:29.003098Z"
    }
   }
  },
  {
   "cell_type": "code",
   "execution_count": 119,
   "outputs": [
    {
     "data": {
      "text/plain": "<cassandra.cluster.ResultSet at 0x12304ca30>"
     },
     "execution_count": 119,
     "metadata": {},
     "output_type": "execute_result"
    }
   ],
   "source": [
    "cluster2 = Cluster(['localhost'], port=9043)\n",
    "session2 = cluster2.connect()\n",
    "\n",
    "session2.execute(f\"USE repl_3\")\n",
    "query = SimpleStatement(\n",
    "    f\"\"\"\n",
    "    INSERT INTO item3 (\n",
    "        category, price, material\n",
    "    ) VALUES (\n",
    "        'ConflictCategory2',\n",
    "        123,\n",
    "        'material2'\n",
    "        );\"\"\",\n",
    "    consistency_level=ConsistencyLevel.ONE)\n",
    "session2.execute(query)"
   ],
   "metadata": {
    "collapsed": false,
    "ExecuteTime": {
     "end_time": "2023-05-06T14:55:42.244890Z",
     "start_time": "2023-05-06T14:55:37.135829Z"
    }
   }
  },
  {
   "cell_type": "code",
   "execution_count": 121,
   "outputs": [
    {
     "data": {
      "text/plain": "<cassandra.cluster.ResultSet at 0x123100220>"
     },
     "execution_count": 121,
     "metadata": {},
     "output_type": "execute_result"
    }
   ],
   "source": [
    "cluster3 = Cluster(['localhost'], port=9044)\n",
    "session3 = cluster3.connect()\n",
    "\n",
    "session3.execute(f\"USE repl_3\")\n",
    "query = SimpleStatement(\n",
    "    f\"\"\"\n",
    "    INSERT INTO item3 (\n",
    "        category, price, material\n",
    "    ) VALUES (\n",
    "        'ConflictCategory2',\n",
    "        123,\n",
    "        'material3'\n",
    "        );\"\"\",\n",
    "    consistency_level=ConsistencyLevel.ONE)\n",
    "session3.execute(query)"
   ],
   "metadata": {
    "collapsed": false,
    "ExecuteTime": {
     "end_time": "2023-05-06T14:56:34.782503Z",
     "start_time": "2023-05-06T14:56:34.700416Z"
    }
   }
  },
  {
   "cell_type": "markdown",
   "source": [
    "11) Об’єднайте ноди в кластер і визначте яке значення було прийнято кластером та за яким принципом"
   ],
   "metadata": {
    "collapsed": false
   }
  },
  {
   "cell_type": "code",
   "execution_count": 140,
   "outputs": [
    {
     "name": "stdout",
     "output_type": "stream",
     "text": [
      "ConflictCategory2 123 material3 \n",
      "\n"
     ]
    }
   ],
   "source": [
    "cluster = Cluster(['localhost'], port=9042)\n",
    "session = cluster.connect()\n",
    "\n",
    "session.execute(f\"USE repl_3\")\n",
    "query = SimpleStatement(\n",
    "    f\"\"\"\n",
    "    SELECT *\n",
    "    FROM item3\n",
    "    WHERE category = 'ConflictCategory2'\n",
    "    ORDER BY price;\"\"\",\n",
    "    consistency_level=ConsistencyLevel.QUORUM)\n",
    "result = session.execute(query)\n",
    "if result:\n",
    "    for row in result:\n",
    "        print(*row, '\\n')"
   ],
   "metadata": {
    "collapsed": false,
    "ExecuteTime": {
     "end_time": "2023-05-06T15:19:15.825314Z",
     "start_time": "2023-05-06T15:19:10.725504Z"
    }
   }
  },
  {
   "cell_type": "markdown",
   "source": [
    "Було обрано значення записане на останню ноду, бо касандра приймає значення зі найбільшим timestamp"
   ],
   "metadata": {
    "collapsed": false
   }
  },
  {
   "cell_type": "markdown",
   "source": [
    "12) Перевірте поведінку lightweight transactions для попередніх пунктів у розділеному та не розділеному на три частини кластері"
   ],
   "metadata": {
    "collapsed": false
   }
  },
  {
   "cell_type": "markdown",
   "source": [
    "В розділеному стані"
   ],
   "metadata": {
    "collapsed": false
   }
  },
  {
   "cell_type": "code",
   "execution_count": 3,
   "outputs": [
    {
     "ename": "NoHostAvailable",
     "evalue": "('Unable to complete the operation against any hosts', {<Host: 127.0.0.1:9042 datacenter1>: Unavailable('Error from server: code=1000 [Unavailable exception] message=\"Cannot achieve consistency level QUORUM\" info={\\'consistency\\': \\'QUORUM\\', \\'required_replicas\\': 2, \\'alive_replicas\\': 1}')})",
     "output_type": "error",
     "traceback": [
      "\u001B[0;31m---------------------------------------------------------------------------\u001B[0m",
      "\u001B[0;31mNoHostAvailable\u001B[0m                           Traceback (most recent call last)",
      "Cell \u001B[0;32mIn[3], line 16\u001B[0m\n\u001B[1;32m      4\u001B[0m session\u001B[38;5;241m.\u001B[39mexecute(\u001B[38;5;124mf\u001B[39m\u001B[38;5;124m\"\u001B[39m\u001B[38;5;124mUSE repl_3\u001B[39m\u001B[38;5;124m\"\u001B[39m)\n\u001B[1;32m      5\u001B[0m query \u001B[38;5;241m=\u001B[39m SimpleStatement(\n\u001B[1;32m      6\u001B[0m     \u001B[38;5;124mf\u001B[39m\u001B[38;5;124m\"\"\"\u001B[39m\n\u001B[1;32m      7\u001B[0m \u001B[38;5;124m    INSERT INTO item3 (\u001B[39m\n\u001B[0;32m   (...)\u001B[0m\n\u001B[1;32m     14\u001B[0m \u001B[38;5;124m    IF NOT EXISTS;\u001B[39m\u001B[38;5;124m\"\"\"\u001B[39m,\n\u001B[1;32m     15\u001B[0m     consistency_level\u001B[38;5;241m=\u001B[39mConsistencyLevel\u001B[38;5;241m.\u001B[39mONE)\n\u001B[0;32m---> 16\u001B[0m \u001B[43msession\u001B[49m\u001B[38;5;241;43m.\u001B[39;49m\u001B[43mexecute\u001B[49m\u001B[43m(\u001B[49m\u001B[43mquery\u001B[49m\u001B[43m)\u001B[49m\n",
      "File \u001B[0;32m/usr/local/lib/python3.10/dist-packages/cassandra/cluster.py:2618\u001B[0m, in \u001B[0;36mcassandra.cluster.Session.execute\u001B[0;34m()\u001B[0m\n",
      "File \u001B[0;32m/usr/local/lib/python3.10/dist-packages/cassandra/cluster.py:4901\u001B[0m, in \u001B[0;36mcassandra.cluster.ResponseFuture.result\u001B[0;34m()\u001B[0m\n",
      "\u001B[0;31mNoHostAvailable\u001B[0m: ('Unable to complete the operation against any hosts', {<Host: 127.0.0.1:9042 datacenter1>: Unavailable('Error from server: code=1000 [Unavailable exception] message=\"Cannot achieve consistency level QUORUM\" info={\\'consistency\\': \\'QUORUM\\', \\'required_replicas\\': 2, \\'alive_replicas\\': 1}')})"
     ]
    }
   ],
   "source": [
    "cluster = Cluster(['localhost'], port=9042)\n",
    "session = cluster.connect()\n",
    "\n",
    "session.execute(f\"USE repl_3\")\n",
    "query = SimpleStatement(\n",
    "    f\"\"\"\n",
    "    INSERT INTO item3 (\n",
    "        category, price, material\n",
    "    ) VALUES (\n",
    "        'ConflictCategory2',\n",
    "        123,\n",
    "        'material1'\n",
    "        )\n",
    "    IF NOT EXISTS;\"\"\",\n",
    "    consistency_level=ConsistencyLevel.ONE)\n",
    "session.execute(query)"
   ],
   "metadata": {
    "collapsed": false,
    "ExecuteTime": {
     "end_time": "2023-05-06T16:03:56.253801Z",
     "start_time": "2023-05-06T16:03:56.143186Z"
    }
   }
  },
  {
   "cell_type": "code",
   "execution_count": 4,
   "outputs": [
    {
     "ename": "NoHostAvailable",
     "evalue": "('Unable to complete the operation against any hosts', {<Host: 127.0.0.1:9042 datacenter1>: Unavailable('Error from server: code=1000 [Unavailable exception] message=\"Cannot achieve consistency level QUORUM\" info={\\'consistency\\': \\'QUORUM\\', \\'required_replicas\\': 2, \\'alive_replicas\\': 1}')})",
     "output_type": "error",
     "traceback": [
      "\u001B[0;31m---------------------------------------------------------------------------\u001B[0m",
      "\u001B[0;31mNoHostAvailable\u001B[0m                           Traceback (most recent call last)",
      "Cell \u001B[0;32mIn[4], line 16\u001B[0m\n\u001B[1;32m      4\u001B[0m session2\u001B[38;5;241m.\u001B[39mexecute(\u001B[38;5;124mf\u001B[39m\u001B[38;5;124m\"\u001B[39m\u001B[38;5;124mUSE repl_3\u001B[39m\u001B[38;5;124m\"\u001B[39m)\n\u001B[1;32m      5\u001B[0m query \u001B[38;5;241m=\u001B[39m SimpleStatement(\n\u001B[1;32m      6\u001B[0m     \u001B[38;5;124mf\u001B[39m\u001B[38;5;124m\"\"\"\u001B[39m\n\u001B[1;32m      7\u001B[0m \u001B[38;5;124m    INSERT INTO item3 (\u001B[39m\n\u001B[0;32m   (...)\u001B[0m\n\u001B[1;32m     14\u001B[0m \u001B[38;5;124m    IF NOT EXISTS;\u001B[39m\u001B[38;5;124m\"\"\"\u001B[39m,\n\u001B[1;32m     15\u001B[0m     consistency_level\u001B[38;5;241m=\u001B[39mConsistencyLevel\u001B[38;5;241m.\u001B[39mONE)\n\u001B[0;32m---> 16\u001B[0m \u001B[43msession2\u001B[49m\u001B[38;5;241;43m.\u001B[39;49m\u001B[43mexecute\u001B[49m\u001B[43m(\u001B[49m\u001B[43mquery\u001B[49m\u001B[43m)\u001B[49m\n",
      "File \u001B[0;32m/usr/local/lib/python3.10/dist-packages/cassandra/cluster.py:2618\u001B[0m, in \u001B[0;36mcassandra.cluster.Session.execute\u001B[0;34m()\u001B[0m\n",
      "File \u001B[0;32m/usr/local/lib/python3.10/dist-packages/cassandra/cluster.py:4901\u001B[0m, in \u001B[0;36mcassandra.cluster.ResponseFuture.result\u001B[0;34m()\u001B[0m\n",
      "\u001B[0;31mNoHostAvailable\u001B[0m: ('Unable to complete the operation against any hosts', {<Host: 127.0.0.1:9042 datacenter1>: Unavailable('Error from server: code=1000 [Unavailable exception] message=\"Cannot achieve consistency level QUORUM\" info={\\'consistency\\': \\'QUORUM\\', \\'required_replicas\\': 2, \\'alive_replicas\\': 1}')})"
     ]
    }
   ],
   "source": [
    "cluster2 = Cluster(['localhost'], port=9043)\n",
    "session2 = cluster2.connect()\n",
    "\n",
    "session2.execute(f\"USE repl_3\")\n",
    "query = SimpleStatement(\n",
    "    f\"\"\"\n",
    "    INSERT INTO item3 (\n",
    "        category, price, material\n",
    "    ) VALUES (\n",
    "        'ConflictCategory2',\n",
    "        123,\n",
    "        'material2'\n",
    "        )\n",
    "    IF NOT EXISTS;\"\"\",\n",
    "    consistency_level=ConsistencyLevel.ONE)\n",
    "session2.execute(query)"
   ],
   "metadata": {
    "collapsed": false,
    "ExecuteTime": {
     "end_time": "2023-05-06T16:05:58.405424Z",
     "start_time": "2023-05-06T16:05:53.277893Z"
    }
   }
  },
  {
   "cell_type": "code",
   "execution_count": 5,
   "outputs": [
    {
     "ename": "NoHostAvailable",
     "evalue": "('Unable to complete the operation against any hosts', {<Host: 127.0.0.1:9042 datacenter1>: Unavailable('Error from server: code=1000 [Unavailable exception] message=\"Cannot achieve consistency level QUORUM\" info={\\'consistency\\': \\'QUORUM\\', \\'required_replicas\\': 2, \\'alive_replicas\\': 1}')})",
     "output_type": "error",
     "traceback": [
      "\u001B[0;31m---------------------------------------------------------------------------\u001B[0m",
      "\u001B[0;31mNoHostAvailable\u001B[0m                           Traceback (most recent call last)",
      "Cell \u001B[0;32mIn[5], line 16\u001B[0m\n\u001B[1;32m      4\u001B[0m session3\u001B[38;5;241m.\u001B[39mexecute(\u001B[38;5;124mf\u001B[39m\u001B[38;5;124m\"\u001B[39m\u001B[38;5;124mUSE repl_3\u001B[39m\u001B[38;5;124m\"\u001B[39m)\n\u001B[1;32m      5\u001B[0m query \u001B[38;5;241m=\u001B[39m SimpleStatement(\n\u001B[1;32m      6\u001B[0m     \u001B[38;5;124mf\u001B[39m\u001B[38;5;124m\"\"\"\u001B[39m\n\u001B[1;32m      7\u001B[0m \u001B[38;5;124m    INSERT INTO item3 (\u001B[39m\n\u001B[0;32m   (...)\u001B[0m\n\u001B[1;32m     14\u001B[0m \u001B[38;5;124m    IF NOT EXISTS;\u001B[39m\u001B[38;5;124m\"\"\"\u001B[39m,\n\u001B[1;32m     15\u001B[0m     consistency_level\u001B[38;5;241m=\u001B[39mConsistencyLevel\u001B[38;5;241m.\u001B[39mONE)\n\u001B[0;32m---> 16\u001B[0m \u001B[43msession3\u001B[49m\u001B[38;5;241;43m.\u001B[39;49m\u001B[43mexecute\u001B[49m\u001B[43m(\u001B[49m\u001B[43mquery\u001B[49m\u001B[43m)\u001B[49m\n",
      "File \u001B[0;32m/usr/local/lib/python3.10/dist-packages/cassandra/cluster.py:2618\u001B[0m, in \u001B[0;36mcassandra.cluster.Session.execute\u001B[0;34m()\u001B[0m\n",
      "File \u001B[0;32m/usr/local/lib/python3.10/dist-packages/cassandra/cluster.py:4901\u001B[0m, in \u001B[0;36mcassandra.cluster.ResponseFuture.result\u001B[0;34m()\u001B[0m\n",
      "\u001B[0;31mNoHostAvailable\u001B[0m: ('Unable to complete the operation against any hosts', {<Host: 127.0.0.1:9042 datacenter1>: Unavailable('Error from server: code=1000 [Unavailable exception] message=\"Cannot achieve consistency level QUORUM\" info={\\'consistency\\': \\'QUORUM\\', \\'required_replicas\\': 2, \\'alive_replicas\\': 1}')})"
     ]
    }
   ],
   "source": [
    "cluster3 = Cluster(['localhost'], port=9044)\n",
    "session3 = cluster3.connect()\n",
    "\n",
    "session3.execute(f\"USE repl_3\")\n",
    "query = SimpleStatement(\n",
    "    f\"\"\"\n",
    "    INSERT INTO item3 (\n",
    "        category, price, material\n",
    "    ) VALUES (\n",
    "        'ConflictCategory2',\n",
    "        123,\n",
    "        'material3'\n",
    "        )\n",
    "    IF NOT EXISTS;\"\"\",\n",
    "    consistency_level=ConsistencyLevel.ONE)\n",
    "session3.execute(query)"
   ],
   "metadata": {
    "collapsed": false,
    "ExecuteTime": {
     "end_time": "2023-05-06T16:06:05.856934Z",
     "start_time": "2023-05-06T16:06:00.696239Z"
    }
   }
  },
  {
   "cell_type": "code",
   "execution_count": 6,
   "outputs": [
    {
     "ename": "NoHostAvailable",
     "evalue": "('Unable to complete the operation against any hosts', {<Host: 127.0.0.1:9042 datacenter1>: Unavailable('Error from server: code=1000 [Unavailable exception] message=\"Cannot achieve consistency level QUORUM\" info={\\'consistency\\': \\'QUORUM\\', \\'required_replicas\\': 2, \\'alive_replicas\\': 1}')})",
     "output_type": "error",
     "traceback": [
      "\u001B[0;31m---------------------------------------------------------------------------\u001B[0m",
      "\u001B[0;31mNoHostAvailable\u001B[0m                           Traceback (most recent call last)",
      "Cell \u001B[0;32mIn[6], line 12\u001B[0m\n\u001B[1;32m      4\u001B[0m session\u001B[38;5;241m.\u001B[39mexecute(\u001B[38;5;124mf\u001B[39m\u001B[38;5;124m\"\u001B[39m\u001B[38;5;124mUSE repl_3\u001B[39m\u001B[38;5;124m\"\u001B[39m)\n\u001B[1;32m      5\u001B[0m query \u001B[38;5;241m=\u001B[39m SimpleStatement(\n\u001B[1;32m      6\u001B[0m     \u001B[38;5;124mf\u001B[39m\u001B[38;5;124m\"\"\"\u001B[39m\n\u001B[1;32m      7\u001B[0m \u001B[38;5;124m    SELECT *\u001B[39m\n\u001B[0;32m   (...)\u001B[0m\n\u001B[1;32m     10\u001B[0m \u001B[38;5;124m    ORDER BY price;\u001B[39m\u001B[38;5;124m\"\"\"\u001B[39m,\n\u001B[1;32m     11\u001B[0m     consistency_level\u001B[38;5;241m=\u001B[39mConsistencyLevel\u001B[38;5;241m.\u001B[39mQUORUM)\n\u001B[0;32m---> 12\u001B[0m result \u001B[38;5;241m=\u001B[39m \u001B[43msession\u001B[49m\u001B[38;5;241;43m.\u001B[39;49m\u001B[43mexecute\u001B[49m\u001B[43m(\u001B[49m\u001B[43mquery\u001B[49m\u001B[43m)\u001B[49m\n\u001B[1;32m     13\u001B[0m \u001B[38;5;28;01mif\u001B[39;00m result:\n\u001B[1;32m     14\u001B[0m     \u001B[38;5;28;01mfor\u001B[39;00m row \u001B[38;5;129;01min\u001B[39;00m result:\n",
      "File \u001B[0;32m/usr/local/lib/python3.10/dist-packages/cassandra/cluster.py:2618\u001B[0m, in \u001B[0;36mcassandra.cluster.Session.execute\u001B[0;34m()\u001B[0m\n",
      "File \u001B[0;32m/usr/local/lib/python3.10/dist-packages/cassandra/cluster.py:4901\u001B[0m, in \u001B[0;36mcassandra.cluster.ResponseFuture.result\u001B[0;34m()\u001B[0m\n",
      "\u001B[0;31mNoHostAvailable\u001B[0m: ('Unable to complete the operation against any hosts', {<Host: 127.0.0.1:9042 datacenter1>: Unavailable('Error from server: code=1000 [Unavailable exception] message=\"Cannot achieve consistency level QUORUM\" info={\\'consistency\\': \\'QUORUM\\', \\'required_replicas\\': 2, \\'alive_replicas\\': 1}')})"
     ]
    }
   ],
   "source": [
    "cluster = Cluster(['localhost'], port=9042)\n",
    "session = cluster.connect()\n",
    "\n",
    "session.execute(f\"USE repl_3\")\n",
    "query = SimpleStatement(\n",
    "    f\"\"\"\n",
    "    SELECT *\n",
    "    FROM item3\n",
    "    WHERE category = 'ConflictCategory2'\n",
    "    ORDER BY price;\"\"\",\n",
    "    consistency_level=ConsistencyLevel.QUORUM)\n",
    "result = session.execute(query)\n",
    "if result:\n",
    "    for row in result:\n",
    "        print(*row, '\\n')"
   ],
   "metadata": {
    "collapsed": false,
    "ExecuteTime": {
     "end_time": "2023-05-06T16:06:51.440430Z",
     "start_time": "2023-05-06T16:06:51.374695Z"
    }
   }
  },
  {
   "cell_type": "markdown",
   "source": [
    "В не розділеному стані"
   ],
   "metadata": {
    "collapsed": false
   }
  },
  {
   "cell_type": "code",
   "execution_count": 157,
   "outputs": [
    {
     "data": {
      "text/plain": "<cassandra.cluster.ResultSet at 0x1275e3d90>"
     },
     "execution_count": 157,
     "metadata": {},
     "output_type": "execute_result"
    }
   ],
   "source": [
    "cluster = Cluster(['localhost'], port=9042)\n",
    "session = cluster.connect()\n",
    "\n",
    "session.execute(f\"USE repl_3\")\n",
    "query = SimpleStatement(\n",
    "    f\"\"\"\n",
    "    INSERT INTO item3 (\n",
    "        category, price, material\n",
    "    ) VALUES (\n",
    "        'ConflictCategory3',\n",
    "        123,\n",
    "        'material1'\n",
    "        )\n",
    "    IF NOT EXISTS;\"\"\")\n",
    "session.execute(query)"
   ],
   "metadata": {
    "collapsed": false,
    "ExecuteTime": {
     "end_time": "2023-05-06T16:07:28.086644Z",
     "start_time": "2023-05-06T16:07:23.000500Z"
    }
   }
  },
  {
   "cell_type": "code",
   "execution_count": 159,
   "outputs": [
    {
     "name": "stdout",
     "output_type": "stream",
     "text": [
      "ConflictCategory3 123 material1 \n",
      "\n"
     ]
    }
   ],
   "source": [
    "cluster = Cluster(['localhost'], port=9042)\n",
    "session = cluster.connect()\n",
    "\n",
    "session.execute(f\"USE repl_3\")\n",
    "query = SimpleStatement(\n",
    "    f\"\"\"\n",
    "    SELECT *\n",
    "    FROM item3\n",
    "    WHERE category = 'ConflictCategory3'\n",
    "    ORDER BY price;\"\"\",\n",
    "    consistency_level=ConsistencyLevel.QUORUM)\n",
    "result = session.execute(query)\n",
    "if result:\n",
    "    for row in result:\n",
    "        print(*row, '\\n')"
   ],
   "metadata": {
    "collapsed": false,
    "ExecuteTime": {
     "end_time": "2023-05-06T16:07:57.903428Z",
     "start_time": "2023-05-06T16:07:52.809651Z"
    }
   }
  },
  {
   "cell_type": "code",
   "execution_count": null,
   "outputs": [],
   "source": [],
   "metadata": {
    "collapsed": false
   }
  }
 ],
 "metadata": {
  "kernelspec": {
   "display_name": "Python 3",
   "language": "python",
   "name": "python3"
  },
  "language_info": {
   "codemirror_mode": {
    "name": "ipython",
    "version": 2
   },
   "file_extension": ".py",
   "mimetype": "text/x-python",
   "name": "python",
   "nbconvert_exporter": "python",
   "pygments_lexer": "ipython2",
   "version": "2.7.6"
  }
 },
 "nbformat": 4,
 "nbformat_minor": 0
}
