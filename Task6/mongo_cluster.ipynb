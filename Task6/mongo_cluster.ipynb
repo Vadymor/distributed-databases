{
 "cells": [
  {
   "cell_type": "code",
   "execution_count": 50,
   "outputs": [],
   "source": [
    "from pymongo import MongoClient\n",
    "from pymongo.write_concern import WriteConcern\n",
    "from pymongo import ReadPreference\n",
    "from pymongo.read_concern import ReadConcern"
   ],
   "metadata": {
    "collapsed": false
   }
  },
  {
   "cell_type": "code",
   "execution_count": 10,
   "outputs": [],
   "source": [
    "c = MongoClient('localhost', 27020, directConnection=True)"
   ],
   "metadata": {
    "collapsed": false
   }
  },
  {
   "cell_type": "code",
   "execution_count": 11,
   "outputs": [],
   "source": [
    "config = {'_id': 'foo', 'members': [\n",
    "    {'_id': 0, 'host': 'localhost:27020'},\n",
    "    {'_id': 1, 'host': 'localhost:27018'},\n",
    "    {'_id': 2, 'host': 'localhost:27019'}]}"
   ],
   "metadata": {
    "collapsed": false
   }
  },
  {
   "cell_type": "code",
   "execution_count": 12,
   "outputs": [
    {
     "data": {
      "text/plain": "{'ok': 1.0}"
     },
     "execution_count": 12,
     "metadata": {},
     "output_type": "execute_result"
    }
   ],
   "source": [
    "c.admin.command(\"replSetInitiate\", config)"
   ],
   "metadata": {
    "collapsed": false
   }
  },
  {
   "cell_type": "markdown",
   "source": [
    "2) Продемонструвати запис даних на primary node з різними Write Concern Levels"
   ],
   "metadata": {
    "collapsed": false
   }
  },
  {
   "cell_type": "code",
   "execution_count": 19,
   "outputs": [],
   "source": [
    "db = MongoClient(\"mongodb://localhost:27017,localhost:27018,localhost:27020\", replicaSet='foo').test"
   ],
   "metadata": {
    "collapsed": false
   }
  },
  {
   "cell_type": "markdown",
   "source": [
    "Unacknowledged"
   ],
   "metadata": {
    "collapsed": false
   }
  },
  {
   "cell_type": "code",
   "execution_count": 34,
   "outputs": [
    {
     "data": {
      "text/plain": "<pymongo.results.InsertOneResult at 0x7f7f3f030b20>"
     },
     "execution_count": 34,
     "metadata": {},
     "output_type": "execute_result"
    }
   ],
   "source": [
    "db.products\\\n",
    "    .with_options(write_concern=WriteConcern(w=0))\\\n",
    "    .insert_one({\"item\": \"phone1\", \"price\": 875, \"type\": \"Unacknowledged\"},)"
   ],
   "metadata": {
    "collapsed": false
   }
  },
  {
   "cell_type": "markdown",
   "source": [
    "Acknowledged"
   ],
   "metadata": {
    "collapsed": false
   }
  },
  {
   "cell_type": "code",
   "execution_count": 35,
   "outputs": [
    {
     "data": {
      "text/plain": "<pymongo.results.InsertOneResult at 0x7f7f3f033dc0>"
     },
     "execution_count": 35,
     "metadata": {},
     "output_type": "execute_result"
    }
   ],
   "source": [
    "db.products\\\n",
    "    .with_options(write_concern=WriteConcern(w=1))\\\n",
    "    .insert_one({\"item\": \"phone2\", \"price\": 875, \"type\": \"Acknowledged\"},)"
   ],
   "metadata": {
    "collapsed": false
   }
  },
  {
   "cell_type": "markdown",
   "source": [
    "Journaled"
   ],
   "metadata": {
    "collapsed": false
   }
  },
  {
   "cell_type": "code",
   "execution_count": 36,
   "outputs": [
    {
     "data": {
      "text/plain": "<pymongo.results.InsertOneResult at 0x7f7fe5666b60>"
     },
     "execution_count": 36,
     "metadata": {},
     "output_type": "execute_result"
    }
   ],
   "source": [
    "db.products\\\n",
    "    .with_options(write_concern=WriteConcern(w=1, j=True))\\\n",
    "    .insert_one({\"item\": \"phone3\", \"price\": 875, \"type\": \"Journaled\"},)"
   ],
   "metadata": {
    "collapsed": false
   }
  },
  {
   "cell_type": "markdown",
   "source": [
    "AcknowledgedReplica"
   ],
   "metadata": {
    "collapsed": false
   }
  },
  {
   "cell_type": "code",
   "execution_count": 37,
   "outputs": [
    {
     "data": {
      "text/plain": "<pymongo.results.InsertOneResult at 0x7f7fc4d2fc10>"
     },
     "execution_count": 37,
     "metadata": {},
     "output_type": "execute_result"
    }
   ],
   "source": [
    "db.products\\\n",
    "    .with_options(write_concern=WriteConcern(w=\"majority\"))\\\n",
    "    .insert_one({\"item\": \"phone4\", \"price\": 875, \"type\": \"AcknowledgedReplica\"},)"
   ],
   "metadata": {
    "collapsed": false
   }
  },
  {
   "cell_type": "code",
   "execution_count": 38,
   "outputs": [
    {
     "data": {
      "text/plain": "[{'_id': ObjectId('6452402803201b95e0a4e2b0'),\n  'item': 'phone1',\n  'price': 875,\n  'type': 'Unacknowledged'},\n {'_id': ObjectId('6452402e03201b95e0a4e2b1'),\n  'item': 'phone2',\n  'price': 875,\n  'type': 'Acknowledged'},\n {'_id': ObjectId('6452402f03201b95e0a4e2b2'),\n  'item': 'phone3',\n  'price': 875,\n  'type': 'Journaled'},\n {'_id': ObjectId('6452403003201b95e0a4e2b3'),\n  'item': 'phone4',\n  'price': 875,\n  'type': 'AcknowledgedReplica'}]"
     },
     "execution_count": 38,
     "metadata": {},
     "output_type": "execute_result"
    }
   ],
   "source": [
    "list(db.products.find({}))"
   ],
   "metadata": {
    "collapsed": false
   }
  },
  {
   "cell_type": "markdown",
   "source": [
    "3) Продемонструвати Read Preference Modes: читання з primary і secondary node"
   ],
   "metadata": {
    "collapsed": false
   }
  },
  {
   "cell_type": "code",
   "execution_count": 40,
   "outputs": [
    {
     "data": {
      "text/plain": "Primary()"
     },
     "execution_count": 40,
     "metadata": {},
     "output_type": "execute_result"
    }
   ],
   "source": [
    "# read primary\n",
    "products = db.get_collection('products', read_preference=ReadPreference.PRIMARY)\n",
    "products.read_preference"
   ],
   "metadata": {
    "collapsed": false
   }
  },
  {
   "cell_type": "code",
   "execution_count": 41,
   "outputs": [
    {
     "data": {
      "text/plain": "[{'_id': ObjectId('6452402803201b95e0a4e2b0'),\n  'item': 'phone1',\n  'price': 875,\n  'type': 'Unacknowledged'},\n {'_id': ObjectId('6452402e03201b95e0a4e2b1'),\n  'item': 'phone2',\n  'price': 875,\n  'type': 'Acknowledged'},\n {'_id': ObjectId('6452402f03201b95e0a4e2b2'),\n  'item': 'phone3',\n  'price': 875,\n  'type': 'Journaled'},\n {'_id': ObjectId('6452403003201b95e0a4e2b3'),\n  'item': 'phone4',\n  'price': 875,\n  'type': 'AcknowledgedReplica'}]"
     },
     "execution_count": 41,
     "metadata": {},
     "output_type": "execute_result"
    }
   ],
   "source": [
    "list(products.find({}))"
   ],
   "metadata": {
    "collapsed": false
   }
  },
  {
   "cell_type": "code",
   "execution_count": 42,
   "outputs": [
    {
     "data": {
      "text/plain": "Secondary(tag_sets=None, max_staleness=-1, hedge=None)"
     },
     "execution_count": 42,
     "metadata": {},
     "output_type": "execute_result"
    }
   ],
   "source": [
    "# read secondary\n",
    "products = db.get_collection('products', read_preference=ReadPreference.SECONDARY)\n",
    "products.read_preference"
   ],
   "metadata": {
    "collapsed": false
   }
  },
  {
   "cell_type": "code",
   "execution_count": 43,
   "outputs": [
    {
     "data": {
      "text/plain": "[{'_id': ObjectId('6452402803201b95e0a4e2b0'),\n  'item': 'phone1',\n  'price': 875,\n  'type': 'Unacknowledged'},\n {'_id': ObjectId('6452402e03201b95e0a4e2b1'),\n  'item': 'phone2',\n  'price': 875,\n  'type': 'Acknowledged'},\n {'_id': ObjectId('6452402f03201b95e0a4e2b2'),\n  'item': 'phone3',\n  'price': 875,\n  'type': 'Journaled'},\n {'_id': ObjectId('6452403003201b95e0a4e2b3'),\n  'item': 'phone4',\n  'price': 875,\n  'type': 'AcknowledgedReplica'}]"
     },
     "execution_count": 43,
     "metadata": {},
     "output_type": "execute_result"
    }
   ],
   "source": [
    "list(products.find({}))"
   ],
   "metadata": {
    "collapsed": false
   }
  },
  {
   "cell_type": "markdown",
   "source": [
    "4) Спробувати зробити запис з однією відключеною нодою та write concern рівнім 3 та нескінченім таймаутом. Спробувати під час таймаута включити відключену ноду\n"
   ],
   "metadata": {
    "collapsed": false
   }
  },
  {
   "cell_type": "code",
   "execution_count": 44,
   "outputs": [
    {
     "data": {
      "text/plain": "<pymongo.results.InsertOneResult at 0x7f7f3f030b50>"
     },
     "execution_count": 44,
     "metadata": {},
     "output_type": "execute_result"
    }
   ],
   "source": [
    "db.products\\\n",
    "    .with_options(write_concern=WriteConcern(w=3, wtimeout=0))\\\n",
    "    .insert_one({\"item\": \"phone5\", \"price\": 875, \"type\": \"timeout\"},)"
   ],
   "metadata": {
    "collapsed": false
   }
  },
  {
   "cell_type": "markdown",
   "source": [
    "Поки нода була вимкнута, то запит був у стані виконання. Після ввімкнення ноди знову, через кілька секунд, виконання запиту закінчилося."
   ],
   "metadata": {
    "collapsed": false
   }
  },
  {
   "cell_type": "code",
   "execution_count": 118,
   "outputs": [
    {
     "data": {
      "text/plain": "[{'_id': ObjectId('64524aaf03201b95e0a4e2b4'),\n  'item': 'phone5',\n  'price': 875,\n  'type': 'timeout'}]"
     },
     "execution_count": 118,
     "metadata": {},
     "output_type": "execute_result"
    }
   ],
   "source": [
    "list(db.products.find({'item': 'phone5'}))"
   ],
   "metadata": {
    "collapsed": false
   }
  },
  {
   "cell_type": "markdown",
   "source": [
    "5) Аналогічно попередньому пункту, але задати скінченний таймаут та дочекатись його закінчення. Перевірити чи данні записались і чи доступні на читання з рівнем readConcern: “majority”\n"
   ],
   "metadata": {
    "collapsed": false
   }
  },
  {
   "cell_type": "code",
   "execution_count": 47,
   "outputs": [
    {
     "ename": "WTimeoutError",
     "evalue": "waiting for replication timed out, full error: {'code': 64, 'codeName': 'WriteConcernFailed', 'errmsg': 'waiting for replication timed out', 'errInfo': {'wtimeout': True, 'writeConcern': {'w': 3, 'wtimeout': 1000, 'provenance': 'clientSupplied'}}}",
     "output_type": "error",
     "traceback": [
      "\u001B[0;31m---------------------------------------------------------------------------\u001B[0m",
      "\u001B[0;31mWTimeoutError\u001B[0m                             Traceback (most recent call last)",
      "Cell \u001B[0;32mIn[47], line 3\u001B[0m\n\u001B[1;32m      1\u001B[0m \u001B[43mdb\u001B[49m\u001B[38;5;241;43m.\u001B[39;49m\u001B[43mproducts\u001B[49m\u001B[43m\\\u001B[49m\n\u001B[1;32m      2\u001B[0m \u001B[43m    \u001B[49m\u001B[38;5;241;43m.\u001B[39;49m\u001B[43mwith_options\u001B[49m\u001B[43m(\u001B[49m\u001B[43mwrite_concern\u001B[49m\u001B[38;5;241;43m=\u001B[39;49m\u001B[43mWriteConcern\u001B[49m\u001B[43m(\u001B[49m\u001B[43mw\u001B[49m\u001B[38;5;241;43m=\u001B[39;49m\u001B[38;5;241;43m3\u001B[39;49m\u001B[43m,\u001B[49m\u001B[43m \u001B[49m\u001B[43mwtimeout\u001B[49m\u001B[38;5;241;43m=\u001B[39;49m\u001B[38;5;241;43m1000\u001B[39;49m\u001B[43m)\u001B[49m\u001B[43m)\u001B[49m\u001B[43m\\\u001B[49m\n\u001B[0;32m----> 3\u001B[0m \u001B[43m    \u001B[49m\u001B[38;5;241;43m.\u001B[39;49m\u001B[43minsert_one\u001B[49m\u001B[43m(\u001B[49m\u001B[43m{\u001B[49m\u001B[38;5;124;43m\"\u001B[39;49m\u001B[38;5;124;43mitem\u001B[39;49m\u001B[38;5;124;43m\"\u001B[39;49m\u001B[43m:\u001B[49m\u001B[43m \u001B[49m\u001B[38;5;124;43m\"\u001B[39;49m\u001B[38;5;124;43mphone6\u001B[39;49m\u001B[38;5;124;43m\"\u001B[39;49m\u001B[43m,\u001B[49m\u001B[43m \u001B[49m\u001B[38;5;124;43m\"\u001B[39;49m\u001B[38;5;124;43mprice\u001B[39;49m\u001B[38;5;124;43m\"\u001B[39;49m\u001B[43m:\u001B[49m\u001B[43m \u001B[49m\u001B[38;5;241;43m875\u001B[39;49m\u001B[43m,\u001B[49m\u001B[43m \u001B[49m\u001B[38;5;124;43m\"\u001B[39;49m\u001B[38;5;124;43mtype\u001B[39;49m\u001B[38;5;124;43m\"\u001B[39;49m\u001B[43m:\u001B[49m\u001B[43m \u001B[49m\u001B[38;5;124;43m\"\u001B[39;49m\u001B[38;5;124;43mtimeout\u001B[39;49m\u001B[38;5;124;43m\"\u001B[39;49m\u001B[43m}\u001B[49m\u001B[43m,\u001B[49m\u001B[43m)\u001B[49m\n",
      "File \u001B[0;32m~/.local/lib/python3.10/site-packages/pymongo/collection.py:628\u001B[0m, in \u001B[0;36mCollection.insert_one\u001B[0;34m(self, document, bypass_document_validation, session, comment)\u001B[0m\n\u001B[1;32m    624\u001B[0m     document[\u001B[38;5;124m\"\u001B[39m\u001B[38;5;124m_id\u001B[39m\u001B[38;5;124m\"\u001B[39m] \u001B[38;5;241m=\u001B[39m ObjectId()  \u001B[38;5;66;03m# type: ignore[index]\u001B[39;00m\n\u001B[1;32m    626\u001B[0m write_concern \u001B[38;5;241m=\u001B[39m \u001B[38;5;28mself\u001B[39m\u001B[38;5;241m.\u001B[39m_write_concern_for(session)\n\u001B[1;32m    627\u001B[0m \u001B[38;5;28;01mreturn\u001B[39;00m InsertOneResult(\n\u001B[0;32m--> 628\u001B[0m     \u001B[38;5;28;43mself\u001B[39;49m\u001B[38;5;241;43m.\u001B[39;49m\u001B[43m_insert_one\u001B[49m\u001B[43m(\u001B[49m\n\u001B[1;32m    629\u001B[0m \u001B[43m        \u001B[49m\u001B[43mdocument\u001B[49m\u001B[43m,\u001B[49m\n\u001B[1;32m    630\u001B[0m \u001B[43m        \u001B[49m\u001B[43mordered\u001B[49m\u001B[38;5;241;43m=\u001B[39;49m\u001B[38;5;28;43;01mTrue\u001B[39;49;00m\u001B[43m,\u001B[49m\n\u001B[1;32m    631\u001B[0m \u001B[43m        \u001B[49m\u001B[43mwrite_concern\u001B[49m\u001B[38;5;241;43m=\u001B[39;49m\u001B[43mwrite_concern\u001B[49m\u001B[43m,\u001B[49m\n\u001B[1;32m    632\u001B[0m \u001B[43m        \u001B[49m\u001B[43mop_id\u001B[49m\u001B[38;5;241;43m=\u001B[39;49m\u001B[38;5;28;43;01mNone\u001B[39;49;00m\u001B[43m,\u001B[49m\n\u001B[1;32m    633\u001B[0m \u001B[43m        \u001B[49m\u001B[43mbypass_doc_val\u001B[49m\u001B[38;5;241;43m=\u001B[39;49m\u001B[43mbypass_document_validation\u001B[49m\u001B[43m,\u001B[49m\n\u001B[1;32m    634\u001B[0m \u001B[43m        \u001B[49m\u001B[43msession\u001B[49m\u001B[38;5;241;43m=\u001B[39;49m\u001B[43msession\u001B[49m\u001B[43m,\u001B[49m\n\u001B[1;32m    635\u001B[0m \u001B[43m        \u001B[49m\u001B[43mcomment\u001B[49m\u001B[38;5;241;43m=\u001B[39;49m\u001B[43mcomment\u001B[49m\u001B[43m,\u001B[49m\n\u001B[1;32m    636\u001B[0m \u001B[43m    \u001B[49m\u001B[43m)\u001B[49m,\n\u001B[1;32m    637\u001B[0m     write_concern\u001B[38;5;241m.\u001B[39macknowledged,\n\u001B[1;32m    638\u001B[0m )\n",
      "File \u001B[0;32m~/.local/lib/python3.10/site-packages/pymongo/collection.py:569\u001B[0m, in \u001B[0;36mCollection._insert_one\u001B[0;34m(self, doc, ordered, write_concern, op_id, bypass_doc_val, session, comment)\u001B[0m\n\u001B[1;32m    557\u001B[0m     result \u001B[38;5;241m=\u001B[39m sock_info\u001B[38;5;241m.\u001B[39mcommand(\n\u001B[1;32m    558\u001B[0m         \u001B[38;5;28mself\u001B[39m\u001B[38;5;241m.\u001B[39m__database\u001B[38;5;241m.\u001B[39mname,\n\u001B[1;32m    559\u001B[0m         command,\n\u001B[0;32m   (...)\u001B[0m\n\u001B[1;32m    564\u001B[0m         retryable_write\u001B[38;5;241m=\u001B[39mretryable_write,\n\u001B[1;32m    565\u001B[0m     )\n\u001B[1;32m    567\u001B[0m     _check_write_command_response(result)\n\u001B[0;32m--> 569\u001B[0m \u001B[38;5;28;43mself\u001B[39;49m\u001B[38;5;241;43m.\u001B[39;49m\u001B[43m__database\u001B[49m\u001B[38;5;241;43m.\u001B[39;49m\u001B[43mclient\u001B[49m\u001B[38;5;241;43m.\u001B[39;49m\u001B[43m_retryable_write\u001B[49m\u001B[43m(\u001B[49m\u001B[43macknowledged\u001B[49m\u001B[43m,\u001B[49m\u001B[43m \u001B[49m\u001B[43m_insert_command\u001B[49m\u001B[43m,\u001B[49m\u001B[43m \u001B[49m\u001B[43msession\u001B[49m\u001B[43m)\u001B[49m\n\u001B[1;32m    571\u001B[0m \u001B[38;5;28;01mif\u001B[39;00m \u001B[38;5;129;01mnot\u001B[39;00m \u001B[38;5;28misinstance\u001B[39m(doc, RawBSONDocument):\n\u001B[1;32m    572\u001B[0m     \u001B[38;5;28;01mreturn\u001B[39;00m doc\u001B[38;5;241m.\u001B[39mget(\u001B[38;5;124m\"\u001B[39m\u001B[38;5;124m_id\u001B[39m\u001B[38;5;124m\"\u001B[39m)\n",
      "File \u001B[0;32m~/.local/lib/python3.10/site-packages/pymongo/mongo_client.py:1476\u001B[0m, in \u001B[0;36mMongoClient._retryable_write\u001B[0;34m(self, retryable, func, session)\u001B[0m\n\u001B[1;32m   1474\u001B[0m \u001B[38;5;250m\u001B[39m\u001B[38;5;124;03m\"\"\"Internal retryable write helper.\"\"\"\u001B[39;00m\n\u001B[1;32m   1475\u001B[0m \u001B[38;5;28;01mwith\u001B[39;00m \u001B[38;5;28mself\u001B[39m\u001B[38;5;241m.\u001B[39m_tmp_session(session) \u001B[38;5;28;01mas\u001B[39;00m s:\n\u001B[0;32m-> 1476\u001B[0m     \u001B[38;5;28;01mreturn\u001B[39;00m \u001B[38;5;28;43mself\u001B[39;49m\u001B[38;5;241;43m.\u001B[39;49m\u001B[43m_retry_with_session\u001B[49m\u001B[43m(\u001B[49m\u001B[43mretryable\u001B[49m\u001B[43m,\u001B[49m\u001B[43m \u001B[49m\u001B[43mfunc\u001B[49m\u001B[43m,\u001B[49m\u001B[43m \u001B[49m\u001B[43ms\u001B[49m\u001B[43m,\u001B[49m\u001B[43m \u001B[49m\u001B[38;5;28;43;01mNone\u001B[39;49;00m\u001B[43m)\u001B[49m\n",
      "File \u001B[0;32m~/.local/lib/python3.10/site-packages/pymongo/mongo_client.py:1349\u001B[0m, in \u001B[0;36mMongoClient._retry_with_session\u001B[0;34m(self, retryable, func, session, bulk)\u001B[0m\n\u001B[1;32m   1339\u001B[0m \u001B[38;5;250m\u001B[39m\u001B[38;5;124;03m\"\"\"Execute an operation with at most one consecutive retries\u001B[39;00m\n\u001B[1;32m   1340\u001B[0m \n\u001B[1;32m   1341\u001B[0m \u001B[38;5;124;03mReturns func()'s return value on success. On error retries the same\u001B[39;00m\n\u001B[0;32m   (...)\u001B[0m\n\u001B[1;32m   1344\u001B[0m \u001B[38;5;124;03mRe-raises any exception thrown by func().\u001B[39;00m\n\u001B[1;32m   1345\u001B[0m \u001B[38;5;124;03m\"\"\"\u001B[39;00m\n\u001B[1;32m   1346\u001B[0m retryable \u001B[38;5;241m=\u001B[39m (\n\u001B[1;32m   1347\u001B[0m     retryable \u001B[38;5;129;01mand\u001B[39;00m \u001B[38;5;28mself\u001B[39m\u001B[38;5;241m.\u001B[39moptions\u001B[38;5;241m.\u001B[39mretry_writes \u001B[38;5;129;01mand\u001B[39;00m session \u001B[38;5;129;01mand\u001B[39;00m \u001B[38;5;129;01mnot\u001B[39;00m session\u001B[38;5;241m.\u001B[39min_transaction\n\u001B[1;32m   1348\u001B[0m )\n\u001B[0;32m-> 1349\u001B[0m \u001B[38;5;28;01mreturn\u001B[39;00m \u001B[38;5;28;43mself\u001B[39;49m\u001B[38;5;241;43m.\u001B[39;49m\u001B[43m_retry_internal\u001B[49m\u001B[43m(\u001B[49m\u001B[43mretryable\u001B[49m\u001B[43m,\u001B[49m\u001B[43m \u001B[49m\u001B[43mfunc\u001B[49m\u001B[43m,\u001B[49m\u001B[43m \u001B[49m\u001B[43msession\u001B[49m\u001B[43m,\u001B[49m\u001B[43m \u001B[49m\u001B[43mbulk\u001B[49m\u001B[43m)\u001B[49m\n",
      "File \u001B[0;32m~/.local/lib/python3.10/site-packages/pymongo/_csot.py:105\u001B[0m, in \u001B[0;36mapply.<locals>.csot_wrapper\u001B[0;34m(self, *args, **kwargs)\u001B[0m\n\u001B[1;32m    103\u001B[0m         \u001B[38;5;28;01mwith\u001B[39;00m _TimeoutContext(timeout):\n\u001B[1;32m    104\u001B[0m             \u001B[38;5;28;01mreturn\u001B[39;00m func(\u001B[38;5;28mself\u001B[39m, \u001B[38;5;241m*\u001B[39margs, \u001B[38;5;241m*\u001B[39m\u001B[38;5;241m*\u001B[39mkwargs)\n\u001B[0;32m--> 105\u001B[0m \u001B[38;5;28;01mreturn\u001B[39;00m \u001B[43mfunc\u001B[49m\u001B[43m(\u001B[49m\u001B[38;5;28;43mself\u001B[39;49m\u001B[43m,\u001B[49m\u001B[43m \u001B[49m\u001B[38;5;241;43m*\u001B[39;49m\u001B[43margs\u001B[49m\u001B[43m,\u001B[49m\u001B[43m \u001B[49m\u001B[38;5;241;43m*\u001B[39;49m\u001B[38;5;241;43m*\u001B[39;49m\u001B[43mkwargs\u001B[49m\u001B[43m)\u001B[49m\n",
      "File \u001B[0;32m~/.local/lib/python3.10/site-packages/pymongo/mongo_client.py:1390\u001B[0m, in \u001B[0;36mMongoClient._retry_internal\u001B[0;34m(self, retryable, func, session, bulk)\u001B[0m\n\u001B[1;32m   1388\u001B[0m                 \u001B[38;5;28;01mraise\u001B[39;00m last_error\n\u001B[1;32m   1389\u001B[0m             retryable \u001B[38;5;241m=\u001B[39m \u001B[38;5;28;01mFalse\u001B[39;00m\n\u001B[0;32m-> 1390\u001B[0m         \u001B[38;5;28;01mreturn\u001B[39;00m \u001B[43mfunc\u001B[49m\u001B[43m(\u001B[49m\u001B[43msession\u001B[49m\u001B[43m,\u001B[49m\u001B[43m \u001B[49m\u001B[43msock_info\u001B[49m\u001B[43m,\u001B[49m\u001B[43m \u001B[49m\u001B[43mretryable\u001B[49m\u001B[43m)\u001B[49m\n\u001B[1;32m   1391\u001B[0m \u001B[38;5;28;01mexcept\u001B[39;00m ServerSelectionTimeoutError:\n\u001B[1;32m   1392\u001B[0m     \u001B[38;5;28;01mif\u001B[39;00m is_retrying():\n\u001B[1;32m   1393\u001B[0m         \u001B[38;5;66;03m# The application may think the write was never attempted\u001B[39;00m\n\u001B[1;32m   1394\u001B[0m         \u001B[38;5;66;03m# if we raise ServerSelectionTimeoutError on the retry\u001B[39;00m\n\u001B[1;32m   1395\u001B[0m         \u001B[38;5;66;03m# attempt. Raise the original exception instead.\u001B[39;00m\n",
      "File \u001B[0;32m~/.local/lib/python3.10/site-packages/pymongo/collection.py:567\u001B[0m, in \u001B[0;36mCollection._insert_one.<locals>._insert_command\u001B[0;34m(session, sock_info, retryable_write)\u001B[0m\n\u001B[1;32m    555\u001B[0m     command[\u001B[38;5;124m\"\u001B[39m\u001B[38;5;124mbypassDocumentValidation\u001B[39m\u001B[38;5;124m\"\u001B[39m] \u001B[38;5;241m=\u001B[39m \u001B[38;5;28;01mTrue\u001B[39;00m\n\u001B[1;32m    557\u001B[0m result \u001B[38;5;241m=\u001B[39m sock_info\u001B[38;5;241m.\u001B[39mcommand(\n\u001B[1;32m    558\u001B[0m     \u001B[38;5;28mself\u001B[39m\u001B[38;5;241m.\u001B[39m__database\u001B[38;5;241m.\u001B[39mname,\n\u001B[1;32m    559\u001B[0m     command,\n\u001B[0;32m   (...)\u001B[0m\n\u001B[1;32m    564\u001B[0m     retryable_write\u001B[38;5;241m=\u001B[39mretryable_write,\n\u001B[1;32m    565\u001B[0m )\n\u001B[0;32m--> 567\u001B[0m \u001B[43m_check_write_command_response\u001B[49m\u001B[43m(\u001B[49m\u001B[43mresult\u001B[49m\u001B[43m)\u001B[49m\n",
      "File \u001B[0;32m~/.local/lib/python3.10/site-packages/pymongo/helpers.py:221\u001B[0m, in \u001B[0;36m_check_write_command_response\u001B[0;34m(result)\u001B[0m\n\u001B[1;32m    219\u001B[0m wce \u001B[38;5;241m=\u001B[39m _get_wce_doc(result)\n\u001B[1;32m    220\u001B[0m \u001B[38;5;28;01mif\u001B[39;00m wce:\n\u001B[0;32m--> 221\u001B[0m     \u001B[43m_raise_write_concern_error\u001B[49m\u001B[43m(\u001B[49m\u001B[43mwce\u001B[49m\u001B[43m)\u001B[49m\n",
      "File \u001B[0;32m~/.local/lib/python3.10/site-packages/pymongo/helpers.py:196\u001B[0m, in \u001B[0;36m_raise_write_concern_error\u001B[0;34m(error)\u001B[0m\n\u001B[1;32m    193\u001B[0m \u001B[38;5;28;01mdef\u001B[39;00m \u001B[38;5;21m_raise_write_concern_error\u001B[39m(error: Any) \u001B[38;5;241m-\u001B[39m\u001B[38;5;241m>\u001B[39m NoReturn:\n\u001B[1;32m    194\u001B[0m     \u001B[38;5;28;01mif\u001B[39;00m _wtimeout_error(error):\n\u001B[1;32m    195\u001B[0m         \u001B[38;5;66;03m# Make sure we raise WTimeoutError\u001B[39;00m\n\u001B[0;32m--> 196\u001B[0m         \u001B[38;5;28;01mraise\u001B[39;00m WTimeoutError(error\u001B[38;5;241m.\u001B[39mget(\u001B[38;5;124m\"\u001B[39m\u001B[38;5;124merrmsg\u001B[39m\u001B[38;5;124m\"\u001B[39m), error\u001B[38;5;241m.\u001B[39mget(\u001B[38;5;124m\"\u001B[39m\u001B[38;5;124mcode\u001B[39m\u001B[38;5;124m\"\u001B[39m), error)\n\u001B[1;32m    197\u001B[0m     \u001B[38;5;28;01mraise\u001B[39;00m WriteConcernError(error\u001B[38;5;241m.\u001B[39mget(\u001B[38;5;124m\"\u001B[39m\u001B[38;5;124merrmsg\u001B[39m\u001B[38;5;124m\"\u001B[39m), error\u001B[38;5;241m.\u001B[39mget(\u001B[38;5;124m\"\u001B[39m\u001B[38;5;124mcode\u001B[39m\u001B[38;5;124m\"\u001B[39m), error)\n",
      "\u001B[0;31mWTimeoutError\u001B[0m: waiting for replication timed out, full error: {'code': 64, 'codeName': 'WriteConcernFailed', 'errmsg': 'waiting for replication timed out', 'errInfo': {'wtimeout': True, 'writeConcern': {'w': 3, 'wtimeout': 1000, 'provenance': 'clientSupplied'}}}"
     ]
    }
   ],
   "source": [
    "db.products\\\n",
    "    .with_options(write_concern=WriteConcern(w=3, wtimeout=1000))\\\n",
    "    .insert_one({\"item\": \"phone6\", \"price\": 875, \"type\": \"timeout\"},)"
   ],
   "metadata": {
    "collapsed": false
   }
  },
  {
   "cell_type": "markdown",
   "source": [
    "Перевірка чи данні записалися: так"
   ],
   "metadata": {
    "collapsed": false
   }
  },
  {
   "cell_type": "code",
   "execution_count": 48,
   "outputs": [
    {
     "data": {
      "text/plain": "[{'_id': ObjectId('64524c4603201b95e0a4e2b5'),\n  'item': 'phone6',\n  'price': 875,\n  'type': 'timeout'}]"
     },
     "execution_count": 48,
     "metadata": {},
     "output_type": "execute_result"
    }
   ],
   "source": [
    "list(db.products.find({'item': 'phone6'}))"
   ],
   "metadata": {
    "collapsed": false
   }
  },
  {
   "cell_type": "markdown",
   "source": [
    "Пееревірка чи данні доступні на читання з рівнем readConcern: “majority”. Так, тому що запис не відбувся лише на одну ноду з трьох, а majority не вичитує всі ноди"
   ],
   "metadata": {
    "collapsed": false
   }
  },
  {
   "cell_type": "code",
   "execution_count": 51,
   "outputs": [
    {
     "data": {
      "text/plain": "[{'_id': ObjectId('64524c4603201b95e0a4e2b5'),\n  'item': 'phone6',\n  'price': 875,\n  'type': 'timeout'}]"
     },
     "execution_count": 51,
     "metadata": {},
     "output_type": "execute_result"
    }
   ],
   "source": [
    "list(db.products.\n",
    "     with_options(read_concern=ReadConcern(level=\"majority\"))\\\n",
    "     .find({'item': 'phone6'}))"
   ],
   "metadata": {
    "collapsed": false
   }
  },
  {
   "cell_type": "markdown",
   "source": [
    "6) Продемонстрував перевибори primary node в відключивши поточний primary (Replica Set Elections) і що після відновлення роботи старої primary на неї реплікуються нові дані, які з'явилися під час її простою"
   ],
   "metadata": {
    "collapsed": false
   }
  },
  {
   "cell_type": "code",
   "execution_count": 52,
   "outputs": [
    {
     "data": {
      "text/plain": "<pymongo.results.InsertOneResult at 0x7f7f3af41600>"
     },
     "execution_count": 52,
     "metadata": {},
     "output_type": "execute_result"
    }
   ],
   "source": [
    "db.products\\\n",
    "    .with_options(write_concern=WriteConcern(w=\"majority\", wtimeout=0))\\\n",
    "    .insert_one({\"item\": \"phone7\", \"price\": 875, \"type\": \"reelection\"},)"
   ],
   "metadata": {
    "collapsed": false
   }
  },
  {
   "cell_type": "markdown",
   "source": [
    "Для того, аби перевірити, що дані реплікувалися на старий primary, то було вимкнуто новий primary, та прочитано дані з Read Preference Primary"
   ],
   "metadata": {
    "collapsed": false
   }
  },
  {
   "cell_type": "code",
   "execution_count": 73,
   "outputs": [
    {
     "data": {
      "text/plain": "('localhost', 27020)"
     },
     "execution_count": 73,
     "metadata": {},
     "output_type": "execute_result"
    }
   ],
   "source": [
    "db.client.address"
   ],
   "metadata": {
    "collapsed": false
   }
  },
  {
   "cell_type": "code",
   "execution_count": 71,
   "outputs": [
    {
     "data": {
      "text/plain": "[{'_id': ObjectId('64524f3203201b95e0a4e2b6'),\n  'item': 'phone7',\n  'price': 875,\n  'type': 'reelection'}]"
     },
     "execution_count": 71,
     "metadata": {},
     "output_type": "execute_result"
    }
   ],
   "source": [
    "list(db.products.\n",
    "     with_options(read_preference=ReadPreference.PRIMARY)\\\n",
    "     .find({'item': 'phone7'}))"
   ],
   "metadata": {
    "collapsed": false
   }
  },
  {
   "cell_type": "markdown",
   "source": [
    "7) Привести кластер до неконсистентного стану користуючись моментом часу коли primary node не відразу помічає відсутність secondary node\n",
    " - відключивши дві secondary node протягом 5 сек. на мастер записати значення (з w:1) і перевірити, що воно записалось\n",
    " - спробувати зчитати це значення з різними рівнями read concern - readConcern: {level: <\"majority\"|\"local\"| \"linearizable\">}\n",
    " - включити дві інші ноди таким чином, щоб вони не бачили попереднього мастера (його можна відключити) і дочекатись поки вони оберуть нового мастера\n",
    " - підключити (включити) попередню primary-ноду до кластеру і подивитись, що сталось зі значенням яке було на неї записано\n"
   ],
   "metadata": {
    "collapsed": false
   }
  },
  {
   "cell_type": "code",
   "execution_count": 75,
   "outputs": [
    {
     "data": {
      "text/plain": "<pymongo.results.InsertOneResult at 0x7f7f3af40d00>"
     },
     "execution_count": 75,
     "metadata": {},
     "output_type": "execute_result"
    }
   ],
   "source": [
    "db.products\\\n",
    "    .with_options(write_concern=WriteConcern(w=1, wtimeout=0))\\\n",
    "    .insert_one({\"item\": \"phone9\", \"price\": 1100, \"type\": \"inconsistency\"},)"
   ],
   "metadata": {
    "collapsed": false
   }
  },
  {
   "cell_type": "code",
   "execution_count": 80,
   "outputs": [
    {
     "data": {
      "text/plain": "[{'_id': ObjectId('64525be503201b95e0a4e2b8'),\n  'item': 'phone9',\n  'price': 1100,\n  'type': 'inconsistency'}]"
     },
     "execution_count": 80,
     "metadata": {},
     "output_type": "execute_result"
    }
   ],
   "source": [
    "list(db.products.find({'item': 'phone9'}))"
   ],
   "metadata": {
    "collapsed": false
   }
  },
  {
   "cell_type": "code",
   "execution_count": 81,
   "outputs": [
    {
     "data": {
      "text/plain": "[{'_id': ObjectId('64525be503201b95e0a4e2b8'),\n  'item': 'phone9',\n  'price': 1100,\n  'type': 'inconsistency'}]"
     },
     "execution_count": 81,
     "metadata": {},
     "output_type": "execute_result"
    }
   ],
   "source": [
    "# read concern: \"majority\"\n",
    "list(db.products.\n",
    "     with_options(read_concern=ReadConcern(level=\"majority\"))\\\n",
    "     .find({'item': 'phone9'}))"
   ],
   "metadata": {
    "collapsed": false
   }
  },
  {
   "cell_type": "code",
   "execution_count": 82,
   "outputs": [
    {
     "data": {
      "text/plain": "[{'_id': ObjectId('64525be503201b95e0a4e2b8'),\n  'item': 'phone9',\n  'price': 1100,\n  'type': 'inconsistency'}]"
     },
     "execution_count": 82,
     "metadata": {},
     "output_type": "execute_result"
    }
   ],
   "source": [
    "# read concern: \"local\"\n",
    "list(db.products.\n",
    "     with_options(read_concern=ReadConcern(level=\"local\"))\\\n",
    "     .find({'item': 'phone9'}))"
   ],
   "metadata": {
    "collapsed": false
   }
  },
  {
   "cell_type": "code",
   "execution_count": 116,
   "outputs": [
    {
     "data": {
      "text/plain": "[{'_id': ObjectId('64525be503201b95e0a4e2b8'),\n  'item': 'phone9',\n  'price': 1100,\n  'type': 'inconsistency'}]"
     },
     "execution_count": 116,
     "metadata": {},
     "output_type": "execute_result"
    }
   ],
   "source": [
    "# read concern: \"linearizable\"\n",
    "list(db.products.\n",
    "     with_options(read_concern=ReadConcern(level=\"linearizable\"))\\\n",
    "     .find({'item': 'phone9'}))"
   ],
   "metadata": {
    "collapsed": false
   }
  },
  {
   "cell_type": "markdown",
   "source": [
    "Вимикаємо старий primary та вмикаємо вимкнені ноди. Очікуємо як вони оберуть нового primary. Вмикаємо старого primary та дивимося, що зі записним значенням (воно збереглося)"
   ],
   "metadata": {
    "collapsed": false
   }
  },
  {
   "cell_type": "code",
   "execution_count": 94,
   "outputs": [
    {
     "data": {
      "text/plain": "('localhost', 27020)"
     },
     "execution_count": 94,
     "metadata": {},
     "output_type": "execute_result"
    }
   ],
   "source": [
    "db.client.address"
   ],
   "metadata": {
    "collapsed": false
   }
  },
  {
   "cell_type": "code",
   "execution_count": 117,
   "outputs": [
    {
     "data": {
      "text/plain": "[{'_id': ObjectId('64525be503201b95e0a4e2b8'),\n  'item': 'phone9',\n  'price': 1100,\n  'type': 'inconsistency'}]"
     },
     "execution_count": 117,
     "metadata": {},
     "output_type": "execute_result"
    }
   ],
   "source": [
    "list(db.products.\n",
    "     with_options(read_preference=ReadPreference.PRIMARY)\\\n",
    "     .find({'item': 'phone9'}))"
   ],
   "metadata": {
    "collapsed": false
   }
  },
  {
   "cell_type": "markdown",
   "source": [
    "8) Земулювати eventual consistency за допомогою установки затримки реплікації для репліки"
   ],
   "metadata": {
    "collapsed": false
   }
  },
  {
   "cell_type": "code",
   "execution_count": 97,
   "outputs": [
    {
     "data": {
      "text/plain": "('localhost', 27020)"
     },
     "execution_count": 97,
     "metadata": {},
     "output_type": "execute_result"
    }
   ],
   "source": [
    "db.client.address"
   ],
   "metadata": {
    "collapsed": false
   }
  },
  {
   "cell_type": "code",
   "execution_count": 105,
   "outputs": [
    {
     "data": {
      "text/plain": "{'ok': 1.0,\n '$clusterTime': {'clusterTime': Timestamp(1683120621, 1),\n  'signature': {'hash': b'\\x00\\x00\\x00\\x00\\x00\\x00\\x00\\x00\\x00\\x00\\x00\\x00\\x00\\x00\\x00\\x00\\x00\\x00\\x00\\x00',\n   'keyId': 0}},\n 'operationTime': Timestamp(1683120621, 1)}"
     },
     "execution_count": 105,
     "metadata": {},
     "output_type": "execute_result"
    }
   ],
   "source": [
    "c = MongoClient('localhost', 27020, directConnection=True)\n",
    "config = {\n",
    "    'version': 123,\n",
    "    '_id': 'foo', 'members': [\n",
    "    {'_id': 0, 'host': 'localhost:27020'},\n",
    "    {'_id': 1,\n",
    "     'host': 'localhost:27018',\n",
    "     'priority': 0,\n",
    "     'hidden': True,\n",
    "     'secondaryDelaySecs': 120},\n",
    "    {'_id': 2, 'host': 'localhost:27019'}]}\n",
    "c.admin.command({'replSetReconfig': config})"
   ],
   "metadata": {
    "collapsed": false
   }
  },
  {
   "cell_type": "markdown",
   "source": [
    "9) Лишити primary та secondary  для якої налаштована затримка реплікації. Записати декілька значень. Спробувати прочитати значення з readConcern: {level: \"linearizable\"}\n",
    "Має бути затримка поки значення не реплікуються на більшість нод\n"
   ],
   "metadata": {
    "collapsed": false
   }
  },
  {
   "cell_type": "code",
   "execution_count": 113,
   "outputs": [
    {
     "data": {
      "text/plain": "<pymongo.results.InsertOneResult at 0x7f7f3a687820>"
     },
     "execution_count": 113,
     "metadata": {},
     "output_type": "execute_result"
    }
   ],
   "source": [
    "db.products\\\n",
    "    .with_options(write_concern=WriteConcern(w=1, wtimeout=0))\\\n",
    "    .insert_one({\"item\": \"phone11\", \"price\": 500, \"type\": \"delayed\"},)"
   ],
   "metadata": {
    "collapsed": false
   }
  },
  {
   "cell_type": "code",
   "execution_count": 122,
   "outputs": [],
   "source": [
    "import time\n",
    "\n",
    "start = time.time()\n",
    "\n",
    "# read concern: \"linearizable\"\n",
    "list(db.products.\n",
    "     with_options(read_concern=ReadConcern(level=\"linearizable\"))\\\n",
    "     .find({'item': 'phone11'}))\n",
    "\n",
    "end = time.time()"
   ],
   "metadata": {
    "collapsed": false
   }
  },
  {
   "cell_type": "code",
   "execution_count": 123,
   "outputs": [
    {
     "name": "stdout",
     "output_type": "stream",
     "text": [
      "120.6792540550232\n"
     ]
    }
   ],
   "source": [
    "print(end - start)"
   ],
   "metadata": {
    "collapsed": false
   }
  },
  {
   "cell_type": "markdown",
   "source": [
    "Як бачимо затримка в часі приблизно така, які в конфігурації"
   ],
   "metadata": {
    "collapsed": false
   }
  },
  {
   "cell_type": "code",
   "execution_count": null,
   "outputs": [],
   "source": [],
   "metadata": {
    "collapsed": false
   }
  }
 ],
 "metadata": {
  "kernelspec": {
   "display_name": "Python 3",
   "language": "python",
   "name": "python3"
  },
  "language_info": {
   "codemirror_mode": {
    "name": "ipython",
    "version": 2
   },
   "file_extension": ".py",
   "mimetype": "text/x-python",
   "name": "python",
   "nbconvert_exporter": "python",
   "pygments_lexer": "ipython2",
   "version": "2.7.6"
  }
 },
 "nbformat": 4,
 "nbformat_minor": 0
}
