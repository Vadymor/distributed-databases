{
 "cells": [
  {
   "cell_type": "code",
   "execution_count": 138,
   "metadata": {
    "collapsed": true
   },
   "outputs": [],
   "source": [
    "import pymongo\n",
    "from bson.objectid import ObjectId\n",
    "import pprint\n",
    "from datetime import datetime, timedelta\n",
    "\n",
    "pp = pprint.PrettyPrinter(depth=4)"
   ]
  },
  {
   "cell_type": "code",
   "execution_count": 139,
   "outputs": [],
   "source": [
    "my_client = pymongo.MongoClient(\"mongodb://localhost:27017/\")"
   ],
   "metadata": {
    "collapsed": false
   }
  },
  {
   "cell_type": "code",
   "execution_count": 140,
   "outputs": [],
   "source": [
    "my_db = my_client[\"shop\"]"
   ],
   "metadata": {
    "collapsed": false
   }
  },
  {
   "cell_type": "markdown",
   "source": [
    "Вам необхідно змоделювати інтернет-магазин який торгує найрізноманітнішими товарами (тобто у яких різний набір властивостей) - items."
   ],
   "metadata": {
    "collapsed": false
   }
  },
  {
   "cell_type": "code",
   "execution_count": 141,
   "outputs": [],
   "source": [
    "items_collection = my_db[\"items\"]"
   ],
   "metadata": {
    "collapsed": false
   }
  },
  {
   "cell_type": "markdown",
   "source": [
    "1) Створіть декілька товарів з різним набором властивостей"
   ],
   "metadata": {
    "collapsed": false
   }
  },
  {
   "cell_type": "code",
   "execution_count": 142,
   "outputs": [],
   "source": [
    "items_insert = [\n",
    "    {\n",
    "        \"category\": \"Phone\",\n",
    "        \"model\": \"iPhone 14\",\n",
    "        \"producer\": \"Apple\",\n",
    "        \"price\": 900,\n",
    "        \"display\": 6.1\n",
    "    },\n",
    "    {\n",
    "        \"category\": \"Phone\",\n",
    "        \"model\": \"iPhone 13\",\n",
    "        \"producer\": \"Apple\",\n",
    "        \"price\": 800,\n",
    "        \"display\": 6.1\n",
    "    },\n",
    "    {\n",
    "        \"category\": \"Phone\",\n",
    "        \"model\": \"Galaxy s23\",\n",
    "        \"producer\": \"Samsung\",\n",
    "        \"price\": 850,\n",
    "        \"display\": 6.2\n",
    "    },\n",
    "\n",
    "    {\n",
    "        \"category\": \"Watch\",\n",
    "        \"model\": \"Series 8\",\n",
    "        \"producer\": \"Apple\",\n",
    "        \"price\": 400,\n",
    "        \"feature\": \"ECG\",\n",
    "        \"material\": \"aluminium\"\n",
    "    },\n",
    "    {\n",
    "        \"category\": \"Watch\",\n",
    "        \"model\": \"Galaxy Watch5\",\n",
    "        \"producer\": \"Samsung\",\n",
    "        \"price\": 350,\n",
    "        \"feature\": \"Sleep Coaching\",\n",
    "        \"material\": \"aluminium\"\n",
    "    },\n",
    "\n",
    "    {\n",
    "        \"category\": \"Headphones\",\n",
    "        \"model\": \"AirPods 3\",\n",
    "        \"producer\": \"Apple\",\n",
    "        \"price\": 180,\n",
    "        \"type\": \"wireless\",\n",
    "        \"feature\": \"Force sensor\",\n",
    "        \"connectivity\": \"Bluetooth 5.0\"\n",
    "    },\n",
    "    {\n",
    "        \"category\": \"Headphones\",\n",
    "        \"model\": \"Galaxy Buds2 Pro\",\n",
    "        \"producer\": \"Samsung\",\n",
    "        \"price\": 125,\n",
    "        \"feature\": \"IPX7 water-resistant\",\n",
    "        \"Connectivity\": \"Bluetooth 5.0\"\n",
    "    }\n",
    "]"
   ],
   "metadata": {
    "collapsed": false
   }
  },
  {
   "cell_type": "code",
   "execution_count": 143,
   "outputs": [
    {
     "data": {
      "text/plain": "<pymongo.results.InsertManyResult at 0x7feeaafd3a90>"
     },
     "execution_count": 143,
     "metadata": {},
     "output_type": "execute_result"
    }
   ],
   "source": [
    "items_collection.insert_many(items_insert)"
   ],
   "metadata": {
    "collapsed": false
   }
  },
  {
   "cell_type": "markdown",
   "source": [
    "2) Напишіть запит, який виводіть усі товари (відображення у JSON)"
   ],
   "metadata": {
    "collapsed": false
   }
  },
  {
   "cell_type": "code",
   "execution_count": 185,
   "outputs": [
    {
     "name": "stdout",
     "output_type": "stream",
     "text": [
      "{'_id': ObjectId('6429c7a7dd7672a8b4f1134f'),\n",
      " 'category': 'Phone',\n",
      " 'display': 6.1,\n",
      " 'model': 'iPhone 14',\n",
      " 'price': 1050,\n",
      " 'producer': 'Apple'}\n",
      "{'_id': ObjectId('6429c7a7dd7672a8b4f11350'),\n",
      " 'category': 'Phone',\n",
      " 'display': 6.1,\n",
      " 'model': 'iPhone 13',\n",
      " 'price': 800,\n",
      " 'producer': 'Apple'}\n",
      "{'_id': ObjectId('6429c7a7dd7672a8b4f11351'),\n",
      " 'category': 'Phone',\n",
      " 'display': 6.2,\n",
      " 'model': 'Galaxy s23',\n",
      " 'price': 850,\n",
      " 'producer': 'Samsung'}\n",
      "{'_id': ObjectId('6429c7a7dd7672a8b4f11352'),\n",
      " 'category': 'Watch',\n",
      " 'discount': True,\n",
      " 'feature': 'ECG',\n",
      " 'material': 'aluminium',\n",
      " 'model': 'Series 8',\n",
      " 'price': 410,\n",
      " 'producer': 'Apple'}\n",
      "{'_id': ObjectId('6429c7a7dd7672a8b4f11353'),\n",
      " 'category': 'Watch',\n",
      " 'discount': True,\n",
      " 'feature': 'Sleep Coaching',\n",
      " 'material': 'aluminium',\n",
      " 'model': 'Galaxy Watch5',\n",
      " 'price': 360,\n",
      " 'producer': 'Samsung'}\n",
      "{'_id': ObjectId('6429c7a7dd7672a8b4f11354'),\n",
      " 'category': 'Headphones',\n",
      " 'connectivity': 'Bluetooth 5.0',\n",
      " 'discount': True,\n",
      " 'feature': 'Force sensor',\n",
      " 'model': 'AirPods 3',\n",
      " 'price': 180,\n",
      " 'producer': 'Apple',\n",
      " 'type': 'wireless'}\n",
      "{'Connectivity': 'Bluetooth 5.0',\n",
      " '_id': ObjectId('6429c7a7dd7672a8b4f11355'),\n",
      " 'category': 'Headphones',\n",
      " 'discount': True,\n",
      " 'feature': 'IPX7 water-resistant',\n",
      " 'model': 'Galaxy Buds2 Pro',\n",
      " 'price': 125,\n",
      " 'producer': 'Samsung'}\n"
     ]
    }
   ],
   "source": [
    "for item in items_collection.find({}):\n",
    "    pp.pprint(item)"
   ],
   "metadata": {
    "collapsed": false
   }
  },
  {
   "cell_type": "markdown",
   "source": [
    "3) Підрахуйте скільки товарів у певної категорії"
   ],
   "metadata": {
    "collapsed": false
   }
  },
  {
   "cell_type": "code",
   "execution_count": 145,
   "outputs": [
    {
     "name": "stdout",
     "output_type": "stream",
     "text": [
      "{'_id': 'Headphones', 'count': 2}\n",
      "{'_id': 'Phone', 'count': 3}\n",
      "{'_id': 'Watch', 'count': 2}\n"
     ]
    }
   ],
   "source": [
    "for item in items_collection.aggregate([\n",
    "   {\n",
    "       \"$group\" : { \"_id\" : '$category', \"count\": {\"$count\": { } }}\n",
    "   }\n",
    "]):\n",
    "    pp.pprint(item)"
   ],
   "metadata": {
    "collapsed": false
   }
  },
  {
   "cell_type": "markdown",
   "source": [
    "4) Підрахуйте скільки є різних категорій товарів"
   ],
   "metadata": {
    "collapsed": false
   }
  },
  {
   "cell_type": "code",
   "execution_count": 146,
   "outputs": [
    {
     "data": {
      "text/plain": "3"
     },
     "execution_count": 146,
     "metadata": {},
     "output_type": "execute_result"
    }
   ],
   "source": [
    "len(items_collection.distinct(\"category\"))"
   ],
   "metadata": {
    "collapsed": false
   }
  },
  {
   "cell_type": "markdown",
   "source": [
    "5) Виведіть список всіх виробників товарів без повторів"
   ],
   "metadata": {
    "collapsed": false
   }
  },
  {
   "cell_type": "code",
   "execution_count": 147,
   "outputs": [
    {
     "data": {
      "text/plain": "['Apple', 'Samsung']"
     },
     "execution_count": 147,
     "metadata": {},
     "output_type": "execute_result"
    }
   ],
   "source": [
    "items_collection.distinct(\"producer\")"
   ],
   "metadata": {
    "collapsed": false
   }
  },
  {
   "cell_type": "markdown",
   "source": [
    "6) Напишіть запити, які вибирають товари за різними критеріям і їх сукупності:"
   ],
   "metadata": {
    "collapsed": false
   }
  },
  {
   "cell_type": "markdown",
   "source": [
    "a) категорія та ціна (в проміжку) - конструкція $and"
   ],
   "metadata": {
    "collapsed": false
   }
  },
  {
   "cell_type": "code",
   "execution_count": 148,
   "outputs": [
    {
     "name": "stdout",
     "output_type": "stream",
     "text": [
      "{'_id': ObjectId('6429c7a7dd7672a8b4f11351'),\n",
      " 'category': 'Phone',\n",
      " 'display': 6.2,\n",
      " 'model': 'Galaxy s23',\n",
      " 'price': 850,\n",
      " 'producer': 'Samsung'}\n"
     ]
    }
   ],
   "source": [
    "for item in items_collection.find(\n",
    "        {\"$and\": [\n",
    "            {\"category\": \"Phone\"},\n",
    "            {\"price\": {\"$gt\": 800, \"$lt\": 900}}\n",
    "        ]}):\n",
    "    pp.pprint(item)"
   ],
   "metadata": {
    "collapsed": false
   }
  },
  {
   "cell_type": "markdown",
   "source": [
    "b) модель чи одна чи інша - конструкція $or"
   ],
   "metadata": {
    "collapsed": false
   }
  },
  {
   "cell_type": "code",
   "execution_count": 149,
   "outputs": [
    {
     "name": "stdout",
     "output_type": "stream",
     "text": [
      "{'_id': ObjectId('6429c7a7dd7672a8b4f11350'),\n",
      " 'category': 'Phone',\n",
      " 'display': 6.1,\n",
      " 'model': 'iPhone 13',\n",
      " 'price': 800,\n",
      " 'producer': 'Apple'}\n",
      "{'_id': ObjectId('6429c7a7dd7672a8b4f11353'),\n",
      " 'category': 'Watch',\n",
      " 'feature': 'Sleep Coaching',\n",
      " 'material': 'aluminium',\n",
      " 'model': 'Galaxy Watch5',\n",
      " 'price': 350,\n",
      " 'producer': 'Samsung'}\n"
     ]
    }
   ],
   "source": [
    "for item in items_collection.find(\n",
    "        {\"$or\": [\n",
    "            {\"model\": \"iPhone 13\"},\n",
    "            {\"model\": \"Galaxy Watch5\"}\n",
    "        ]}):\n",
    "    pp.pprint(item)"
   ],
   "metadata": {
    "collapsed": false
   }
  },
  {
   "cell_type": "markdown",
   "source": [
    "c) виробники з переліку - конструкція $in"
   ],
   "metadata": {
    "collapsed": false
   }
  },
  {
   "cell_type": "code",
   "execution_count": 150,
   "outputs": [
    {
     "name": "stdout",
     "output_type": "stream",
     "text": [
      "{'_id': ObjectId('6429c7a7dd7672a8b4f11351'),\n",
      " 'category': 'Phone',\n",
      " 'display': 6.2,\n",
      " 'model': 'Galaxy s23',\n",
      " 'price': 850,\n",
      " 'producer': 'Samsung'}\n",
      "{'_id': ObjectId('6429c7a7dd7672a8b4f11353'),\n",
      " 'category': 'Watch',\n",
      " 'feature': 'Sleep Coaching',\n",
      " 'material': 'aluminium',\n",
      " 'model': 'Galaxy Watch5',\n",
      " 'price': 350,\n",
      " 'producer': 'Samsung'}\n",
      "{'Connectivity': 'Bluetooth 5.0',\n",
      " '_id': ObjectId('6429c7a7dd7672a8b4f11355'),\n",
      " 'category': 'Headphones',\n",
      " 'feature': 'IPX7 water-resistant',\n",
      " 'model': 'Galaxy Buds2 Pro',\n",
      " 'price': 125,\n",
      " 'producer': 'Samsung'}\n"
     ]
    }
   ],
   "source": [
    "for item in items_collection.find(\n",
    "        {\n",
    "            \"producer\": {\"$in\": [\"Samsung\"]}\n",
    "        }):\n",
    "    pp.pprint(item)"
   ],
   "metadata": {
    "collapsed": false
   }
  },
  {
   "cell_type": "markdown",
   "source": [
    "7) Оновить певні товари, змінивши існуючі значення і додайте нові властивості (характеристики) усім товарам за певним критерієм"
   ],
   "metadata": {
    "collapsed": false
   }
  },
  {
   "cell_type": "code",
   "execution_count": 151,
   "outputs": [
    {
     "data": {
      "text/plain": "<pymongo.results.UpdateResult at 0x7feeaafd3f70>"
     },
     "execution_count": 151,
     "metadata": {},
     "output_type": "execute_result"
    }
   ],
   "source": [
    "items_collection.update_many(\n",
    "    {\"model\": \"iPhone 14\"},\n",
    "    {\"$set\": {\"price\": 1050}}\n",
    ")\n",
    "items_collection.update_many(\n",
    "    { \"price\": {\"$lt\": 500}},\n",
    "    {\"$set\": {\"discount\": True}}\n",
    ")"
   ],
   "metadata": {
    "collapsed": false
   }
  },
  {
   "cell_type": "code",
   "execution_count": 152,
   "outputs": [
    {
     "name": "stdout",
     "output_type": "stream",
     "text": [
      "{'_id': ObjectId('6429c7a7dd7672a8b4f1134f'),\n",
      " 'category': 'Phone',\n",
      " 'display': 6.1,\n",
      " 'model': 'iPhone 14',\n",
      " 'price': 1050,\n",
      " 'producer': 'Apple'}\n",
      "{'_id': ObjectId('6429c7a7dd7672a8b4f11350'),\n",
      " 'category': 'Phone',\n",
      " 'display': 6.1,\n",
      " 'model': 'iPhone 13',\n",
      " 'price': 800,\n",
      " 'producer': 'Apple'}\n",
      "{'_id': ObjectId('6429c7a7dd7672a8b4f11351'),\n",
      " 'category': 'Phone',\n",
      " 'display': 6.2,\n",
      " 'model': 'Galaxy s23',\n",
      " 'price': 850,\n",
      " 'producer': 'Samsung'}\n",
      "{'_id': ObjectId('6429c7a7dd7672a8b4f11352'),\n",
      " 'category': 'Watch',\n",
      " 'discount': True,\n",
      " 'feature': 'ECG',\n",
      " 'material': 'aluminium',\n",
      " 'model': 'Series 8',\n",
      " 'price': 400,\n",
      " 'producer': 'Apple'}\n",
      "{'_id': ObjectId('6429c7a7dd7672a8b4f11353'),\n",
      " 'category': 'Watch',\n",
      " 'discount': True,\n",
      " 'feature': 'Sleep Coaching',\n",
      " 'material': 'aluminium',\n",
      " 'model': 'Galaxy Watch5',\n",
      " 'price': 350,\n",
      " 'producer': 'Samsung'}\n",
      "{'_id': ObjectId('6429c7a7dd7672a8b4f11354'),\n",
      " 'category': 'Headphones',\n",
      " 'connectivity': 'Bluetooth 5.0',\n",
      " 'discount': True,\n",
      " 'feature': 'Force sensor',\n",
      " 'model': 'AirPods 3',\n",
      " 'price': 180,\n",
      " 'producer': 'Apple',\n",
      " 'type': 'wireless'}\n",
      "{'Connectivity': 'Bluetooth 5.0',\n",
      " '_id': ObjectId('6429c7a7dd7672a8b4f11355'),\n",
      " 'category': 'Headphones',\n",
      " 'discount': True,\n",
      " 'feature': 'IPX7 water-resistant',\n",
      " 'model': 'Galaxy Buds2 Pro',\n",
      " 'price': 125,\n",
      " 'producer': 'Samsung'}\n"
     ]
    }
   ],
   "source": [
    "for item in items_collection.find():\n",
    "    pp.pprint(item)"
   ],
   "metadata": {
    "collapsed": false
   }
  },
  {
   "cell_type": "markdown",
   "source": [
    "8) Знайдіть товари у яких є (присутнє поле) певні властивості"
   ],
   "metadata": {
    "collapsed": false
   }
  },
  {
   "cell_type": "code",
   "execution_count": 153,
   "outputs": [
    {
     "name": "stdout",
     "output_type": "stream",
     "text": [
      "{'_id': ObjectId('6429c7a7dd7672a8b4f11352'),\n",
      " 'category': 'Watch',\n",
      " 'discount': True,\n",
      " 'feature': 'ECG',\n",
      " 'material': 'aluminium',\n",
      " 'model': 'Series 8',\n",
      " 'price': 400,\n",
      " 'producer': 'Apple'}\n",
      "{'_id': ObjectId('6429c7a7dd7672a8b4f11353'),\n",
      " 'category': 'Watch',\n",
      " 'discount': True,\n",
      " 'feature': 'Sleep Coaching',\n",
      " 'material': 'aluminium',\n",
      " 'model': 'Galaxy Watch5',\n",
      " 'price': 350,\n",
      " 'producer': 'Samsung'}\n"
     ]
    }
   ],
   "source": [
    "for item in items_collection.find(\n",
    "        { \"material\": { \"$ne\": None } }):\n",
    "    pp.pprint(item)"
   ],
   "metadata": {
    "collapsed": false
   }
  },
  {
   "cell_type": "markdown",
   "source": [
    "9) Для знайдених товарів збільшіть їх вартість на певну суму"
   ],
   "metadata": {
    "collapsed": false
   }
  },
  {
   "cell_type": "code",
   "execution_count": 154,
   "outputs": [
    {
     "name": "stdout",
     "output_type": "stream",
     "text": [
      "{'_id': ObjectId('6429c7a7dd7672a8b4f11352'),\n",
      " 'category': 'Watch',\n",
      " 'discount': True,\n",
      " 'feature': 'ECG',\n",
      " 'material': 'aluminium',\n",
      " 'model': 'Series 8',\n",
      " 'price': 410,\n",
      " 'producer': 'Apple'}\n",
      "{'_id': ObjectId('6429c7a7dd7672a8b4f11353'),\n",
      " 'category': 'Watch',\n",
      " 'discount': True,\n",
      " 'feature': 'Sleep Coaching',\n",
      " 'material': 'aluminium',\n",
      " 'model': 'Galaxy Watch5',\n",
      " 'price': 360,\n",
      " 'producer': 'Samsung'}\n"
     ]
    }
   ],
   "source": [
    "items_collection.update_many(\n",
    "    {\"material\": { \"$ne\": None }},\n",
    "    {\"$inc\": {\"price\": 10}}\n",
    ")\n",
    "for item in items_collection.find(\n",
    "        { \"material\": { \"$ne\": None } }):\n",
    "    pp.pprint(item)"
   ],
   "metadata": {
    "collapsed": false
   }
  },
  {
   "cell_type": "markdown",
   "source": [
    "Товари ви додаєте в замовлення - orders, яке містити вартість, ім'я замовника, і адресу доставки.\n",
    "Товари (items) в замовленні (order) повинні бути представлені у вигляді references, а замовник (customer) у вигляді embed\n"
   ],
   "metadata": {
    "collapsed": false
   }
  },
  {
   "cell_type": "code",
   "execution_count": 170,
   "outputs": [],
   "source": [
    "orders_collection = my_db[\"orders\"]"
   ],
   "metadata": {
    "collapsed": false
   }
  },
  {
   "cell_type": "markdown",
   "source": [
    "1) Створіть кілька замовлень з різними наборами товарів, але так щоб один з товарів був у декількох замовленнях"
   ],
   "metadata": {
    "collapsed": false
   }
  },
  {
   "cell_type": "code",
   "execution_count": 186,
   "outputs": [],
   "source": [
    "orders_insert = [\n",
    "    {\n",
    "        \"order_number\": 1,\n",
    "        \"date\": datetime.utcnow() - timedelta(days=13),\n",
    "        \"total_sum\": 5432.1,\n",
    "        \"customer\": {\n",
    "            \"name\": \"Vadym\",\n",
    "            \"surname\": \"Popyk\",\n",
    "            \"phones\": [983456781, 988765432],\n",
    "            \"address\": \"Kyiv, UA\"\n",
    "        },\n",
    "        \"payment\": {\n",
    "            \"card_owner\": \"Vadym Popyk\",\n",
    "            \"cardId\": 123654\n",
    "        },\n",
    "        \"items_id\": [ObjectId('6429c7a7dd7672a8b4f1134f'), ObjectId('6429c7a7dd7672a8b4f11352')]\n",
    "    },\n",
    "    {\n",
    "        \"order_number\": 2,\n",
    "        \"date\": datetime.utcnow() - timedelta(days=9),\n",
    "        \"total_sum\": 891.4,\n",
    "        \"customer\": {\n",
    "            \"name\": \"Vadym\",\n",
    "            \"surname\": \"Popyk\",\n",
    "            \"phones\": [983456781, 988765432],\n",
    "            \"address\": \"Kyiv, UA\"\n",
    "        },\n",
    "        \"payment\": {\n",
    "            \"card_owner\": \"Vadym Popyk\",\n",
    "            \"cardId\": 123654\n",
    "        },\n",
    "        \"items_id\": [ObjectId('6429c7a7dd7672a8b4f11354')]\n",
    "    },\n",
    "    {\n",
    "        \"order_number\": 3,\n",
    "        \"date\": datetime.utcnow() - timedelta(days=10),\n",
    "        \"total_sum\": 1763.4,\n",
    "        \"customer\": {\n",
    "            \"name\": \"Vasyl\",\n",
    "            \"surname\": \"Hevko\",\n",
    "            \"phones\": [6522462, 5443534],\n",
    "            \"address\": \"Kyiv, UA\"\n",
    "        },\n",
    "        \"payment\": {\n",
    "            \"card_owner\": \"Vasyl Hevko\",\n",
    "            \"cardId\": 75373\n",
    "        },\n",
    "        \"items_id\": [ObjectId('6429c7a7dd7672a8b4f1134f'), ObjectId('6429c7a7dd7672a8b4f11350'), ObjectId('6429c7a7dd7672a8b4f11351')]\n",
    "    }\n",
    "]"
   ],
   "metadata": {
    "collapsed": false
   }
  },
  {
   "cell_type": "code",
   "execution_count": 187,
   "outputs": [
    {
     "data": {
      "text/plain": "<pymongo.results.InsertManyResult at 0x7feeaafd3850>"
     },
     "execution_count": 187,
     "metadata": {},
     "output_type": "execute_result"
    }
   ],
   "source": [
    "orders_collection.delete_many({})\n",
    "orders_collection.insert_many(orders_insert)"
   ],
   "metadata": {
    "collapsed": false
   }
  },
  {
   "cell_type": "markdown",
   "source": [
    "2) Виведіть всі замовлення"
   ],
   "metadata": {
    "collapsed": false
   }
  },
  {
   "cell_type": "code",
   "execution_count": 184,
   "outputs": [
    {
     "name": "stdout",
     "output_type": "stream",
     "text": [
      "{'_id': ObjectId('6429c9b7dd7672a8b4f11359'),\n",
      " 'customer': {'address': 'Kyiv, UA',\n",
      "              'name': 'Vadym',\n",
      "              'phones': [983456781, 988765432],\n",
      "              'surname': 'Popyk'},\n",
      " 'date': datetime.datetime(2023, 3, 20, 18, 30, 12, 48000),\n",
      " 'items_id': [ObjectId('6429c5c2dd7672a8b4f11344'),\n",
      "              ObjectId('6429c5c2dd7672a8b4f11347')],\n",
      " 'order_number': 1,\n",
      " 'payment': {'cardId': 123654, 'card_owner': 'Vadym Popyk'},\n",
      " 'total_sum': 5432.1}\n",
      "{'_id': ObjectId('6429c9b7dd7672a8b4f1135a'),\n",
      " 'customer': {'address': 'Kyiv, UA',\n",
      "              'name': 'Vadym',\n",
      "              'phones': [983456781, 988765432],\n",
      "              'surname': 'Popyk'},\n",
      " 'date': datetime.datetime(2023, 3, 24, 18, 30, 12, 48000),\n",
      " 'items_id': [ObjectId('6429c7a7dd7672a8b4f1134f')],\n",
      " 'order_number': 2,\n",
      " 'payment': {'cardId': 123654, 'card_owner': 'Vadym Popyk'},\n",
      " 'total_sum': 891.4}\n",
      "{'_id': ObjectId('6429c9b7dd7672a8b4f1135b'),\n",
      " 'customer': {'address': 'Kyiv, UA',\n",
      "              'name': 'Vasyl',\n",
      "              'phones': [6522462, 5443534],\n",
      "              'surname': 'Hevko'},\n",
      " 'date': datetime.datetime(2023, 3, 23, 18, 30, 12, 48000),\n",
      " 'items_id': [ObjectId('6429c5c2dd7672a8b4f11344'),\n",
      "              ObjectId('6429c5c2dd7672a8b4f11345'),\n",
      "              ObjectId('6429c5c2dd7672a8b4f11346')],\n",
      " 'order_number': 3,\n",
      " 'payment': {'cardId': 75373, 'card_owner': 'Vasyl Hevko'},\n",
      " 'total_sum': 1763.4}\n"
     ]
    }
   ],
   "source": [
    "for order in orders_collection.find({}):\n",
    "    pp.pprint(order)"
   ],
   "metadata": {
    "collapsed": false
   }
  },
  {
   "cell_type": "markdown",
   "source": [
    "3) Виведіть замовлення з вартістю більше певного значення"
   ],
   "metadata": {
    "collapsed": false
   }
  },
  {
   "cell_type": "code",
   "execution_count": 159,
   "outputs": [
    {
     "name": "stdout",
     "output_type": "stream",
     "text": [
      "{'_id': ObjectId('6429c81fdd7672a8b4f11356'),\n",
      " 'customer': {'address': 'Kyiv, UA',\n",
      "              'name': 'Vadym',\n",
      "              'phones': [983456781, 988765432],\n",
      "              'surname': 'Popyk'},\n",
      " 'date': datetime.datetime(2023, 3, 20, 18, 23, 26, 762000),\n",
      " 'items_id': [ObjectId('6429c5c2dd7672a8b4f11344'),\n",
      "              ObjectId('6429c5c2dd7672a8b4f11347')],\n",
      " 'order_number': 1,\n",
      " 'payment': {'cardId': 123654, 'card_owner': 'Vadym Popyk'},\n",
      " 'total_sum': 5432.1}\n"
     ]
    }
   ],
   "source": [
    "for order in orders_collection.find({\n",
    "    \"total_sum\": {\"$gt\": 5000}\n",
    "}):\n",
    "    pp.pprint(order)"
   ],
   "metadata": {
    "collapsed": false
   }
  },
  {
   "cell_type": "markdown",
   "source": [
    "4) Знайдіть замовлення зроблені одним замовником"
   ],
   "metadata": {
    "collapsed": false
   }
  },
  {
   "cell_type": "code",
   "execution_count": 160,
   "outputs": [
    {
     "name": "stdout",
     "output_type": "stream",
     "text": [
      "{'_id': ObjectId('6429c81fdd7672a8b4f11356'),\n",
      " 'customer': {'address': 'Kyiv, UA',\n",
      "              'name': 'Vadym',\n",
      "              'phones': [983456781, 988765432],\n",
      "              'surname': 'Popyk'},\n",
      " 'date': datetime.datetime(2023, 3, 20, 18, 23, 26, 762000),\n",
      " 'items_id': [ObjectId('6429c5c2dd7672a8b4f11344'),\n",
      "              ObjectId('6429c5c2dd7672a8b4f11347')],\n",
      " 'order_number': 1,\n",
      " 'payment': {'cardId': 123654, 'card_owner': 'Vadym Popyk'},\n",
      " 'total_sum': 5432.1}\n",
      "{'_id': ObjectId('6429c81fdd7672a8b4f11357'),\n",
      " 'customer': {'address': 'Kyiv, UA',\n",
      "              'name': 'Vadym',\n",
      "              'phones': [983456781, 988765432],\n",
      "              'surname': 'Popyk'},\n",
      " 'date': datetime.datetime(2023, 3, 24, 18, 23, 26, 762000),\n",
      " 'items_id': [ObjectId('6429c5c2dd7672a8b4f11346')],\n",
      " 'order_number': 2,\n",
      " 'payment': {'cardId': 123654, 'card_owner': 'Vadym Popyk'},\n",
      " 'total_sum': 891.4}\n"
     ]
    }
   ],
   "source": [
    "for order in orders_collection.find({\n",
    "    \"customer.name\": \"Vadym\",\n",
    "    \"customer.surname\": \"Popyk\"\n",
    "}):\n",
    "    pp.pprint(order)"
   ],
   "metadata": {
    "collapsed": false
   }
  },
  {
   "cell_type": "markdown",
   "source": [
    "5) Знайдіть всі замовлення з певним товаром (товарами) (шукати можна по ObjectId)\n"
   ],
   "metadata": {
    "collapsed": false
   }
  },
  {
   "cell_type": "code",
   "execution_count": 161,
   "outputs": [
    {
     "name": "stdout",
     "output_type": "stream",
     "text": [
      "{'_id': ObjectId('6429c81fdd7672a8b4f11356'),\n",
      " 'customer': {'address': 'Kyiv, UA',\n",
      "              'name': 'Vadym',\n",
      "              'phones': [983456781, 988765432],\n",
      "              'surname': 'Popyk'},\n",
      " 'date': datetime.datetime(2023, 3, 20, 18, 23, 26, 762000),\n",
      " 'items_id': [ObjectId('6429c5c2dd7672a8b4f11344'),\n",
      "              ObjectId('6429c5c2dd7672a8b4f11347')],\n",
      " 'order_number': 1,\n",
      " 'payment': {'cardId': 123654, 'card_owner': 'Vadym Popyk'},\n",
      " 'total_sum': 5432.1}\n",
      "{'_id': ObjectId('6429c81fdd7672a8b4f11358'),\n",
      " 'customer': {'address': 'Kyiv, UA',\n",
      "              'name': 'Vasyl',\n",
      "              'phones': [6522462, 5443534],\n",
      "              'surname': 'Hevko'},\n",
      " 'date': datetime.datetime(2023, 3, 23, 18, 23, 26, 762000),\n",
      " 'items_id': [ObjectId('6429c5c2dd7672a8b4f11344'),\n",
      "              ObjectId('6429c5c2dd7672a8b4f11345'),\n",
      "              ObjectId('6429c5c2dd7672a8b4f11346')],\n",
      " 'order_number': 3,\n",
      " 'payment': {'cardId': 75373, 'card_owner': 'Vasyl Hevko'},\n",
      " 'total_sum': 1763.4}\n"
     ]
    }
   ],
   "source": [
    "for order in orders_collection.find({\n",
    "    \"items_id\": ObjectId('6429c5c2dd7672a8b4f11344')\n",
    "}):\n",
    "    pp.pprint(order)"
   ],
   "metadata": {
    "collapsed": false
   }
  },
  {
   "cell_type": "markdown",
   "source": [
    "6) Додайте в усі замовлення з певним товаром ще один товар і збільште існуючу вартість замовлення на деяке значення Х\n"
   ],
   "metadata": {
    "collapsed": false
   }
  },
  {
   "cell_type": "code",
   "execution_count": 162,
   "outputs": [
    {
     "name": "stdout",
     "output_type": "stream",
     "text": [
      "{'_id': ObjectId('6429c81fdd7672a8b4f11356'),\n",
      " 'customer': {'address': 'Kyiv, UA',\n",
      "              'name': 'Vadym',\n",
      "              'phones': [983456781, 988765432],\n",
      "              'surname': 'Popyk'},\n",
      " 'date': datetime.datetime(2023, 3, 20, 18, 23, 26, 762000),\n",
      " 'items_id': [ObjectId('6429c5c2dd7672a8b4f11344'),\n",
      "              ObjectId('6429c5c2dd7672a8b4f11347')],\n",
      " 'order_number': 1,\n",
      " 'payment': {'cardId': 123654, 'card_owner': 'Vadym Popyk'},\n",
      " 'total_sum': 5432.1}\n",
      "{'_id': ObjectId('6429c81fdd7672a8b4f11357'),\n",
      " 'customer': {'address': 'Kyiv, UA',\n",
      "              'name': 'Vadym',\n",
      "              'phones': [983456781, 988765432],\n",
      "              'surname': 'Popyk'},\n",
      " 'date': datetime.datetime(2023, 3, 24, 18, 23, 26, 762000),\n",
      " 'items_id': [ObjectId('6429c5c2dd7672a8b4f11346'),\n",
      "              ObjectId('6429c5c2dd7672a8b4f1134a')],\n",
      " 'order_number': 2,\n",
      " 'payment': {'cardId': 123654, 'card_owner': 'Vadym Popyk'},\n",
      " 'total_sum': 1891.4}\n",
      "{'_id': ObjectId('6429c81fdd7672a8b4f11358'),\n",
      " 'customer': {'address': 'Kyiv, UA',\n",
      "              'name': 'Vasyl',\n",
      "              'phones': [6522462, 5443534],\n",
      "              'surname': 'Hevko'},\n",
      " 'date': datetime.datetime(2023, 3, 23, 18, 23, 26, 762000),\n",
      " 'items_id': [ObjectId('6429c5c2dd7672a8b4f11344'),\n",
      "              ObjectId('6429c5c2dd7672a8b4f11345'),\n",
      "              ObjectId('6429c5c2dd7672a8b4f11346'),\n",
      "              ObjectId('6429c5c2dd7672a8b4f1134a')],\n",
      " 'order_number': 3,\n",
      " 'payment': {'cardId': 75373, 'card_owner': 'Vasyl Hevko'},\n",
      " 'total_sum': 2763.4}\n"
     ]
    }
   ],
   "source": [
    "orders_collection.update_many(\n",
    "    {\"items_id\": ObjectId('6429c5c2dd7672a8b4f11346')},\n",
    "    {\"$push\": {\"items_id\": ObjectId('6429c5c2dd7672a8b4f1134a')},\n",
    "     \"$inc\": {\"total_sum\": 1000}}\n",
    ")\n",
    "for order in orders_collection.find():\n",
    "    pp.pprint(order)"
   ],
   "metadata": {
    "collapsed": false
   }
  },
  {
   "cell_type": "markdown",
   "source": [
    "7) Виведіть кількість товарів в певному замовленні"
   ],
   "metadata": {
    "collapsed": false
   }
  },
  {
   "cell_type": "code",
   "execution_count": 163,
   "outputs": [
    {
     "name": "stdout",
     "output_type": "stream",
     "text": [
      "{'_id': ObjectId('6429c81fdd7672a8b4f11358'), 'count': 4}\n"
     ]
    }
   ],
   "source": [
    "for order in orders_collection.aggregate(\n",
    "    [\n",
    "        {\"$match\" : {\"_id\": ObjectId('6429c81fdd7672a8b4f11358')} },\n",
    "        {\"$project\": { \"count\": {\"$size\": \"$items_id\"}}},\n",
    "    ]\n",
    "):\n",
    "    pp.pprint(order)"
   ],
   "metadata": {
    "collapsed": false
   }
  },
  {
   "cell_type": "markdown",
   "source": [
    "8) Виведіть тільки інформацію про кастомера і номери кредитної карт, для замовлень вартість яких перевищує певну суму"
   ],
   "metadata": {
    "collapsed": false
   }
  },
  {
   "cell_type": "code",
   "execution_count": 165,
   "outputs": [
    {
     "name": "stdout",
     "output_type": "stream",
     "text": [
      "{'_id': ObjectId('6429c81fdd7672a8b4f11356'),\n",
      " 'customer': {'address': 'Kyiv, UA',\n",
      "              'name': 'Vadym',\n",
      "              'phones': [983456781, 988765432],\n",
      "              'surname': 'Popyk'},\n",
      " 'payment': {'cardId': 123654}}\n"
     ]
    }
   ],
   "source": [
    "for order in orders_collection.find(\n",
    "        {\"total_sum\": {\"$gt\": 5000}},\n",
    "        {\"customer\": 1, \"payment.cardId\": 1}):\n",
    "    pp.pprint(order)"
   ],
   "metadata": {
    "collapsed": false
   }
  },
  {
   "cell_type": "markdown",
   "source": [
    "9) Видаліть товар з замовлень, зроблених за певний період дат"
   ],
   "metadata": {
    "collapsed": false
   }
  },
  {
   "cell_type": "code",
   "execution_count": 166,
   "outputs": [
    {
     "name": "stdout",
     "output_type": "stream",
     "text": [
      "{'_id': ObjectId('6429c81fdd7672a8b4f11356'),\n",
      " 'customer': {'address': 'Kyiv, UA',\n",
      "              'name': 'Vadym',\n",
      "              'phones': [983456781, 988765432],\n",
      "              'surname': 'Popyk'},\n",
      " 'date': datetime.datetime(2023, 3, 20, 18, 23, 26, 762000),\n",
      " 'items_id': [ObjectId('6429c5c2dd7672a8b4f11347')],\n",
      " 'order_number': 1,\n",
      " 'payment': {'cardId': 123654, 'card_owner': 'Vadym Popyk'},\n",
      " 'total_sum': 5432.1}\n",
      "{'_id': ObjectId('6429c81fdd7672a8b4f11357'),\n",
      " 'customer': {'address': 'Kyiv, UA',\n",
      "              'name': 'Vadym',\n",
      "              'phones': [983456781, 988765432],\n",
      "              'surname': 'Popyk'},\n",
      " 'date': datetime.datetime(2023, 3, 24, 18, 23, 26, 762000),\n",
      " 'items_id': [ObjectId('6429c5c2dd7672a8b4f11346'),\n",
      "              ObjectId('6429c5c2dd7672a8b4f1134a')],\n",
      " 'order_number': 2,\n",
      " 'payment': {'cardId': 123654, 'card_owner': 'Vadym Popyk'},\n",
      " 'total_sum': 1891.4}\n",
      "{'_id': ObjectId('6429c81fdd7672a8b4f11358'),\n",
      " 'customer': {'address': 'Kyiv, UA',\n",
      "              'name': 'Vasyl',\n",
      "              'phones': [6522462, 5443534],\n",
      "              'surname': 'Hevko'},\n",
      " 'date': datetime.datetime(2023, 3, 23, 18, 23, 26, 762000),\n",
      " 'items_id': [ObjectId('6429c5c2dd7672a8b4f11345'),\n",
      "              ObjectId('6429c5c2dd7672a8b4f11346'),\n",
      "              ObjectId('6429c5c2dd7672a8b4f1134a')],\n",
      " 'order_number': 3,\n",
      " 'payment': {'cardId': 75373, 'card_owner': 'Vasyl Hevko'},\n",
      " 'total_sum': 2763.4}\n"
     ]
    }
   ],
   "source": [
    "orders_collection.update_many(\n",
    "    {\"date\": {\n",
    "        \"$gt\": datetime(2023, 3, 20),\n",
    "        \"$lt\": datetime(2023, 3, 31)}\n",
    "    },\n",
    "    {\"$pull\": {\"items_id\": ObjectId('6429c5c2dd7672a8b4f11344')}}\n",
    ")\n",
    "for order in orders_collection.find():\n",
    "    pp.pprint(order)"
   ],
   "metadata": {
    "collapsed": false
   }
  },
  {
   "cell_type": "markdown",
   "source": [
    "10) Перейменуйте у всіх замовлення ім'я (прізвище) замовника"
   ],
   "metadata": {
    "collapsed": false
   }
  },
  {
   "cell_type": "code",
   "execution_count": 167,
   "outputs": [
    {
     "name": "stdout",
     "output_type": "stream",
     "text": [
      "{'_id': ObjectId('6429c81fdd7672a8b4f11356'),\n",
      " 'customer': {'address': 'Kyiv, UA',\n",
      "              'name': 'Renamed',\n",
      "              'phones': [983456781, 988765432],\n",
      "              'surname': 'Popyk'},\n",
      " 'date': datetime.datetime(2023, 3, 20, 18, 23, 26, 762000),\n",
      " 'items_id': [ObjectId('6429c5c2dd7672a8b4f11347')],\n",
      " 'order_number': 1,\n",
      " 'payment': {'cardId': 123654, 'card_owner': 'Vadym Popyk'},\n",
      " 'total_sum': 5432.1}\n",
      "{'_id': ObjectId('6429c81fdd7672a8b4f11357'),\n",
      " 'customer': {'address': 'Kyiv, UA',\n",
      "              'name': 'Renamed',\n",
      "              'phones': [983456781, 988765432],\n",
      "              'surname': 'Popyk'},\n",
      " 'date': datetime.datetime(2023, 3, 24, 18, 23, 26, 762000),\n",
      " 'items_id': [ObjectId('6429c5c2dd7672a8b4f11346'),\n",
      "              ObjectId('6429c5c2dd7672a8b4f1134a')],\n",
      " 'order_number': 2,\n",
      " 'payment': {'cardId': 123654, 'card_owner': 'Vadym Popyk'},\n",
      " 'total_sum': 1891.4}\n",
      "{'_id': ObjectId('6429c81fdd7672a8b4f11358'),\n",
      " 'customer': {'address': 'Kyiv, UA',\n",
      "              'name': 'Renamed',\n",
      "              'phones': [6522462, 5443534],\n",
      "              'surname': 'Hevko'},\n",
      " 'date': datetime.datetime(2023, 3, 23, 18, 23, 26, 762000),\n",
      " 'items_id': [ObjectId('6429c5c2dd7672a8b4f11345'),\n",
      "              ObjectId('6429c5c2dd7672a8b4f11346'),\n",
      "              ObjectId('6429c5c2dd7672a8b4f1134a')],\n",
      " 'order_number': 3,\n",
      " 'payment': {'cardId': 75373, 'card_owner': 'Vasyl Hevko'},\n",
      " 'total_sum': 2763.4}\n"
     ]
    }
   ],
   "source": [
    "orders_collection.update_many(\n",
    "    {},\n",
    "    {\"$set\": {\"customer.name\": \"Renamed\"}}\n",
    ")\n",
    "for order in orders_collection.find():\n",
    "    pp.pprint(order)"
   ],
   "metadata": {
    "collapsed": false
   }
  },
  {
   "cell_type": "markdown",
   "source": [
    "11) Знайдіть замовлення зроблені одним замовником, і виведіть тільки інформацію про кастомера та товари у замовлені підставивши замість ObjectId(\"***\") назви товарів та їх вартість (аналог join-а між таблицями orders та items).\n"
   ],
   "metadata": {
    "collapsed": false
   }
  },
  {
   "cell_type": "code",
   "execution_count": 188,
   "outputs": [
    {
     "name": "stdout",
     "output_type": "stream",
     "text": [
      "{'_id': ObjectId('6429cc19dd7672a8b4f1135c'),\n",
      " 'customer': {'address': 'Kyiv, UA',\n",
      "              'name': 'Vadym',\n",
      "              'phones': [983456781, 988765432],\n",
      "              'surname': 'Popyk'},\n",
      " 'items_model': ['iPhone 14', 'Series 8'],\n",
      " 'items_price': [1050, 410]}\n",
      "{'_id': ObjectId('6429cc19dd7672a8b4f1135d'),\n",
      " 'customer': {'address': 'Kyiv, UA',\n",
      "              'name': 'Vadym',\n",
      "              'phones': [983456781, 988765432],\n",
      "              'surname': 'Popyk'},\n",
      " 'items_model': ['AirPods 3'],\n",
      " 'items_price': [180]}\n",
      "{'_id': ObjectId('6429cc19dd7672a8b4f1135e'),\n",
      " 'customer': {'address': 'Kyiv, UA',\n",
      "              'name': 'Vasyl',\n",
      "              'phones': [6522462, 5443534],\n",
      "              'surname': 'Hevko'},\n",
      " 'items_model': ['iPhone 13', 'Galaxy s23', 'iPhone 14'],\n",
      " 'items_price': [800, 850, 1050]}\n"
     ]
    }
   ],
   "source": [
    "for order in orders_collection.aggregate([\n",
    "    {\n",
    "        \"$lookup\": {\n",
    "            \"from\": \"items\",\n",
    "            \"localField\": \"items_id\",\n",
    "            \"foreignField\": \"_id\",\n",
    "            \"as\": \"items\"\n",
    "        }\n",
    "    },\n",
    "    {\n",
    "        \"$addFields\": {\n",
    "            \"items_price\": \"$items.price\",\n",
    "            \"items_model\": \"$items.model\"\n",
    "        }\n",
    "    },\n",
    "    { \"$project\": {\"customer\": 1, \"items_price\": 1, \"items_model\": 1}},\n",
    "]):\n",
    "    pp.pprint(order)"
   ],
   "metadata": {
    "collapsed": false
   }
  },
  {
   "cell_type": "code",
   "execution_count": null,
   "outputs": [],
   "source": [],
   "metadata": {
    "collapsed": false
   }
  }
 ],
 "metadata": {
  "kernelspec": {
   "display_name": "Python 3",
   "language": "python",
   "name": "python3"
  },
  "language_info": {
   "codemirror_mode": {
    "name": "ipython",
    "version": 2
   },
   "file_extension": ".py",
   "mimetype": "text/x-python",
   "name": "python",
   "nbconvert_exporter": "python",
   "pygments_lexer": "ipython2",
   "version": "2.7.6"
  }
 },
 "nbformat": 4,
 "nbformat_minor": 0
}
