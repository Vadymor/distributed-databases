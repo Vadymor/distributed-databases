{
 "cells": [
  {
   "cell_type": "code",
   "execution_count": 1,
   "metadata": {
    "collapsed": true
   },
   "outputs": [],
   "source": [
    "from cassandra.cluster import Cluster"
   ]
  },
  {
   "cell_type": "code",
   "execution_count": 2,
   "outputs": [],
   "source": [
    "cluster = Cluster(['localhost'], port=9042)\n",
    "session = cluster.connect()"
   ],
   "metadata": {
    "collapsed": false
   }
  },
  {
   "cell_type": "code",
   "execution_count": 7,
   "outputs": [
    {
     "ename": "AlreadyExists",
     "evalue": "Keyspace 'shop' already exists",
     "output_type": "error",
     "traceback": [
      "\u001B[0;31m---------------------------------------------------------------------------\u001B[0m",
      "\u001B[0;31mAlreadyExists\u001B[0m                             Traceback (most recent call last)",
      "Cell \u001B[0;32mIn[7], line 1\u001B[0m\n\u001B[0;32m----> 1\u001B[0m result \u001B[38;5;241m=\u001B[39m \u001B[43msession\u001B[49m\u001B[38;5;241;43m.\u001B[39;49m\u001B[43mexecute\u001B[49m\u001B[43m(\u001B[49m\u001B[38;5;124;43m\"\"\"\u001B[39;49m\u001B[38;5;124;43mCREATE KEYSPACE shop\u001B[39;49m\n\u001B[1;32m      2\u001B[0m \u001B[38;5;124;43m    WITH replication  = \u001B[39;49m\u001B[38;5;124;43m{\u001B[39;49m\n\u001B[1;32m      3\u001B[0m \u001B[38;5;124;43m        \u001B[39;49m\u001B[38;5;124;43m'\u001B[39;49m\u001B[38;5;124;43mclass\u001B[39;49m\u001B[38;5;124;43m'\u001B[39;49m\u001B[38;5;124;43m: \u001B[39;49m\u001B[38;5;124;43m'\u001B[39;49m\u001B[38;5;124;43mSimpleStrategy\u001B[39;49m\u001B[38;5;124;43m'\u001B[39;49m\u001B[38;5;124;43m,\u001B[39;49m\n\u001B[1;32m      4\u001B[0m \u001B[38;5;124;43m        \u001B[39;49m\u001B[38;5;124;43m'\u001B[39;49m\u001B[38;5;124;43mreplication_factor\u001B[39;49m\u001B[38;5;124;43m'\u001B[39;49m\u001B[38;5;124;43m: 1\u001B[39;49m\n\u001B[1;32m      5\u001B[0m \u001B[38;5;124;43m        } ;\u001B[39;49m\u001B[38;5;124;43m\"\"\"\u001B[39;49m\u001B[43m)\u001B[49m\u001B[38;5;241m.\u001B[39mone()\n\u001B[1;32m      6\u001B[0m \u001B[38;5;28;01mif\u001B[39;00m result:\n\u001B[1;32m      7\u001B[0m     \u001B[38;5;28mprint\u001B[39m(result[\u001B[38;5;241m0\u001B[39m])\n",
      "File \u001B[0;32m/usr/local/lib/python3.10/dist-packages/cassandra/cluster.py:2618\u001B[0m, in \u001B[0;36mcassandra.cluster.Session.execute\u001B[0;34m()\u001B[0m\n",
      "File \u001B[0;32m/usr/local/lib/python3.10/dist-packages/cassandra/cluster.py:4901\u001B[0m, in \u001B[0;36mcassandra.cluster.ResponseFuture.result\u001B[0;34m()\u001B[0m\n",
      "\u001B[0;31mAlreadyExists\u001B[0m: Keyspace 'shop' already exists"
     ]
    }
   ],
   "source": [
    "result = session.execute(\"\"\"CREATE KEYSPACE shop\n",
    "    WITH replication  = {\n",
    "        'class': 'SimpleStrategy',\n",
    "        'replication_factor': 1\n",
    "        } ;\"\"\").one()\n",
    "if result:\n",
    "    print(result[0])"
   ],
   "metadata": {
    "collapsed": false
   }
  },
  {
   "cell_type": "code",
   "execution_count": 8,
   "outputs": [],
   "source": [
    "result = session.execute(\"\"\"USE shop\"\"\").one()\n",
    "if result:\n",
    "    print(result[0])"
   ],
   "metadata": {
    "collapsed": false
   }
  },
  {
   "cell_type": "code",
   "execution_count": 19,
   "outputs": [],
   "source": [
    "result = session.execute(\"\"\"\n",
    "CREATE TABLE IF NOT EXISTS item (\n",
    "  category text,\n",
    "  price int,\n",
    "  model text,\n",
    "  producer text,\n",
    "  properties map<text, text>,\n",
    "  PRIMARY KEY (category, price)\n",
    ")\n",
    "WITH CLUSTERING ORDER BY (price ASC);\"\"\").one()\n",
    "if result:\n",
    "    print(result[0])"
   ],
   "metadata": {
    "collapsed": false
   }
  },
  {
   "cell_type": "code",
   "execution_count": 22,
   "outputs": [
    {
     "data": {
      "text/plain": "<cassandra.cluster.ResultSet at 0x7f6b81a5ad10>"
     },
     "execution_count": 22,
     "metadata": {},
     "output_type": "execute_result"
    }
   ],
   "source": [
    "session.execute(\"\"\"\n",
    "INSERT INTO item (\n",
    "    category, price, model, producer, properties\n",
    ") VALUES (\n",
    "          'Phone',\n",
    "          900,\n",
    "          'iPhone 14',\n",
    "          'Apple',\n",
    "          {\n",
    "              'display': '6.1'\n",
    "              }\n",
    "         );\n",
    "\"\"\")\n",
    "session.execute(\"\"\"\n",
    "INSERT INTO item (\n",
    "    category, price, model, producer, properties\n",
    ") VALUES (\n",
    "          'Phone',\n",
    "          800,\n",
    "          'iPhone 13',\n",
    "          'Apple',\n",
    "          {\n",
    "              'display': '6.1'\n",
    "              }\n",
    "         );\n",
    "\"\"\")\n",
    "session.execute(\"\"\"\n",
    "INSERT INTO item (\n",
    "    category, price, model, producer, properties\n",
    ") VALUES (\n",
    "          'Phone',\n",
    "          850,\n",
    "          'Galaxy s23',\n",
    "          'Samsung',\n",
    "          {\n",
    "              'display': '6.2'\n",
    "              }\n",
    "         );\n",
    "\"\"\")\n",
    "session.execute(\"\"\"\n",
    "INSERT INTO item (\n",
    "    category, price, model, producer, properties\n",
    ") VALUES (\n",
    "          'Watch',\n",
    "          400,\n",
    "          'Series 8',\n",
    "          'Apple',\n",
    "          {\n",
    "              'feature': 'ECG',\n",
    "              'material': 'aluminium'\n",
    "              }\n",
    "         );\n",
    "\"\"\")\n",
    "session.execute(\"\"\"\n",
    "INSERT INTO item (\n",
    "    category, price, model, producer, properties\n",
    ") VALUES (\n",
    "          'Watch',\n",
    "          350,\n",
    "          'Galaxy Watch5',\n",
    "          'Samsung',\n",
    "          {\n",
    "              'feature': 'Sleep Coaching',\n",
    "              'material': 'aluminium'\n",
    "              }\n",
    "         );\n",
    "\"\"\")\n",
    "session.execute(\"\"\"\n",
    "INSERT INTO item (\n",
    "    category, price, model, producer, properties\n",
    ") VALUES (\n",
    "          'Headphones',\n",
    "          180,\n",
    "          'AirPods 3',\n",
    "          'Apple',\n",
    "          {\n",
    "              'feature': 'Force sensor',\n",
    "              'connectivity': 'Bluetooth 5.0'\n",
    "              }\n",
    "         );\n",
    "\"\"\")\n",
    "session.execute(\"\"\"\n",
    "INSERT INTO item (\n",
    "    category, price, model, producer, properties\n",
    ") VALUES (\n",
    "          'Headphones',\n",
    "          125,\n",
    "          'Galaxy Buds2 Pro',\n",
    "          'Samsung',\n",
    "          {\n",
    "              'feature': 'IPX7 water-resistant',\n",
    "              'connectivity': 'Bluetooth 5.0'\n",
    "              }\n",
    "         );\n",
    "\"\"\")"
   ],
   "metadata": {
    "collapsed": false
   }
  },
  {
   "cell_type": "markdown",
   "source": [
    "1) Напишіть запит, який показує структуру створеної таблиці (команда DESCRIBE)\n"
   ],
   "metadata": {
    "collapsed": false
   }
  },
  {
   "cell_type": "code",
   "execution_count": 30,
   "outputs": [
    {
     "name": "stdout",
     "output_type": "stream",
     "text": [
      "shop table item CREATE TABLE shop.item (\n",
      "    category text,\n",
      "    price int,\n",
      "    model text,\n",
      "    producer text,\n",
      "    properties map<text, text>,\n",
      "    PRIMARY KEY (category, price)\n",
      ") WITH CLUSTERING ORDER BY (price ASC)\n",
      "    AND additional_write_policy = '99p'\n",
      "    AND bloom_filter_fp_chance = 0.01\n",
      "    AND caching = {'keys': 'ALL', 'rows_per_partition': 'NONE'}\n",
      "    AND cdc = false\n",
      "    AND comment = ''\n",
      "    AND compaction = {'class': 'org.apache.cassandra.db.compaction.SizeTieredCompactionStrategy', 'max_threshold': '32', 'min_threshold': '4'}\n",
      "    AND compression = {'chunk_length_in_kb': '16', 'class': 'org.apache.cassandra.io.compress.LZ4Compressor'}\n",
      "    AND memtable = 'default'\n",
      "    AND crc_check_chance = 1.0\n",
      "    AND default_time_to_live = 0\n",
      "    AND extensions = {}\n",
      "    AND gc_grace_seconds = 864000\n",
      "    AND max_index_interval = 2048\n",
      "    AND memtable_flush_period_in_ms = 0\n",
      "    AND min_index_interval = 128\n",
      "    AND read_repair = 'BLOCKING'\n",
      "    AND speculative_retry = '99p';\n"
     ]
    }
   ],
   "source": [
    "result = session.execute(\"\"\"DESCRIBE TABLE item;\"\"\").one()\n",
    "if result:\n",
    "    print(*result)"
   ],
   "metadata": {
    "collapsed": false
   }
  },
  {
   "cell_type": "markdown",
   "source": [
    "2) Напишіть запит, який виводить усі товари в певній категорії відсортовані за ціною\n"
   ],
   "metadata": {
    "collapsed": false
   }
  },
  {
   "cell_type": "code",
   "execution_count": 35,
   "outputs": [
    {
     "name": "stdout",
     "output_type": "stream",
     "text": [
      "Watch 350 Galaxy Watch5 Samsung {'feature': 'Sleep Coaching', 'material': 'aluminium'} \n",
      "\n",
      "Watch 400 Series 8 Apple {'feature': 'ECG', 'material': 'aluminium'} \n",
      "\n"
     ]
    }
   ],
   "source": [
    "result = session.execute(\"\"\"\n",
    "SELECT *\n",
    "FROM item\n",
    "WHERE category = 'Watch'\n",
    "ORDER BY price;\"\"\")\n",
    "if result:\n",
    "    for row in result:\n",
    "        print(*row, '\\n')"
   ],
   "metadata": {
    "collapsed": false
   }
  },
  {
   "cell_type": "markdown",
   "source": [
    "3.1) Напишіть запити, які вибирають товари за різними критеріями в межах певної категорії (тут де треба замість індексу використайте Matirialized view): назва"
   ],
   "metadata": {
    "collapsed": false
   }
  },
  {
   "cell_type": "code",
   "execution_count": 53,
   "outputs": [
    {
     "data": {
      "text/plain": "<cassandra.cluster.ResultSet at 0x7f6b81af9cc0>"
     },
     "execution_count": 53,
     "metadata": {},
     "output_type": "execute_result"
    }
   ],
   "source": [
    "session.execute(\"\"\"CREATE INDEX IF NOT EXISTS model_idx ON shop.item(model);\"\"\")"
   ],
   "metadata": {
    "collapsed": false
   }
  },
  {
   "cell_type": "code",
   "execution_count": 52,
   "outputs": [
    {
     "name": "stdout",
     "output_type": "stream",
     "text": [
      "Watch 400 Series 8 Apple {'feature': 'ECG', 'material': 'aluminium'} \n",
      "\n"
     ]
    }
   ],
   "source": [
    "result = session.execute(\"\"\"\n",
    "SELECT *\n",
    "FROM item\n",
    "WHERE category = 'Watch' and model = 'Series 8';\"\"\")\n",
    "if result:\n",
    "    for row in result:\n",
    "        print(*row, '\\n')"
   ],
   "metadata": {
    "collapsed": false
   }
  },
  {
   "cell_type": "markdown",
   "source": [
    "3.2) Напишіть запити, які вибирають товари за різними критеріями в межах певної категорії (тут де треба замість індексу використайте Matirialized view): ціна (в проміжку)"
   ],
   "metadata": {
    "collapsed": false
   }
  },
  {
   "cell_type": "code",
   "execution_count": 38,
   "outputs": [
    {
     "name": "stdout",
     "output_type": "stream",
     "text": [
      "Watch 350 Galaxy Watch5 Samsung {'feature': 'Sleep Coaching', 'material': 'aluminium'} \n",
      "\n"
     ]
    }
   ],
   "source": [
    "result = session.execute(\"\"\"\n",
    "SELECT *\n",
    "FROM item\n",
    "WHERE   category = 'Watch'\n",
    "    and price > 300 and price < 400;\"\"\")\n",
    "if result:\n",
    "    for row in result:\n",
    "        print(*row, '\\n')"
   ],
   "metadata": {
    "collapsed": false
   }
  },
  {
   "cell_type": "markdown",
   "source": [
    "3.3) Напишіть запити, які вибирають товари за різними критеріями в межах певної категорії (тут де треба замість індексу використайте Matirialized view): ціна та виробник\n"
   ],
   "metadata": {
    "collapsed": false
   }
  },
  {
   "cell_type": "code",
   "execution_count": 39,
   "outputs": [
    {
     "data": {
      "text/plain": "<cassandra.cluster.ResultSet at 0x7f6bc81475e0>"
     },
     "execution_count": 39,
     "metadata": {},
     "output_type": "execute_result"
    }
   ],
   "source": [
    "session.execute(\"\"\"\n",
    "CREATE MATERIALIZED VIEW shop.item_by_price_producer\n",
    "AS SELECT category, price, model, producer, properties\n",
    "FROM shop.item\n",
    "WHERE category is not null\n",
    "  and price is not null\n",
    "  and producer is not null\n",
    "PRIMARY KEY ( category, price, producer );\"\"\")\n"
   ],
   "metadata": {
    "collapsed": false
   }
  },
  {
   "cell_type": "code",
   "execution_count": 41,
   "outputs": [
    {
     "name": "stdout",
     "output_type": "stream",
     "text": [
      "Phone 800 Apple iPhone 13 {'display': '6.1'} \n",
      "\n"
     ]
    }
   ],
   "source": [
    "result = session.execute(\"\"\"\n",
    "SELECT *\n",
    "FROM item_by_price_producer\n",
    "WHERE   category = 'Phone'\n",
    "    and price = 800\n",
    "    and producer = 'Apple';\"\"\")\n",
    "if result:\n",
    "    for row in result:\n",
    "        print(*row, '\\n')"
   ],
   "metadata": {
    "collapsed": false
   }
  },
  {
   "cell_type": "markdown",
   "source": [
    "4.1) Напишіть запити, які вибирають товари за:\n",
    "наявність певних характеристик"
   ],
   "metadata": {
    "collapsed": false
   }
  },
  {
   "cell_type": "code",
   "execution_count": 42,
   "outputs": [
    {
     "data": {
      "text/plain": "<cassandra.cluster.ResultSet at 0x7f6b81acd240>"
     },
     "execution_count": 42,
     "metadata": {},
     "output_type": "execute_result"
    }
   ],
   "source": [
    "session.execute(\"\"\"\n",
    "CREATE INDEX IF NOT EXISTS properties_idx\n",
    "ON shop.item ( KEYS (properties) );\n",
    "\"\"\")"
   ],
   "metadata": {
    "collapsed": false
   }
  },
  {
   "cell_type": "code",
   "execution_count": 43,
   "outputs": [
    {
     "name": "stdout",
     "output_type": "stream",
     "text": [
      "Watch 350 Galaxy Watch5 Samsung {'feature': 'Sleep Coaching', 'material': 'aluminium'} \n",
      "\n",
      "Watch 400 Series 8 Apple {'feature': 'ECG', 'material': 'aluminium'} \n",
      "\n"
     ]
    }
   ],
   "source": [
    "result = session.execute(\"\"\"\n",
    "SELECT *\n",
    "FROM item\n",
    "WHERE properties contains key 'material';\"\"\")\n",
    "if result:\n",
    "    for row in result:\n",
    "        print(*row, '\\n')"
   ],
   "metadata": {
    "collapsed": false
   }
  },
  {
   "cell_type": "markdown",
   "source": [
    "4.2) Напишіть запити, які вибирають товари за:\n",
    "певна характеристика та її значення"
   ],
   "metadata": {
    "collapsed": false
   }
  },
  {
   "cell_type": "code",
   "execution_count": 44,
   "outputs": [
    {
     "data": {
      "text/plain": "<cassandra.cluster.ResultSet at 0x7f6bc8179660>"
     },
     "execution_count": 44,
     "metadata": {},
     "output_type": "execute_result"
    }
   ],
   "source": [
    "session.execute(\"\"\"\n",
    "CREATE INDEX properties_idx_2\n",
    "ON shop.item (ENTRIES(properties));\n",
    "\"\"\")"
   ],
   "metadata": {
    "collapsed": false
   }
  },
  {
   "cell_type": "code",
   "execution_count": 45,
   "outputs": [
    {
     "name": "stdout",
     "output_type": "stream",
     "text": [
      "Phone 800 iPhone 13 Apple {'display': '6.1'} \n",
      "\n",
      "Phone 900 iPhone 14 Apple {'display': '6.1'} \n",
      "\n"
     ]
    }
   ],
   "source": [
    "result = session.execute(\"\"\"\n",
    "SELECT *\n",
    "FROM item\n",
    "WHERE properties['display'] = '6.1';\"\"\")\n",
    "if result:\n",
    "    for row in result:\n",
    "        print(*row, '\\n')"
   ],
   "metadata": {
    "collapsed": false
   }
  },
  {
   "cell_type": "markdown",
   "source": [
    "5.1) Оновити опис товару: змінить існуючі значення певної характеристики"
   ],
   "metadata": {
    "collapsed": false
   }
  },
  {
   "cell_type": "code",
   "execution_count": 46,
   "outputs": [
    {
     "data": {
      "text/plain": "<cassandra.cluster.ResultSet at 0x7f6bdb45bbb0>"
     },
     "execution_count": 46,
     "metadata": {},
     "output_type": "execute_result"
    }
   ],
   "source": [
    "session.execute(\"\"\"\n",
    "UPDATE item\n",
    "SET properties['material'] = 'steel'\n",
    "WHERE category = 'Watch' and price = 350;\n",
    "\"\"\")"
   ],
   "metadata": {
    "collapsed": false
   }
  },
  {
   "cell_type": "code",
   "execution_count": 47,
   "outputs": [
    {
     "name": "stdout",
     "output_type": "stream",
     "text": [
      "Watch 350 Galaxy Watch5 Samsung {'feature': 'Sleep Coaching', 'material': 'steel'} \n",
      "\n"
     ]
    }
   ],
   "source": [
    "result = session.execute(\"\"\"\n",
    "SELECT *\n",
    "FROM item\n",
    "WHERE category = 'Watch' and price = 350;\"\"\")\n",
    "if result:\n",
    "    for row in result:\n",
    "        print(*row, '\\n')"
   ],
   "metadata": {
    "collapsed": false
   }
  },
  {
   "cell_type": "markdown",
   "source": [
    "5.2) Оновити опис товару: додайте нові властивості (характеристики) товару"
   ],
   "metadata": {
    "collapsed": false
   }
  },
  {
   "cell_type": "code",
   "execution_count": 48,
   "outputs": [
    {
     "data": {
      "text/plain": "<cassandra.cluster.ResultSet at 0x7f6b81afbe50>"
     },
     "execution_count": 48,
     "metadata": {},
     "output_type": "execute_result"
    }
   ],
   "source": [
    "session.execute(\"\"\"\n",
    "UPDATE item\n",
    "SET properties = properties + {'colour': 'red'}\n",
    "WHERE category = 'Watch' and price = 350;\n",
    "\"\"\")"
   ],
   "metadata": {
    "collapsed": false
   }
  },
  {
   "cell_type": "code",
   "execution_count": 49,
   "outputs": [
    {
     "name": "stdout",
     "output_type": "stream",
     "text": [
      "Watch 350 Galaxy Watch5 Samsung {'colour': 'red', 'feature': 'Sleep Coaching', 'material': 'steel'} \n",
      "\n"
     ]
    }
   ],
   "source": [
    "result = session.execute(\"\"\"\n",
    "SELECT *\n",
    "FROM item\n",
    "WHERE category = 'Watch' and price = 350;\"\"\")\n",
    "if result:\n",
    "    for row in result:\n",
    "        print(*row, '\\n')"
   ],
   "metadata": {
    "collapsed": false
   }
  },
  {
   "cell_type": "markdown",
   "source": [
    "5.3) Оновити опис товару: видалить характеристику товару\n"
   ],
   "metadata": {
    "collapsed": false
   }
  },
  {
   "cell_type": "code",
   "execution_count": 50,
   "outputs": [
    {
     "data": {
      "text/plain": "<cassandra.cluster.ResultSet at 0x7f6b81acf430>"
     },
     "execution_count": 50,
     "metadata": {},
     "output_type": "execute_result"
    }
   ],
   "source": [
    "session.execute(\"\"\"\n",
    "DELETE properties['feature'] FROM item\n",
    "WHERE category = 'Watch' and price = 350;\n",
    "\"\"\")"
   ],
   "metadata": {
    "collapsed": false
   }
  },
  {
   "cell_type": "code",
   "execution_count": 51,
   "outputs": [
    {
     "name": "stdout",
     "output_type": "stream",
     "text": [
      "Watch 350 Galaxy Watch5 Samsung {'colour': 'red', 'material': 'steel'} \n",
      "\n"
     ]
    }
   ],
   "source": [
    "result = session.execute(\"\"\"\n",
    "SELECT *\n",
    "FROM item\n",
    "WHERE category = 'Watch' and price = 350;\"\"\")\n",
    "if result:\n",
    "    for row in result:\n",
    "        print(*row, '\\n')"
   ],
   "metadata": {
    "collapsed": false
   }
  },
  {
   "cell_type": "markdown",
   "source": [],
   "metadata": {
    "collapsed": false
   }
  }
 ],
 "metadata": {
  "kernelspec": {
   "display_name": "Python 3",
   "language": "python",
   "name": "python3"
  },
  "language_info": {
   "codemirror_mode": {
    "name": "ipython",
    "version": 2
   },
   "file_extension": ".py",
   "mimetype": "text/x-python",
   "name": "python",
   "nbconvert_exporter": "python",
   "pygments_lexer": "ipython2",
   "version": "2.7.6"
  }
 },
 "nbformat": 4,
 "nbformat_minor": 0
}
