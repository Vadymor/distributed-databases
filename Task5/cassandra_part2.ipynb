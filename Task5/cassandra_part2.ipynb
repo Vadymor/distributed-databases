{
 "cells": [
  {
   "cell_type": "code",
   "execution_count": 1,
   "metadata": {
    "collapsed": true
   },
   "outputs": [],
   "source": [
    "from cassandra.cluster import Cluster"
   ]
  },
  {
   "cell_type": "code",
   "execution_count": 2,
   "outputs": [],
   "source": [
    "cluster = Cluster(['localhost'], port=9042)\n",
    "session = cluster.connect()"
   ],
   "metadata": {
    "collapsed": false
   }
  },
  {
   "cell_type": "code",
   "execution_count": 3,
   "outputs": [],
   "source": [
    "result = session.execute(\"\"\"USE shop\"\"\").one()\n",
    "if result:\n",
    "    print(result[0])"
   ],
   "metadata": {
    "collapsed": false
   }
  },
  {
   "cell_type": "code",
   "execution_count": 4,
   "outputs": [],
   "source": [
    "result = session.execute(\"\"\"\n",
    "CREATE TABLE IF NOT EXISTS orders (\n",
    "  name text,\n",
    "  created_at date,\n",
    "  amount int,\n",
    "  items list<int>,\n",
    "  PRIMARY KEY (name, created_at)\n",
    ")\n",
    "WITH CLUSTERING ORDER BY (created_at ASC);\n",
    "\"\"\")"
   ],
   "metadata": {
    "collapsed": false
   }
  },
  {
   "cell_type": "code",
   "execution_count": 5,
   "outputs": [
    {
     "data": {
      "text/plain": "<cassandra.cluster.ResultSet at 0x7f0a0f3f9bd0>"
     },
     "execution_count": 5,
     "metadata": {},
     "output_type": "execute_result"
    }
   ],
   "source": [
    "session.execute(\"\"\"\n",
    "INSERT INTO orders (\n",
    "    name, created_at, amount, items\n",
    ") VALUES (\n",
    "          'Vadym',\n",
    "          '2023-03-01',\n",
    "          1600,\n",
    "          [1, 2, 3]\n",
    "         );\n",
    "\"\"\")\n",
    "session.execute(\"\"\"\n",
    "INSERT INTO orders (\n",
    "    name, created_at, amount, items\n",
    ") VALUES (\n",
    "          'Vadym',\n",
    "          '2023-02-01',\n",
    "          100,\n",
    "          [4]\n",
    "         );\n",
    "\"\"\")\n",
    "session.execute(\"\"\"\n",
    "INSERT INTO orders (\n",
    "    name, created_at, amount, items\n",
    ") VALUES (\n",
    "          'Bohdan',\n",
    "          '2023-02-05',\n",
    "          800,\n",
    "          [1, 5]\n",
    "         );\n",
    "\"\"\")\n",
    "session.execute(\"\"\"\n",
    "INSERT INTO orders (\n",
    "    name, created_at, amount, items\n",
    ") VALUES (\n",
    "          'Bohdan',\n",
    "          '2023-03-13',\n",
    "          1390,\n",
    "          [3, 6]\n",
    "         );\n",
    "\"\"\")\n",
    "session.execute(\"\"\"\n",
    "INSERT INTO orders (\n",
    "    name, created_at, amount, items\n",
    ") VALUES (\n",
    "          'Andriy',\n",
    "          '2023-03-24',\n",
    "          2100,\n",
    "          [6, 7]\n",
    "         );\n",
    "\"\"\")"
   ],
   "metadata": {
    "collapsed": false
   }
  },
  {
   "cell_type": "markdown",
   "source": [
    "1) Напишіть запит, який показує структуру створеної таблиці (команда DESCRIBE)"
   ],
   "metadata": {
    "collapsed": false
   }
  },
  {
   "cell_type": "code",
   "execution_count": 6,
   "outputs": [
    {
     "name": "stdout",
     "output_type": "stream",
     "text": [
      "shop table orders CREATE TABLE shop.orders (\n",
      "    name text,\n",
      "    created_at date,\n",
      "    amount int,\n",
      "    items list<int>,\n",
      "    PRIMARY KEY (name, created_at)\n",
      ") WITH CLUSTERING ORDER BY (created_at ASC)\n",
      "    AND additional_write_policy = '99p'\n",
      "    AND bloom_filter_fp_chance = 0.01\n",
      "    AND caching = {'keys': 'ALL', 'rows_per_partition': 'NONE'}\n",
      "    AND cdc = false\n",
      "    AND comment = ''\n",
      "    AND compaction = {'class': 'org.apache.cassandra.db.compaction.SizeTieredCompactionStrategy', 'max_threshold': '32', 'min_threshold': '4'}\n",
      "    AND compression = {'chunk_length_in_kb': '16', 'class': 'org.apache.cassandra.io.compress.LZ4Compressor'}\n",
      "    AND memtable = 'default'\n",
      "    AND crc_check_chance = 1.0\n",
      "    AND default_time_to_live = 0\n",
      "    AND extensions = {}\n",
      "    AND gc_grace_seconds = 864000\n",
      "    AND max_index_interval = 2048\n",
      "    AND memtable_flush_period_in_ms = 0\n",
      "    AND min_index_interval = 128\n",
      "    AND read_repair = 'BLOCKING'\n",
      "    AND speculative_retry = '99p'; \n",
      "\n"
     ]
    }
   ],
   "source": [
    "result = session.execute(\"\"\"DESCRIBE TABLE orders;\n",
    "\"\"\")\n",
    "if result:\n",
    "    for row in result:\n",
    "        print(*row, '\\n')"
   ],
   "metadata": {
    "collapsed": false
   }
  },
  {
   "cell_type": "markdown",
   "source": [
    "2) Для замовника виведіть всі його замовлення відсортовані за часом коли вони були зроблені"
   ],
   "metadata": {
    "collapsed": false
   }
  },
  {
   "cell_type": "code",
   "execution_count": 7,
   "outputs": [
    {
     "name": "stdout",
     "output_type": "stream",
     "text": [
      "Vadym 2023-02-01 100 [4] \n",
      "\n",
      "Vadym 2023-03-01 1600 [1, 2, 3] \n",
      "\n"
     ]
    }
   ],
   "source": [
    "result = session.execute(\"\"\"\n",
    "SELECT *\n",
    "FROM orders\n",
    "WHERE name = 'Vadym'\n",
    "ORDER BY created_at;\n",
    "\"\"\")\n",
    "if result:\n",
    "    for row in result:\n",
    "        print(*row, '\\n')"
   ],
   "metadata": {
    "collapsed": false
   }
  },
  {
   "cell_type": "markdown",
   "source": [
    "3) Для замовника знайдіть замовлення з певним товаром"
   ],
   "metadata": {
    "collapsed": false
   }
  },
  {
   "cell_type": "code",
   "execution_count": 8,
   "outputs": [
    {
     "data": {
      "text/plain": "<cassandra.cluster.ResultSet at 0x7f0a0f797160>"
     },
     "execution_count": 8,
     "metadata": {},
     "output_type": "execute_result"
    }
   ],
   "source": [
    "session.execute(\"\"\"CREATE INDEX items_idx ON shop.orders (items);\n",
    "\"\"\")"
   ],
   "metadata": {
    "collapsed": false
   }
  },
  {
   "cell_type": "code",
   "execution_count": 9,
   "outputs": [
    {
     "name": "stdout",
     "output_type": "stream",
     "text": [
      "Vadym 2023-03-01 1600 [1, 2, 3] \n",
      "\n"
     ]
    }
   ],
   "source": [
    "result = session.execute(\"\"\"\n",
    "SELECT *\n",
    "FROM orders\n",
    "WHERE name = 'Vadym'\n",
    "  and items contains 2;\n",
    "\"\"\")\n",
    "if result:\n",
    "    for row in result:\n",
    "        print(*row, '\\n')"
   ],
   "metadata": {
    "collapsed": false
   }
  },
  {
   "cell_type": "markdown",
   "source": [
    "4) Для замовника знайдіть замовлення за певний період часу і їх кількість"
   ],
   "metadata": {
    "collapsed": false
   }
  },
  {
   "cell_type": "code",
   "execution_count": 10,
   "outputs": [
    {
     "name": "stdout",
     "output_type": "stream",
     "text": [
      "Vadym 2023-02-01 100 [4] \n",
      "\n"
     ]
    }
   ],
   "source": [
    "result = session.execute(\"\"\"\n",
    "SELECT *\n",
    "FROm orders\n",
    "WHERE name = 'Vadym'\n",
    "  and created_at > '2023-01-10'\n",
    "  and created_at < '2023-03-01';\n",
    "\"\"\")\n",
    "if result:\n",
    "    for row in result:\n",
    "        print(*row, '\\n')"
   ],
   "metadata": {
    "collapsed": false
   }
  },
  {
   "cell_type": "code",
   "execution_count": 11,
   "outputs": [
    {
     "name": "stdout",
     "output_type": "stream",
     "text": [
      "1 \n",
      "\n"
     ]
    }
   ],
   "source": [
    "result = session.execute(\"\"\"\n",
    "SELECT count(*)\n",
    "FROm orders\n",
    "WHERE name = 'Vadym'\n",
    "  and created_at > '2023-01-10'\n",
    "  and created_at < '2023-03-01';\n",
    "\"\"\")\n",
    "if result:\n",
    "    for row in result:\n",
    "        print(*row, '\\n')"
   ],
   "metadata": {
    "collapsed": false
   }
  },
  {
   "cell_type": "markdown",
   "source": [
    "5) Для кожного замовників визначте суму на яку були зроблені усі його замовлення"
   ],
   "metadata": {
    "collapsed": false
   }
  },
  {
   "cell_type": "code",
   "execution_count": 12,
   "outputs": [
    {
     "name": "stdout",
     "output_type": "stream",
     "text": [
      "Andriy 2100 \n",
      "\n",
      "Bohdan 2190 \n",
      "\n",
      "Vadym 1700 \n",
      "\n"
     ]
    }
   ],
   "source": [
    "result = session.execute(\"\"\"\n",
    "SELECT name, sum(amount) as total_amount\n",
    "FROM orders\n",
    "GROUP BY name;\n",
    "\"\"\")\n",
    "if result:\n",
    "    for row in result:\n",
    "        print(*row, '\\n')"
   ],
   "metadata": {
    "collapsed": false
   }
  },
  {
   "cell_type": "markdown",
   "source": [
    "6) Для кожного замовників визначте замовлення з максимальною вартістю"
   ],
   "metadata": {
    "collapsed": false
   }
  },
  {
   "cell_type": "code",
   "execution_count": 13,
   "outputs": [
    {
     "name": "stdout",
     "output_type": "stream",
     "text": [
      "Andriy 2100 2023-03-24 [6, 7] \n",
      "\n",
      "Bohdan 1390 2023-02-05 [1, 5] \n",
      "\n",
      "Vadym 1600 2023-02-01 [4] \n",
      "\n"
     ]
    }
   ],
   "source": [
    "result = session.execute(\"\"\"\n",
    "SELECT name, max(amount)  as max_amount, created_at, items\n",
    "FROM orders\n",
    "GROUP BY name;\n",
    "\"\"\")\n",
    "if result:\n",
    "    for row in result:\n",
    "        print(*row, '\\n')"
   ],
   "metadata": {
    "collapsed": false
   }
  },
  {
   "cell_type": "markdown",
   "source": [
    "7) Модифікуйте певне замовлення додавши / видаливши один або кілька товарів при цьому також змінюючи вартість замовлення"
   ],
   "metadata": {
    "collapsed": false
   }
  },
  {
   "cell_type": "code",
   "execution_count": 14,
   "outputs": [
    {
     "data": {
      "text/plain": "<cassandra.cluster.ResultSet at 0x7f0a0f37d270>"
     },
     "execution_count": 14,
     "metadata": {},
     "output_type": "execute_result"
    }
   ],
   "source": [
    "session.execute(\"\"\"\n",
    "UPDATE orders\n",
    "SET items = items + [8],\n",
    "    amount = 1870\n",
    "WHERE name = 'Vadym'\n",
    "  and created_at = '2023-02-01';\n",
    "\"\"\")"
   ],
   "metadata": {
    "collapsed": false
   }
  },
  {
   "cell_type": "code",
   "execution_count": 15,
   "outputs": [
    {
     "name": "stdout",
     "output_type": "stream",
     "text": [
      "Vadym 2023-02-01 1870 [4, 8] \n",
      "\n"
     ]
    }
   ],
   "source": [
    "result = session.execute(\"\"\"\n",
    "SELECT *\n",
    "FROM orders\n",
    "WHERE name = 'Vadym'\n",
    "  and created_at = '2023-02-01';\n",
    "\"\"\")\n",
    "if result:\n",
    "    for row in result:\n",
    "        print(*row, '\\n')"
   ],
   "metadata": {
    "collapsed": false
   }
  },
  {
   "cell_type": "markdown",
   "source": [
    "8) Для кожного замовлення виведіть час коли його ціна були занесена в базу (SELECT WRITETIME)"
   ],
   "metadata": {
    "collapsed": false
   }
  },
  {
   "cell_type": "code",
   "execution_count": 16,
   "outputs": [
    {
     "name": "stdout",
     "output_type": "stream",
     "text": [
      "Andriy 2023-03-24 2100 [6, 7] 1682426433158742 \n",
      "\n",
      "Bohdan 2023-02-05 800 [1, 5] 1682426433154961 \n",
      "\n",
      "Bohdan 2023-03-13 1390 [3, 6] 1682426433156951 \n",
      "\n",
      "Vadym 2023-02-01 1870 [4, 8] 1682426944509493 \n",
      "\n",
      "Vadym 2023-03-01 1600 [1, 2, 3] 1682426433147173 \n",
      "\n"
     ]
    }
   ],
   "source": [
    "result = session.execute(\"\"\"\n",
    "SELECT name, created_at, amount, items, WRITETIME (amount)\n",
    "FROM orders;\n",
    "\"\"\")\n",
    "if result:\n",
    "    for row in result:\n",
    "        print(*row, '\\n')"
   ],
   "metadata": {
    "collapsed": false
   }
  },
  {
   "cell_type": "markdown",
   "source": [
    "9) Створіть замовлення з певним часом життя (TTL), після якого воно видалиться"
   ],
   "metadata": {
    "collapsed": false
   }
  },
  {
   "cell_type": "code",
   "execution_count": 17,
   "outputs": [
    {
     "data": {
      "text/plain": "<cassandra.cluster.ResultSet at 0x7f0a0f3f8f40>"
     },
     "execution_count": 17,
     "metadata": {},
     "output_type": "execute_result"
    }
   ],
   "source": [
    "session.execute(\"\"\"\n",
    "INSERT INTO orders (\n",
    "    name, created_at, amount, items\n",
    ") VALUES (\n",
    "          'Andriy',\n",
    "          '2023-03-30',\n",
    "          1265,\n",
    "          [1, 10]\n",
    "         )\n",
    "USING TTL 60;\n",
    "\"\"\")"
   ],
   "metadata": {
    "collapsed": false
   }
  },
  {
   "cell_type": "code",
   "execution_count": 18,
   "outputs": [
    {
     "name": "stdout",
     "output_type": "stream",
     "text": [
      "Andriy 2023-03-30 1265 [1, 10] \n",
      "\n"
     ]
    }
   ],
   "source": [
    "result = session.execute(\"\"\"\n",
    "SELECT *\n",
    "FROM orders\n",
    "WHERE name = 'Andriy'\n",
    "  and created_at = '2023-03-30';\n",
    "\"\"\")\n",
    "if result:\n",
    "    for row in result:\n",
    "        print(*row, '\\n')"
   ],
   "metadata": {
    "collapsed": false
   }
  },
  {
   "cell_type": "markdown",
   "source": [
    "10) Поверніть замовлення у форматі JSON"
   ],
   "metadata": {
    "collapsed": false
   }
  },
  {
   "cell_type": "code",
   "execution_count": 19,
   "outputs": [
    {
     "name": "stdout",
     "output_type": "stream",
     "text": [
      "{\"name\": \"Andriy\", \"created_at\": \"2023-03-24\", \"amount\": 2100, \"items\": [6, 7]} \n",
      "\n",
      "{\"name\": \"Andriy\", \"created_at\": \"2023-03-30\", \"amount\": 1265, \"items\": [1, 10]} \n",
      "\n",
      "{\"name\": \"Bohdan\", \"created_at\": \"2023-02-05\", \"amount\": 800, \"items\": [1, 5]} \n",
      "\n",
      "{\"name\": \"Bohdan\", \"created_at\": \"2023-03-13\", \"amount\": 1390, \"items\": [3, 6]} \n",
      "\n",
      "{\"name\": \"Vadym\", \"created_at\": \"2023-02-01\", \"amount\": 1870, \"items\": [4, 8]} \n",
      "\n",
      "{\"name\": \"Vadym\", \"created_at\": \"2023-03-01\", \"amount\": 1600, \"items\": [1, 2, 3]} \n",
      "\n"
     ]
    }
   ],
   "source": [
    "result = session.execute(\"\"\"\n",
    "SELECT json *\n",
    "FROM orders;\n",
    "\"\"\")\n",
    "if result:\n",
    "    for row in result:\n",
    "        print(*row, '\\n')"
   ],
   "metadata": {
    "collapsed": false
   }
  },
  {
   "cell_type": "markdown",
   "source": [
    "11) Додайте замовлення у форматі JSON"
   ],
   "metadata": {
    "collapsed": false
   }
  },
  {
   "cell_type": "code",
   "execution_count": 20,
   "outputs": [
    {
     "data": {
      "text/plain": "<cassandra.cluster.ResultSet at 0x7f0a0f37cd00>"
     },
     "execution_count": 20,
     "metadata": {},
     "output_type": "execute_result"
    }
   ],
   "source": [
    "session.execute(\"\"\"\n",
    "INSERT INTO orders JSON '{\n",
    "  \"name\": \"Vadym\",\n",
    "  \"created_at\": \"2023-03-06\",\n",
    "  \"amount\": 845,\n",
    "  \"items\": [6, 12]\n",
    "}';\n",
    "\"\"\")"
   ],
   "metadata": {
    "collapsed": false
   }
  },
  {
   "cell_type": "code",
   "execution_count": 21,
   "outputs": [
    {
     "name": "stdout",
     "output_type": "stream",
     "text": [
      "Andriy 2023-03-24 2100 [6, 7] \n",
      "\n",
      "Andriy 2023-03-30 1265 [1, 10] \n",
      "\n",
      "Bohdan 2023-02-05 800 [1, 5] \n",
      "\n",
      "Bohdan 2023-03-13 1390 [3, 6] \n",
      "\n",
      "Vadym 2023-02-01 1870 [4, 8] \n",
      "\n",
      "Vadym 2023-03-01 1600 [1, 2, 3] \n",
      "\n",
      "Vadym 2023-03-06 845 [6, 12] \n",
      "\n"
     ]
    }
   ],
   "source": [
    "result = session.execute(\"\"\"\n",
    "SELECT *\n",
    "FROM orders;\n",
    "\"\"\")\n",
    "if result:\n",
    "    for row in result:\n",
    "        print(*row, '\\n')"
   ],
   "metadata": {
    "collapsed": false
   }
  }
 ],
 "metadata": {
  "kernelspec": {
   "display_name": "Python 3",
   "language": "python",
   "name": "python3"
  },
  "language_info": {
   "codemirror_mode": {
    "name": "ipython",
    "version": 2
   },
   "file_extension": ".py",
   "mimetype": "text/x-python",
   "name": "python",
   "nbconvert_exporter": "python",
   "pygments_lexer": "ipython2",
   "version": "2.7.6"
  }
 },
 "nbformat": 4,
 "nbformat_minor": 0
}
