{
 "cells": [
  {
   "cell_type": "code",
   "execution_count": 17,
   "metadata": {
    "collapsed": true
   },
   "outputs": [],
   "source": [
    "from neo4j import GraphDatabase, basic_auth\n",
    "import pandas as pd"
   ]
  },
  {
   "cell_type": "code",
   "execution_count": 6,
   "outputs": [],
   "source": [
    "class Neo4jConnection:\n",
    "\n",
    "    def __init__(self, uri, user, pwd):\n",
    "        self.__uri = uri\n",
    "        self.__user = user\n",
    "        self.__pwd = pwd\n",
    "        self.__driver = None\n",
    "        try:\n",
    "            self.__driver = GraphDatabase.driver(self.__uri, auth=(self.__user, self.__pwd))\n",
    "        except Exception as e:\n",
    "            print(\"Failed to create the driver:\", e)\n",
    "\n",
    "    def close(self):\n",
    "        if self.__driver is not None:\n",
    "            self.__driver.close()\n",
    "\n",
    "    def query(self, query, parameters=None, db=None):\n",
    "        assert self.__driver is not None, \"Driver not initialized!\"\n",
    "        session = None\n",
    "        response = None\n",
    "        try:\n",
    "            session = self.__driver.session(database=db) if db is not None else self.__driver.session()\n",
    "            response = list(session.run(query, parameters))\n",
    "        except Exception as e:\n",
    "            print(\"Query failed:\", e)\n",
    "        finally:\n",
    "            if session is not None:\n",
    "                session.close()\n",
    "        return response"
   ],
   "metadata": {
    "collapsed": false
   }
  },
  {
   "cell_type": "code",
   "execution_count": 7,
   "outputs": [],
   "source": [
    "conn = Neo4jConnection(uri=\"bolt://18.234.199.96:7687\",\n",
    "                       user=\"neo4j\",\n",
    "                       pwd=\"trip-classes-delights\")"
   ],
   "metadata": {
    "collapsed": false
   }
  },
  {
   "cell_type": "code",
   "execution_count": 11,
   "outputs": [
    {
     "data": {
      "text/plain": "[]"
     },
     "execution_count": 11,
     "metadata": {},
     "output_type": "execute_result"
    }
   ],
   "source": [
    "insert_query = \"\"\"\n",
    "CREATE\n",
    "  (iphone14:Item {id: 1, name: 'iPhone 14', price: 900}),\n",
    "  (iphone13:Item {id: 2, name: 'iPhone 13', price: 800}),\n",
    "  (galaxys23:Item {id: 3, name: 'Galaxy s23', price: 850}),\n",
    "  (watchseries8:Item {id: 4, name: 'Watch series 8', price: 400}),\n",
    "\n",
    "  (cust_v:Customer {id: 1, name: 'Vadym'}),\n",
    "  (cust_a:Customer {id: 2, name: 'Andriy'}),\n",
    "\n",
    "  (order1:Order {id: 1, date: date(\"2022-03-01\")}),\n",
    "  (order2:Order {id: 2, date: date(\"2022-03-12\")}),\n",
    "  (order3:Order {id: 3, date: date(\"2019-03-23\")}),\n",
    "\n",
    "  (cust_v)-[:BOUGHT]->(order1),\n",
    "  (cust_v)-[:BOUGHT]->(order2),\n",
    "  (cust_a)-[:BOUGHT]->(order3),\n",
    "\n",
    "  (order1) - [: CONTAINS]->(iphone14),\n",
    "  (order1) - [: CONTAINS]->(iphone13),\n",
    "  (order2) - [: CONTAINS]->(galaxys23),\n",
    "  (order3) - [: CONTAINS]->(galaxys23),\n",
    "  (order3) - [: CONTAINS]->(watchseries8),\n",
    "\n",
    "  (cust_v) - [: VIEW]->(watchseries8),\n",
    "  (cust_a) - [: VIEW]->(iphone14)\n",
    "\"\"\"\n",
    "conn.query(insert_query)"
   ],
   "metadata": {
    "collapsed": false
   }
  },
  {
   "cell_type": "code",
   "execution_count": 68,
   "outputs": [
    {
     "data": {
      "text/plain": "[]"
     },
     "execution_count": 68,
     "metadata": {},
     "output_type": "execute_result"
    }
   ],
   "source": [
    "insert_query2 = \"\"\"\n",
    "MATCH (c:Customer {id: 1}), (i:Item {id: 1})\n",
    "CREATE (c) - [: VIEW] -> (i)\n",
    "\"\"\"\n",
    "conn.query(insert_query2)"
   ],
   "metadata": {
    "collapsed": false
   }
  },
  {
   "cell_type": "markdown",
   "source": [
    "Знайти Items які входять в конкретний Order (за Order id)"
   ],
   "metadata": {
    "collapsed": false
   }
  },
  {
   "cell_type": "code",
   "execution_count": 22,
   "outputs": [
    {
     "data": {
      "text/plain": "   Item.name  Item.price\n0  iPhone 13         800\n1  iPhone 14         900",
      "text/html": "<div>\n<style scoped>\n    .dataframe tbody tr th:only-of-type {\n        vertical-align: middle;\n    }\n\n    .dataframe tbody tr th {\n        vertical-align: top;\n    }\n\n    .dataframe thead th {\n        text-align: right;\n    }\n</style>\n<table border=\"1\" class=\"dataframe\">\n  <thead>\n    <tr style=\"text-align: right;\">\n      <th></th>\n      <th>Item.name</th>\n      <th>Item.price</th>\n    </tr>\n  </thead>\n  <tbody>\n    <tr>\n      <th>0</th>\n      <td>iPhone 13</td>\n      <td>800</td>\n    </tr>\n    <tr>\n      <th>1</th>\n      <td>iPhone 14</td>\n      <td>900</td>\n    </tr>\n  </tbody>\n</table>\n</div>"
     },
     "execution_count": 22,
     "metadata": {},
     "output_type": "execute_result"
    }
   ],
   "source": [
    "query = \"\"\"\n",
    "MATCH (o:Order)-[:CONTAINS]-(Item)\n",
    "WHERE o.id = 1\n",
    "RETURN Item.name, Item.price\"\"\"\n",
    "df = pd.DataFrame([dict(_) for _ in conn.query(query)])\n",
    "df"
   ],
   "metadata": {
    "collapsed": false
   }
  },
  {
   "cell_type": "markdown",
   "source": [
    "Підрахувати вартість конкретного Order"
   ],
   "metadata": {
    "collapsed": false
   }
  },
  {
   "cell_type": "code",
   "execution_count": 23,
   "outputs": [
    {
     "data": {
      "text/plain": "   sum(Item.price)\n0             1700",
      "text/html": "<div>\n<style scoped>\n    .dataframe tbody tr th:only-of-type {\n        vertical-align: middle;\n    }\n\n    .dataframe tbody tr th {\n        vertical-align: top;\n    }\n\n    .dataframe thead th {\n        text-align: right;\n    }\n</style>\n<table border=\"1\" class=\"dataframe\">\n  <thead>\n    <tr style=\"text-align: right;\">\n      <th></th>\n      <th>sum(Item.price)</th>\n    </tr>\n  </thead>\n  <tbody>\n    <tr>\n      <th>0</th>\n      <td>1700</td>\n    </tr>\n  </tbody>\n</table>\n</div>"
     },
     "execution_count": 23,
     "metadata": {},
     "output_type": "execute_result"
    }
   ],
   "source": [
    "query = \"\"\"\n",
    "MATCH (o:Order)-[:CONTAINS]-(Item)\n",
    "WHERE o.id = 1\n",
    "RETURN sum(Item.price)\"\"\"\n",
    "df = pd.DataFrame([dict(_) for _ in conn.query(query)])\n",
    "df"
   ],
   "metadata": {
    "collapsed": false
   }
  },
  {
   "cell_type": "markdown",
   "source": [
    "Знайти всі Orders конкретного Customer"
   ],
   "metadata": {
    "collapsed": false
   }
  },
  {
   "cell_type": "code",
   "execution_count": 24,
   "outputs": [
    {
     "data": {
      "text/plain": "   o.id      o.date\n0     2  2022-03-12\n1     1  2022-03-01",
      "text/html": "<div>\n<style scoped>\n    .dataframe tbody tr th:only-of-type {\n        vertical-align: middle;\n    }\n\n    .dataframe tbody tr th {\n        vertical-align: top;\n    }\n\n    .dataframe thead th {\n        text-align: right;\n    }\n</style>\n<table border=\"1\" class=\"dataframe\">\n  <thead>\n    <tr style=\"text-align: right;\">\n      <th></th>\n      <th>o.id</th>\n      <th>o.date</th>\n    </tr>\n  </thead>\n  <tbody>\n    <tr>\n      <th>0</th>\n      <td>2</td>\n      <td>2022-03-12</td>\n    </tr>\n    <tr>\n      <th>1</th>\n      <td>1</td>\n      <td>2022-03-01</td>\n    </tr>\n  </tbody>\n</table>\n</div>"
     },
     "execution_count": 24,
     "metadata": {},
     "output_type": "execute_result"
    }
   ],
   "source": [
    "query = \"\"\"\n",
    "MATCH (c:Customer)-[:BOUGHT]-(o:Order)\n",
    "WHERE c.id = 1\n",
    "RETURN o.id, o.date\"\"\"\n",
    "df = pd.DataFrame([dict(_) for _ in conn.query(query)])\n",
    "df"
   ],
   "metadata": {
    "collapsed": false
   }
  },
  {
   "cell_type": "markdown",
   "source": [
    "Знайти всі Items куплені конкретним Customer (через його Orders)"
   ],
   "metadata": {
    "collapsed": false
   }
  },
  {
   "cell_type": "code",
   "execution_count": 26,
   "outputs": [
    {
     "data": {
      "text/plain": "       i.name  i.price\n0  Galaxy s23      850\n1   iPhone 13      800\n2   iPhone 14      900",
      "text/html": "<div>\n<style scoped>\n    .dataframe tbody tr th:only-of-type {\n        vertical-align: middle;\n    }\n\n    .dataframe tbody tr th {\n        vertical-align: top;\n    }\n\n    .dataframe thead th {\n        text-align: right;\n    }\n</style>\n<table border=\"1\" class=\"dataframe\">\n  <thead>\n    <tr style=\"text-align: right;\">\n      <th></th>\n      <th>i.name</th>\n      <th>i.price</th>\n    </tr>\n  </thead>\n  <tbody>\n    <tr>\n      <th>0</th>\n      <td>Galaxy s23</td>\n      <td>850</td>\n    </tr>\n    <tr>\n      <th>1</th>\n      <td>iPhone 13</td>\n      <td>800</td>\n    </tr>\n    <tr>\n      <th>2</th>\n      <td>iPhone 14</td>\n      <td>900</td>\n    </tr>\n  </tbody>\n</table>\n</div>"
     },
     "execution_count": 26,
     "metadata": {},
     "output_type": "execute_result"
    }
   ],
   "source": [
    "query = \"\"\"\n",
    "MATCH (c:Customer)-[:BOUGHT]-(o:Order)-[:CONTAINS]-(i:Item)\n",
    "WHERE c.id = 1\n",
    "RETURN i.name, i.price\"\"\"\n",
    "df = pd.DataFrame([dict(_) for _ in conn.query(query)])\n",
    "df"
   ],
   "metadata": {
    "collapsed": false
   }
  },
  {
   "cell_type": "markdown",
   "source": [
    "Знайти загальну кількість Items куплені конкретним Customer (через його Order)"
   ],
   "metadata": {
    "collapsed": false
   }
  },
  {
   "cell_type": "code",
   "execution_count": 27,
   "outputs": [
    {
     "data": {
      "text/plain": "   items_cnt\n0          3",
      "text/html": "<div>\n<style scoped>\n    .dataframe tbody tr th:only-of-type {\n        vertical-align: middle;\n    }\n\n    .dataframe tbody tr th {\n        vertical-align: top;\n    }\n\n    .dataframe thead th {\n        text-align: right;\n    }\n</style>\n<table border=\"1\" class=\"dataframe\">\n  <thead>\n    <tr style=\"text-align: right;\">\n      <th></th>\n      <th>items_cnt</th>\n    </tr>\n  </thead>\n  <tbody>\n    <tr>\n      <th>0</th>\n      <td>3</td>\n    </tr>\n  </tbody>\n</table>\n</div>"
     },
     "execution_count": 27,
     "metadata": {},
     "output_type": "execute_result"
    }
   ],
   "source": [
    "query = \"\"\"\n",
    "MATCH (c:Customer)-[:BOUGHT]-(o:Order)-[:CONTAINS]-(i:Item)\n",
    "WHERE c.id = 1\n",
    "RETURN count(i) as items_cnt\"\"\"\n",
    "df = pd.DataFrame([dict(_) for _ in conn.query(query)])\n",
    "df"
   ],
   "metadata": {
    "collapsed": false
   }
  },
  {
   "cell_type": "markdown",
   "source": [
    "Знайти для Customer на яку загальну суму він придбав товарів (через його Order)"
   ],
   "metadata": {
    "collapsed": false
   }
  },
  {
   "cell_type": "code",
   "execution_count": 28,
   "outputs": [
    {
     "data": {
      "text/plain": "   total_price\n0         2550",
      "text/html": "<div>\n<style scoped>\n    .dataframe tbody tr th:only-of-type {\n        vertical-align: middle;\n    }\n\n    .dataframe tbody tr th {\n        vertical-align: top;\n    }\n\n    .dataframe thead th {\n        text-align: right;\n    }\n</style>\n<table border=\"1\" class=\"dataframe\">\n  <thead>\n    <tr style=\"text-align: right;\">\n      <th></th>\n      <th>total_price</th>\n    </tr>\n  </thead>\n  <tbody>\n    <tr>\n      <th>0</th>\n      <td>2550</td>\n    </tr>\n  </tbody>\n</table>\n</div>"
     },
     "execution_count": 28,
     "metadata": {},
     "output_type": "execute_result"
    }
   ],
   "source": [
    "query = \"\"\"\n",
    "MATCH (c:Customer)-[:BOUGHT]-(o:Order)-[:CONTAINS]-(i:Item)\n",
    "WHERE c.id = 1\n",
    "RETURN sum(i.price) as total_price\"\"\"\n",
    "df = pd.DataFrame([dict(_) for _ in conn.query(query)])\n",
    "df"
   ],
   "metadata": {
    "collapsed": false
   }
  },
  {
   "cell_type": "markdown",
   "source": [
    "Знайті скільки разів кожен товар був придбаний, відсортувати за цим значенням"
   ],
   "metadata": {
    "collapsed": false
   }
  },
  {
   "cell_type": "code",
   "execution_count": 32,
   "outputs": [
    {
     "data": {
      "text/plain": "           i.name  cnt\n0      Galaxy s23    2\n1       iPhone 13    1\n2       iPhone 14    1\n3  Watch series 8    1",
      "text/html": "<div>\n<style scoped>\n    .dataframe tbody tr th:only-of-type {\n        vertical-align: middle;\n    }\n\n    .dataframe tbody tr th {\n        vertical-align: top;\n    }\n\n    .dataframe thead th {\n        text-align: right;\n    }\n</style>\n<table border=\"1\" class=\"dataframe\">\n  <thead>\n    <tr style=\"text-align: right;\">\n      <th></th>\n      <th>i.name</th>\n      <th>cnt</th>\n    </tr>\n  </thead>\n  <tbody>\n    <tr>\n      <th>0</th>\n      <td>Galaxy s23</td>\n      <td>2</td>\n    </tr>\n    <tr>\n      <th>1</th>\n      <td>iPhone 13</td>\n      <td>1</td>\n    </tr>\n    <tr>\n      <th>2</th>\n      <td>iPhone 14</td>\n      <td>1</td>\n    </tr>\n    <tr>\n      <th>3</th>\n      <td>Watch series 8</td>\n      <td>1</td>\n    </tr>\n  </tbody>\n</table>\n</div>"
     },
     "execution_count": 32,
     "metadata": {},
     "output_type": "execute_result"
    }
   ],
   "source": [
    "query = \"\"\"\n",
    "MATCH (o:Order)-[:CONTAINS]-(i:Item)\n",
    "RETURN i.name, count(i) as cnt\n",
    "ORDER BY cnt DESC\"\"\"\n",
    "df = pd.DataFrame([dict(_) for _ in conn.query(query)])\n",
    "df"
   ],
   "metadata": {
    "collapsed": false
   }
  },
  {
   "cell_type": "markdown",
   "source": [
    "Знайти всі Items переглянуті (view) конкретним Customer"
   ],
   "metadata": {
    "collapsed": false
   }
  },
  {
   "cell_type": "code",
   "execution_count": 77,
   "outputs": [
    {
     "data": {
      "text/plain": "           i.name  i.price\n0       iPhone 14      900\n1  Watch series 8      400",
      "text/html": "<div>\n<style scoped>\n    .dataframe tbody tr th:only-of-type {\n        vertical-align: middle;\n    }\n\n    .dataframe tbody tr th {\n        vertical-align: top;\n    }\n\n    .dataframe thead th {\n        text-align: right;\n    }\n</style>\n<table border=\"1\" class=\"dataframe\">\n  <thead>\n    <tr style=\"text-align: right;\">\n      <th></th>\n      <th>i.name</th>\n      <th>i.price</th>\n    </tr>\n  </thead>\n  <tbody>\n    <tr>\n      <th>0</th>\n      <td>iPhone 14</td>\n      <td>900</td>\n    </tr>\n    <tr>\n      <th>1</th>\n      <td>Watch series 8</td>\n      <td>400</td>\n    </tr>\n  </tbody>\n</table>\n</div>"
     },
     "execution_count": 77,
     "metadata": {},
     "output_type": "execute_result"
    }
   ],
   "source": [
    "query = \"\"\"\n",
    "MATCH (c:Customer)-[:VIEW]-(i:Item)\n",
    "WHERE c.id = 1\n",
    "RETURN i.name, i.price\"\"\"\n",
    "df = pd.DataFrame([dict(_) for _ in conn.query(query)])\n",
    "df"
   ],
   "metadata": {
    "collapsed": false
   }
  },
  {
   "cell_type": "markdown",
   "source": [
    "Знайти інші Items що купувались разом з конкретним Item (тобто всі Items що входять до Order-s разом з даними Item)"
   ],
   "metadata": {
    "collapsed": false
   }
  },
  {
   "cell_type": "code",
   "execution_count": 47,
   "outputs": [
    {
     "data": {
      "text/plain": "           i.name\n0  Watch series 8",
      "text/html": "<div>\n<style scoped>\n    .dataframe tbody tr th:only-of-type {\n        vertical-align: middle;\n    }\n\n    .dataframe tbody tr th {\n        vertical-align: top;\n    }\n\n    .dataframe thead th {\n        text-align: right;\n    }\n</style>\n<table border=\"1\" class=\"dataframe\">\n  <thead>\n    <tr style=\"text-align: right;\">\n      <th></th>\n      <th>i.name</th>\n    </tr>\n  </thead>\n  <tbody>\n    <tr>\n      <th>0</th>\n      <td>Watch series 8</td>\n    </tr>\n  </tbody>\n</table>\n</div>"
     },
     "execution_count": 47,
     "metadata": {},
     "output_type": "execute_result"
    }
   ],
   "source": [
    "query = \"\"\"\n",
    "MATCH (o:Order)-[:CONTAINS]-(i:Item)\n",
    "WHERE EXISTS {MATCH (o)-[:CONTAINS]-(:Item {id: 3})}\n",
    "    AND i.id <> 3\n",
    "RETURN i.name\"\"\"\n",
    "df = pd.DataFrame([dict(_) for _ in conn.query(query)])\n",
    "df"
   ],
   "metadata": {
    "collapsed": false
   }
  },
  {
   "cell_type": "markdown",
   "source": [
    "Знайти Customers які купили даний конкретний Item"
   ],
   "metadata": {
    "collapsed": false
   }
  },
  {
   "cell_type": "code",
   "execution_count": 59,
   "outputs": [
    {
     "data": {
      "text/plain": "   c.name\n0  Andriy\n1   Vadym",
      "text/html": "<div>\n<style scoped>\n    .dataframe tbody tr th:only-of-type {\n        vertical-align: middle;\n    }\n\n    .dataframe tbody tr th {\n        vertical-align: top;\n    }\n\n    .dataframe thead th {\n        text-align: right;\n    }\n</style>\n<table border=\"1\" class=\"dataframe\">\n  <thead>\n    <tr style=\"text-align: right;\">\n      <th></th>\n      <th>c.name</th>\n    </tr>\n  </thead>\n  <tbody>\n    <tr>\n      <th>0</th>\n      <td>Andriy</td>\n    </tr>\n    <tr>\n      <th>1</th>\n      <td>Vadym</td>\n    </tr>\n  </tbody>\n</table>\n</div>"
     },
     "execution_count": 59,
     "metadata": {},
     "output_type": "execute_result"
    }
   ],
   "source": [
    "query = \"\"\"\n",
    "MATCH (c:Customer)-[:BOUGHT]-(o:Order)-[:CONTAINS]-(i:Item {id: 3})\n",
    "RETURN DISTINCT c.name\"\"\"\n",
    "df = pd.DataFrame([dict(_) for _ in conn.query(query)])\n",
    "df"
   ],
   "metadata": {
    "collapsed": false
   }
  },
  {
   "cell_type": "markdown",
   "source": [
    "Знайти для певного Customer(а) товари, які він переглядав, але не купив"
   ],
   "metadata": {
    "collapsed": false
   }
  },
  {
   "cell_type": "code",
   "execution_count": 76,
   "outputs": [
    {
     "data": {
      "text/plain": "           i.name  i.price\n0  Watch series 8      400",
      "text/html": "<div>\n<style scoped>\n    .dataframe tbody tr th:only-of-type {\n        vertical-align: middle;\n    }\n\n    .dataframe tbody tr th {\n        vertical-align: top;\n    }\n\n    .dataframe thead th {\n        text-align: right;\n    }\n</style>\n<table border=\"1\" class=\"dataframe\">\n  <thead>\n    <tr style=\"text-align: right;\">\n      <th></th>\n      <th>i.name</th>\n      <th>i.price</th>\n    </tr>\n  </thead>\n  <tbody>\n    <tr>\n      <th>0</th>\n      <td>Watch series 8</td>\n      <td>400</td>\n    </tr>\n  </tbody>\n</table>\n</div>"
     },
     "execution_count": 76,
     "metadata": {},
     "output_type": "execute_result"
    }
   ],
   "source": [
    "query = \"\"\"\n",
    "MATCH (c:Customer {id: 1})-[:VIEW]-(i:Item)\n",
    "WHERE NOT EXISTS {MATCH (c)-[:BOUGHT]-(o:Order)-[:CONTAINS]-(i)}\n",
    "RETURN i.name, i.price\"\"\"\n",
    "df = pd.DataFrame([dict(_) for _ in conn.query(query)])\n",
    "df"
   ],
   "metadata": {
    "collapsed": false
   }
  }
 ],
 "metadata": {
  "kernelspec": {
   "display_name": "Python 3",
   "language": "python",
   "name": "python3"
  },
  "language_info": {
   "codemirror_mode": {
    "name": "ipython",
    "version": 2
   },
   "file_extension": ".py",
   "mimetype": "text/x-python",
   "name": "python",
   "nbconvert_exporter": "python",
   "pygments_lexer": "ipython2",
   "version": "2.7.6"
  }
 },
 "nbformat": 4,
 "nbformat_minor": 0
}
